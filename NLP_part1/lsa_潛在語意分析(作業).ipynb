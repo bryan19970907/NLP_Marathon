{
  "nbformat": 4,
  "nbformat_minor": 0,
  "metadata": {
    "colab": {
      "name": "lsa_潛在語意分析(作業)",
      "provenance": [],
      "collapsed_sections": []
    },
    "kernelspec": {
      "name": "python3",
      "display_name": "Python 3"
    }
  },
  "cells": [
    {
      "cell_type": "code",
      "metadata": {
        "colab": {
          "base_uri": "https://localhost:8080/"
        },
        "id": "i9JnLy1ts7D5",
        "outputId": "ac7fce19-250f-48fa-e375-9162b050d33b"
      },
      "source": [
        "from google.colab import drive\r\n",
        "drive.mount('/content/drive')"
      ],
      "execution_count": 1,
      "outputs": [
        {
          "output_type": "stream",
          "text": [
            "Mounted at /content/drive\n"
          ],
          "name": "stdout"
        }
      ]
    },
    {
      "cell_type": "code",
      "metadata": {
        "colab": {
          "base_uri": "https://localhost:8080/"
        },
        "id": "SBaz9m4vtBY-",
        "outputId": "0507f3fe-a37e-40e9-9112-4112e8c6180f"
      },
      "source": [
        "%cd './drive/My Drive/NLP/day37'"
      ],
      "execution_count": 2,
      "outputs": [
        {
          "output_type": "stream",
          "text": [
            "/content/drive/My Drive/NLP/day37\n"
          ],
          "name": "stdout"
        }
      ]
    },
    {
      "cell_type": "code",
      "metadata": {
        "id": "-wxSGzy-s6W_"
      },
      "source": [
        "#題目:從文章題目(title)檔中用SVD得到文字的潛在語意\r\n",
        "#說明：TruncateSVD()是用來降低文字維度到2或3維的。我們如果以在這些文章題目(title)出現的單字當作字集\r\n",
        "#(vocabulary)，再將這些字集以文章數長度編成獨熱碼(one hot encoding)，所以維度是文章數。\r\n",
        "#SVD將其降至低維，再用matplotlib把前兩維攤在平面上，我們可用放大鏡來檢視各個字在這些文章題目中彼此的\r\n",
        "#距離。\r\n",
        "\r\n",
        "#延伸:可用不同的tokenizer，不同的tokens_to_vector(count based vs frequency based vs TF-IDF)，\r\n",
        "#不同的降維方式做改進潛在語意分布。\r\n",
        "\r\n",
        "#範例程式檔名: lsa_潛在語意分析.py，以TruncateSVD 方式完成降維。\r\n",
        "#模組: sklearn, matplotlib, numpy, nltk\r\n",
        "#輸入檔：all_book_titles.txt，stopwords.txt\r\n",
        "#成績：改變原程式(也就是延伸)但仍能達到同樣或更佳效果\r\n",
        "\r\n",
        "from __future__ import print_function, division\r\n",
        "from builtins import range"
      ],
      "execution_count": 3,
      "outputs": []
    },
    {
      "cell_type": "code",
      "metadata": {
        "id": "y4GJlt6utL7d"
      },
      "source": [
        "import nltk\r\n",
        "import numpy as np\r\n",
        "import matplotlib.pyplot as plt\r\n",
        "from nltk.stem import WordNetLemmatizer\r\n",
        "from sklearn.decomposition import TruncatedSVD"
      ],
      "execution_count": 4,
      "outputs": []
    },
    {
      "cell_type": "code",
      "metadata": {
        "colab": {
          "base_uri": "https://localhost:8080/"
        },
        "id": "ms_A5L_QtMhs",
        "outputId": "bb77703c-d5fe-49d0-fe45-c3910794bacc"
      },
      "source": [
        "nltk.download(['punkt','averaged_perceptron_tagger','wordnet'])"
      ],
      "execution_count": 5,
      "outputs": [
        {
          "output_type": "stream",
          "text": [
            "[nltk_data] Downloading package punkt to /root/nltk_data...\n",
            "[nltk_data]   Unzipping tokenizers/punkt.zip.\n",
            "[nltk_data] Downloading package averaged_perceptron_tagger to\n",
            "[nltk_data]     /root/nltk_data...\n",
            "[nltk_data]   Unzipping taggers/averaged_perceptron_tagger.zip.\n",
            "[nltk_data] Downloading package wordnet to /root/nltk_data...\n",
            "[nltk_data]   Unzipping corpora/wordnet.zip.\n"
          ],
          "name": "stdout"
        },
        {
          "output_type": "execute_result",
          "data": {
            "text/plain": [
              "True"
            ]
          },
          "metadata": {
            "tags": []
          },
          "execution_count": 5
        }
      ]
    },
    {
      "cell_type": "code",
      "metadata": {
        "id": "JJn8CqIMtSxy"
      },
      "source": [
        "wordnet_lemmatizer = WordNetLemmatizer()\r\n",
        "\r\n",
        "titles = [line.rstrip() for line in open('all_book_titles(作業數據).txt')]\r\n",
        "\r\n",
        "# 和情緒分析用一樣的tokenizer\r\n",
        "stopwords = set(w.rstrip() for w in open('stopwords(作業數據) (1).txt'))\r\n",
        "\r\n",
        "# 也可嘗試以nltk處理 stopwords 的方式\r\n",
        "# from nltk.corpus import stopwords\r\n",
        "# stopwords.words('english')\r\n",
        "\r\n",
        "# 增加處理這問題必要的 stopwords\r\n",
        "stopwords = stopwords.union({\r\n",
        "    'introduction', 'edition', 'series', 'application',\r\n",
        "    'approach', 'card', 'access', 'package', 'plus', 'etext',\r\n",
        "    'brief', 'vol', 'fundamental', 'guide', 'essential', 'printed',\r\n",
        "    'third', 'second', 'fourth', })"
      ],
      "execution_count": 6,
      "outputs": []
    },
    {
      "cell_type": "code",
      "metadata": {
        "id": "9FyT4CJBuRiX"
      },
      "source": [
        "from nltk.corpus import wordnet\r\n",
        "\r\n",
        "def my_tokenizer(s):\r\n",
        "    s = s.lower() # downcase\r\n",
        "    tokens = nltk.word_tokenize(s) # 將字串改為tokens\r\n",
        "    tokens = [t for t in tokens if len(t) > 2] # 去除短字\r\n",
        "    ######################\r\n",
        "    tokens = [t for t in tokens if t not in stopwords] # 去除 stopwords\r\n",
        "    pos = nltk.pos_tag(tokens)\r\n",
        "    \r\n",
        "    token_list = []\r\n",
        "    for t , p in (pos):\r\n",
        "      if p.startswith('J'):\r\n",
        "        pos = wordnet.ADJ\r\n",
        "      elif p.startswith('V'):\r\n",
        "        pos = wordnet.VERB\r\n",
        "      elif p.startswith('N'):\r\n",
        "        pos = wordnet.NOUN\r\n",
        "      elif p.startswith('R'):\r\n",
        "        pos = wordnet.ADV\r\n",
        "      else:\r\n",
        "        pos = wordnet.NOUN\r\n",
        "      tk = wordnet_lemmatizer.lemmatize(t,pos)\r\n",
        "      token_list.append(tk)\r\n",
        "\r\n",
        "    tokens = [t for t in token_list if not any(c.isdigit() for c in t)] # 移除數字，比方 \"3rd edition\"\r\n",
        "    return tokens"
      ],
      "execution_count": 7,
      "outputs": []
    },
    {
      "cell_type": "code",
      "metadata": {
        "colab": {
          "base_uri": "https://localhost:8080/"
        },
        "id": "Pge9fsLaukn2",
        "outputId": "89363bd1-ae48-437a-ff7e-48194004b19a"
      },
      "source": [
        "# 先產生 word-to-index map 再產生 word-frequency vectors\r\n",
        "# 同時儲存 tokenized 版本未來不需再做 tokenization\r\n",
        "word_index_map = {}\r\n",
        "current_index = 0\r\n",
        "all_tokens = []\r\n",
        "all_titles = []\r\n",
        "index_word_map = []\r\n",
        "error_count = 0\r\n",
        "for title in titles:\r\n",
        "    try:\r\n",
        "        title = title.encode('ascii', 'ignore').decode('utf-8') # this will throw exception if bad characters\r\n",
        "        all_titles.append(title)\r\n",
        "        tokens = my_tokenizer(title)\r\n",
        "        all_tokens.append(tokens)\r\n",
        "        for token in tokens:\r\n",
        "            if token not in word_index_map:\r\n",
        "                word_index_map[token] = current_index\r\n",
        "                current_index += 1\r\n",
        "                index_word_map.append(token)\r\n",
        "    except Exception as e:\r\n",
        "        print(e)\r\n",
        "        print(title)\r\n",
        "        error_count += 1\r\n",
        "\r\n",
        "\r\n",
        "print(\"Number of errors parsing file:\", error_count, \"number of lines in file:\", len(titles))\r\n",
        "if error_count == len(titles):\r\n",
        "    print(\"There is no data to do anything with! Quitting...\")"
      ],
      "execution_count": 8,
      "outputs": [
        {
          "output_type": "stream",
          "text": [
            "Number of errors parsing file: 0 number of lines in file: 2373\n"
          ],
          "name": "stdout"
        }
      ]
    },
    {
      "cell_type": "code",
      "metadata": {
        "id": "wacOg1DLunqa"
      },
      "source": [
        "# 產生輸入矩陣 - 是否出現(indicator)較比例(proportions)更準\r\n",
        "def tokens_to_vector(tokens):\r\n",
        "    x = np.zeros(len(word_index_map))\r\n",
        "    for t in tokens:\r\n",
        "        i = word_index_map[t]\r\n",
        "        x[i] = 1\r\n",
        "    return x"
      ],
      "execution_count": 9,
      "outputs": []
    },
    {
      "cell_type": "code",
      "metadata": {
        "id": "aOMslMReuqTM"
      },
      "source": [
        "N = len(all_tokens)\r\n",
        "D = len(word_index_map)\r\n",
        "X = np.zeros((D, N)) # 字彙是列, 文件是行\r\n",
        "i = 0\r\n",
        "for tokens in all_tokens:\r\n",
        "    X[:,i] = tokens_to_vector(tokens)\r\n",
        "    i += 1"
      ],
      "execution_count": 10,
      "outputs": []
    },
    {
      "cell_type": "code",
      "metadata": {
        "colab": {
          "base_uri": "https://localhost:8080/",
          "height": 296
        },
        "id": "0fkp5HHVsCKy",
        "outputId": "dd4d9b85-09be-4b95-ffe2-70f904b92ec0"
      },
      "source": [
        "def main():\r\n",
        "    svd = TruncatedSVD()\r\n",
        "    Z = svd.fit_transform(X)\r\n",
        "    # ref:https://stackoverflow.com/questions/12608788/changing-the-tick-frequency-on-x-or-y-axis-in-matplotlib\r\n",
        "    plt.scatter(Z[:,0], Z[:,1])\r\n",
        "    for i in range(D):\r\n",
        "        plt.annotate(s=index_word_map[i], xy=(Z[i,0], Z[i,1]))\r\n",
        "    plt.tight_layout()\r\n",
        "    plt.show()\r\n",
        "\r\n",
        "if __name__ == '__main__':\r\n",
        "    main()\r\n"
      ],
      "execution_count": 16,
      "outputs": [
        {
          "output_type": "display_data",
          "data": {
            "image/png": "[encoded data removed]",
            "text/plain": [
              "<Figure size 432x288 with 1 Axes>"
            ]
          },
          "metadata": {
            "tags": [],
            "needs_background": "light"
          }
        }
      ]
    }
  ]
}