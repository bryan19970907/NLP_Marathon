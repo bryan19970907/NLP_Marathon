{
  "nbformat": 4,
  "nbformat_minor": 0,
  "metadata": {
    "kernelspec": {
      "display_name": "pytorch_env",
      "language": "python",
      "name": "pytorch_env"
    },
    "language_info": {
      "codemirror_mode": {
        "name": "ipython",
        "version": 3
      },
      "file_extension": ".py",
      "mimetype": "text/x-python",
      "name": "python",
      "nbconvert_exporter": "python",
      "pygments_lexer": "ipython3",
      "version": "3.7.3"
    },
    "colab": {
      "name": "斷詞作業.ipynb",
      "provenance": [],
      "collapsed_sections": []
    }
  },
  "cells": [
    {
      "cell_type": "markdown",
      "metadata": {
        "id": "KzSD7yLRNCFW"
      },
      "source": [
        "## 作業目標: 了解斷詞演算法的背後計算"
      ]
    },
    {
      "cell_type": "markdown",
      "metadata": {
        "id": "tpOvk2a3NCFe"
      },
      "source": [
        "### 根據課程講述的內容, 請計算出下列剩餘所有情況的\n",
        "若有一個人連續觀察到三天水草都是乾燥的(Dry), 則這三天的天氣機率為何？(可參考講義第13頁)\n",
        "(Hint: 共有8種可能機率)\n",
        "\n",
        "```python\n",
        "states = ('sunny', 'rainy')\n",
        "observations = ('dry', 'damp', 'soggy')\n",
        "start_probability = {'sunny': 0.4, 'rainy': 0.6}\n",
        "transition_probability = {'sunny':{'sunny':0.6, 'rainy':0.4},'rainy':{'sunny':0.3, 'rainy':0.7}}\n",
        "emission_probatility = {'sunny': {'dry':0.6, 'damp':0.3, 'soggy':0.1},'rainy': {'dry':0.1, 'damp':0.4, 'soggy':0.5}}\n",
        "```"
      ]
    },
    {
      "cell_type": "markdown",
      "metadata": {
        "id": "lYw72aKFNCFf"
      },
      "source": [
        "```\n",
        "觀察狀態 = 'dry', 'dry', 'dry'\n",
        "Sunny, Sunny, Sunny: 0.4*(0.6)*0.6*(0.6)*0.6*(0.6) = 0.031104\n",
        "Rainy, Sunny, Sunny: 0.6*(0.1)*0.3*(0.6)*0.6*(0.6) = 0.003888\n",
        "###<your answers>###\n",
        "Sunny , Sunny , Rainy: 0.4*(0.6)*0.6*(0.6)*0.4*(0.1) = 0.003456\n",
        "Sunny , Rainy , Sunny: 0.4*(0.6)*0.4*(0.1)*0.3*(0.6) = 0.001728\n",
        "Sunny , Rainy , Rainy: 0.4*(0.6)*0.4*(0.1)*0.7*(0.1) = 0.001728\n",
        "Rainy , Sunny , Rainy: 0.6*(0.1)*0.3*(0.6)*0.4*(0.1) = 0.000432\n",
        "Rainy , Rainy , Sunny: 0.6*(0.1)*0.7*(0.1)*0.3*(0.1) = 0.000126\n",
        "Rainy , Rainy , Rainy: 0.6*(0.1)*0.7*(0.1)*0.7*(0.1) = 0.000294\n",
        "\n",
        "最大機率為: Sunny, Sunny, Sunny\n",
        "```"
      ]
    },
    {
      "cell_type": "markdown",
      "metadata": {
        "id": "Ge6AKWooNCFg"
      },
      "source": [
        "### 根據上述條件, 寫出Viterbi應用程式"
      ]
    },
    {
      "cell_type": "code",
      "metadata": {
        "id": "MiJ7PLgONCFg"
      },
      "source": [
        "observations = ('dry', 'dry', 'dry') #實際上觀察到的狀態為dry, dry, dry\n",
        "states = ('sunny', 'rainy')\n",
        "start_probability = {'sunny': 0.4, 'rainy': 0.6}\n",
        "transition_probability = {'sunny':{'sunny':0.6, 'rainy':0.4},'rainy': {'sunny':0.3, 'rainy':0.7}}\n",
        "emission_probability = {'sunny': {'dry':0.6, 'damp':0.3, 'soggy':0.1},'rainy': {'dry':0.1, 'damp':0.4, 'soggy':0.5}}"
      ],
      "execution_count": 8,
      "outputs": []
    },
    {
      "cell_type": "code",
      "metadata": {
        "id": "ifLCGM53NCFh"
      },
      "source": [
        "# ref:https://blog.csdn.net/u014258362/article/details/90636540\n",
        "def viterbi(obs, states, start_p, trans_p, emit_p):\n",
        "    # 路徑機率表V[時間][隱藏狀態]=機率\n",
        "    V = [{}]\n",
        "    # 一個中間變量，代表當前狀態是哪個隱藏狀態\n",
        "    # dictionary\n",
        "    path = {}\n",
        "\n",
        "    # Initialize base cases (t == 0)\n",
        "    for y in states:\n",
        "        ###<your codes>###\n",
        "        # obs會是一個array\n",
        "        V[0][y] = start_p[y] * emission_probability[y][obs[0]]\n",
        "        path[y]=y\n",
        "    # Run Viterbi for t > 0\n",
        "    for t in range(1,len(obs)):\n",
        "        V.append({})\n",
        "        newpath={}\n",
        "        ###<your codes>###\n",
        "        for y in states:\n",
        "          # max()内部比較的是一個tuple:(p,s0),max比較tuple内的第一個元素值\n",
        "          (prob, state) = max([ ( V[t - 1][y0] * trans_p[y0][y] * emit_p[y][obs[t]] , y0) for y0 in states ])\n",
        "          V[t][y] = prob\n",
        "          # add values to existing keys\n",
        "          newpath[y] = path[state] + ' , ' + y\n",
        "        # Don't need to remember the old paths\n",
        "        path = newpath\n",
        "    \n",
        "    (prob, state) = max([(V[len(obs) - 1][final_state], final_state) for final_state in states])\n",
        "    return (prob, path[state])"
      ],
      "execution_count": 21,
      "outputs": []
    },
    {
      "cell_type": "code",
      "metadata": {
        "id": "RpLCfTJQNCFh"
      },
      "source": [
        "result = viterbi(observations,states,start_probability,transition_probability,emission_probability)"
      ],
      "execution_count": 22,
      "outputs": []
    },
    {
      "cell_type": "code",
      "metadata": {
        "id": "D3n6CdRTNCFi",
        "colab": {
          "base_uri": "https://localhost:8080/"
        },
        "outputId": "da356fb6-1b78-4c23-bb5a-1a7a38588151"
      },
      "source": [
        "result"
      ],
      "execution_count": 23,
      "outputs": [
        {
          "output_type": "execute_result",
          "data": {
            "text/plain": [
              "(0.031103999999999993, 'sunny , sunny , sunny')"
            ]
          },
          "metadata": {
            "tags": []
          },
          "execution_count": 23
        }
      ]
    }
  ]
}