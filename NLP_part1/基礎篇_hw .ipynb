{
  "nbformat": 4,
  "nbformat_minor": 0,
  "metadata": {
    "colab": {
      "name": "基礎篇_hw.ipynb",
      "provenance": [],
      "collapsed_sections": []
    },
    "kernelspec": {
      "display_name": "Python 3.6.5 64-bit",
      "name": "python36564bitc3c936632e8a4243a25c20fc16c690eb"
    },
    "language_info": {
      "codemirror_mode": {
        "name": "ipython",
        "version": 3
      },
      "file_extension": ".py",
      "mimetype": "text/x-python",
      "name": "python",
      "nbconvert_exporter": "python",
      "pygments_lexer": "ipython3",
      "version": "3.6.5-final"
    },
    "widgets": {
      "application/vnd.jupyter.widget-state+json": {
        "b4255fbe11fc48ccb8308cebc9e64c7f": {
          "model_module": "@jupyter-widgets/controls",
          "model_name": "LabelModel",
          "state": {
            "_view_name": "LabelView",
            "style": "IPY_MODEL_f2a51e3d0d7a44ada9a0ad7ace4847a3",
            "_dom_classes": [],
            "description": "",
            "_model_name": "LabelModel",
            "placeholder": "​",
            "_view_module": "@jupyter-widgets/controls",
            "_model_module_version": "1.5.0",
            "value": " 我的國\t我的心\t我的世\t我的植\t我的慾\t我的工\t我的對\t我的研\t我的圓\t我的官",
            "_view_count": null,
            "_view_module_version": "1.5.0",
            "description_tooltip": null,
            "_model_module": "@jupyter-widgets/controls",
            "layout": "IPY_MODEL_9726896fedae4c9b88215148bd9b9457"
          }
        },
        "f2a51e3d0d7a44ada9a0ad7ace4847a3": {
          "model_module": "@jupyter-widgets/controls",
          "model_name": "DescriptionStyleModel",
          "state": {
            "_view_name": "StyleView",
            "_model_name": "DescriptionStyleModel",
            "description_width": "",
            "_view_module": "@jupyter-widgets/base",
            "_model_module_version": "1.5.0",
            "_view_count": null,
            "_view_module_version": "1.2.0",
            "_model_module": "@jupyter-widgets/controls"
          }
        },
        "9726896fedae4c9b88215148bd9b9457": {
          "model_module": "@jupyter-widgets/base",
          "model_name": "LayoutModel",
          "state": {
            "_view_name": "LayoutView",
            "grid_template_rows": null,
            "right": null,
            "justify_content": null,
            "_view_module": "@jupyter-widgets/base",
            "overflow": null,
            "_model_module_version": "1.2.0",
            "_view_count": null,
            "flex_flow": null,
            "width": null,
            "min_width": null,
            "border": null,
            "align_items": null,
            "bottom": null,
            "_model_module": "@jupyter-widgets/base",
            "top": null,
            "grid_column": null,
            "overflow_y": null,
            "overflow_x": null,
            "grid_auto_flow": null,
            "grid_area": null,
            "grid_template_columns": null,
            "flex": null,
            "_model_name": "LayoutModel",
            "justify_items": null,
            "grid_row": null,
            "max_height": null,
            "align_content": null,
            "visibility": null,
            "align_self": null,
            "height": null,
            "min_height": null,
            "padding": null,
            "grid_auto_rows": null,
            "grid_gap": null,
            "max_width": null,
            "order": null,
            "_view_module_version": "1.2.0",
            "grid_template_areas": null,
            "object_position": null,
            "object_fit": null,
            "grid_auto_columns": null,
            "margin": null,
            "display": null,
            "left": null
          }
        },
        "c0c847925e684df1a095ad4fe3da36d8": {
          "model_module": "@jupyter-widgets/controls",
          "model_name": "TextareaModel",
          "state": {
            "_view_name": "TextareaView",
            "style": "IPY_MODEL_b73c997abd194dfdbec76b1f9e0240a9",
            "rows": null,
            "_dom_classes": [],
            "description": "",
            "_model_name": "TextareaModel",
            "placeholder": "​",
            "_view_module": "@jupyter-widgets/controls",
            "_model_module_version": "1.5.0",
            "value": "我的",
            "_view_count": null,
            "disabled": false,
            "_view_module_version": "1.5.0",
            "continuous_update": true,
            "description_tooltip": null,
            "_model_module": "@jupyter-widgets/controls",
            "layout": "IPY_MODEL_9fa4c28d2ef84e9f99c75c9608be36d7"
          }
        },
        "b73c997abd194dfdbec76b1f9e0240a9": {
          "model_module": "@jupyter-widgets/controls",
          "model_name": "DescriptionStyleModel",
          "state": {
            "_view_name": "StyleView",
            "_model_name": "DescriptionStyleModel",
            "description_width": "",
            "_view_module": "@jupyter-widgets/base",
            "_model_module_version": "1.5.0",
            "_view_count": null,
            "_view_module_version": "1.2.0",
            "_model_module": "@jupyter-widgets/controls"
          }
        },
        "9fa4c28d2ef84e9f99c75c9608be36d7": {
          "model_module": "@jupyter-widgets/base",
          "model_name": "LayoutModel",
          "state": {
            "_view_name": "LayoutView",
            "grid_template_rows": null,
            "right": null,
            "justify_content": null,
            "_view_module": "@jupyter-widgets/base",
            "overflow": null,
            "_model_module_version": "1.2.0",
            "_view_count": null,
            "flex_flow": null,
            "width": null,
            "min_width": null,
            "border": null,
            "align_items": null,
            "bottom": null,
            "_model_module": "@jupyter-widgets/base",
            "top": null,
            "grid_column": null,
            "overflow_y": null,
            "overflow_x": null,
            "grid_auto_flow": null,
            "grid_area": null,
            "grid_template_columns": null,
            "flex": null,
            "_model_name": "LayoutModel",
            "justify_items": null,
            "grid_row": null,
            "max_height": null,
            "align_content": null,
            "visibility": null,
            "align_self": null,
            "height": null,
            "min_height": null,
            "padding": null,
            "grid_auto_rows": null,
            "grid_gap": null,
            "max_width": null,
            "order": null,
            "_view_module_version": "1.2.0",
            "grid_template_areas": null,
            "object_position": null,
            "object_fit": null,
            "grid_auto_columns": null,
            "margin": null,
            "display": null,
            "left": null
          }
        }
      }
    }
  },
  "cells": [
    {
      "cell_type": "markdown",
      "metadata": {
        "id": "dpYyaBgoJLR4"
      },
      "source": [
        "# 自製智能中文選字系統  (1)"
      ]
    },
    {
      "cell_type": "code",
      "metadata": {
        "colab": {
          "base_uri": "https://localhost:8080/"
        },
        "id": "QNQEAIHTLHqj",
        "outputId": "2f674515-5391-4d60-f40b-9adff8cd8d64"
      },
      "source": [
        "from google.colab import drive\r\n",
        "drive.mount('/content/drive')"
      ],
      "execution_count": 1,
      "outputs": [
        {
          "output_type": "stream",
          "text": [
            "Drive already mounted at /content/drive; to attempt to forcibly remount, call drive.mount(\"/content/drive\", force_remount=True).\n"
          ],
          "name": "stdout"
        }
      ]
    },
    {
      "cell_type": "code",
      "metadata": {
        "colab": {
          "base_uri": "https://localhost:8080/"
        },
        "id": "P7ufaUkRLQeE",
        "outputId": "eb9da6f0-ec1e-40b3-a9d8-ace1144bb6c5"
      },
      "source": [
        "%cd './drive/My Drive/NLP/day29'"
      ],
      "execution_count": 2,
      "outputs": [
        {
          "output_type": "stream",
          "text": [
            "/content/drive/My Drive/NLP/day29\n"
          ],
          "name": "stdout"
        }
      ]
    },
    {
      "cell_type": "code",
      "metadata": {
        "colab": {
          "base_uri": "https://localhost:8080/",
          "height": 35
        },
        "id": "6dC4iuglJLSB",
        "outputId": "fa777e63-42db-4ef0-d803-c22086c5ce2b"
      },
      "source": [
        "import sys\n",
        "sys.version"
      ],
      "execution_count": 3,
      "outputs": [
        {
          "output_type": "execute_result",
          "data": {
            "application/vnd.google.colaboratory.intrinsic+json": {
              "type": "string"
            },
            "text/plain": [
              "'3.6.9 (default, Oct  8 2020, 12:12:24) \\n[GCC 8.4.0]'"
            ]
          },
          "metadata": {
            "tags": []
          },
          "execution_count": 3
        }
      ]
    },
    {
      "cell_type": "markdown",
      "metadata": {
        "id": "9fQnVHVmJLSH"
      },
      "source": [
        "## 資料前處理"
      ]
    },
    {
      "cell_type": "markdown",
      "metadata": {
        "id": "aQIl0BP5JLSH"
      },
      "source": [
        "確認版本為 python3"
      ]
    },
    {
      "cell_type": "code",
      "metadata": {
        "id": "8wG3IWB2JLSI"
      },
      "source": [
        "import re"
      ],
      "execution_count": 4,
      "outputs": []
    },
    {
      "cell_type": "code",
      "metadata": {
        "colab": {
          "base_uri": "https://localhost:8080/"
        },
        "id": "_CAOh4EXkCYq",
        "outputId": "d9553c7a-69fb-483d-f76e-1c4f6c06a94a"
      },
      "source": [
        "!ls"
      ],
      "execution_count": null,
      "outputs": [
        {
          "output_type": "stream",
          "text": [
            "data  data.zip\twiki_zh_small.txt  基礎篇_hw.ipynb\n"
          ],
          "name": "stdout"
        }
      ]
    },
    {
      "cell_type": "code",
      "metadata": {
        "id": "xZXcaXMRJLSL"
      },
      "source": [
        "def preprocess_line(line):\n",
        "    # 僅僅挑出中文字元，並且斷開不連續的中文字(斷句)\n",
        "    pattern = '[\\u4E00-\\u9FCC]+'\n",
        "    if line!=None:\n",
        "      word_list = re.findall(pattern , line)\n",
        "    return word_list"
      ],
      "execution_count": 5,
      "outputs": []
    },
    {
      "cell_type": "code",
      "metadata": {
        "colab": {
          "base_uri": "https://localhost:8080/"
        },
        "id": "1V1YPovTJLSO",
        "outputId": "6c9c9250-96b8-42be-da8c-9edb24ac667b"
      },
      "source": [
        "preprocess_line('“英語”一詞源於遷居英格蘭的日耳曼部落盎格魯（），而“盎格魯”得名於')  \n",
        "# 應該為：['英語', '一詞源於遷居英格蘭的日耳曼部落盎格魯', '而', '盎格魯', '得名於']"
      ],
      "execution_count": 6,
      "outputs": [
        {
          "output_type": "execute_result",
          "data": {
            "text/plain": [
              "['英語', '一詞源於遷居英格蘭的日耳曼部落盎格魯', '而', '盎格魯', '得名於']"
            ]
          },
          "metadata": {
            "tags": []
          },
          "execution_count": 6
        }
      ]
    },
    {
      "cell_type": "code",
      "metadata": {
        "id": "xuRTq3ptJLR6"
      },
      "source": [
        "segments = []\n",
        "with open('./wiki_zh_small.txt' , encoding='utf-8') as fr:\n",
        "    for line in fr.readlines():\n",
        "        #segments += prepocess_line(line)\n",
        "        segments.extend(preprocess_line(line))\n",
        "#print(segments)"
      ],
      "execution_count": 7,
      "outputs": []
    },
    {
      "cell_type": "code",
      "metadata": {
        "colab": {
          "base_uri": "https://localhost:8080/"
        },
        "id": "RFKNfPaX2Qmj",
        "outputId": "ef94e220-27c6-486d-e8ce-0829d115057a"
      },
      "source": [
        "print(len(segments))"
      ],
      "execution_count": 8,
      "outputs": [
        {
          "output_type": "stream",
          "text": [
            "48768\n"
          ],
          "name": "stdout"
        }
      ]
    },
    {
      "cell_type": "markdown",
      "metadata": {
        "id": "N-E0XU7lJLSQ"
      },
      "source": [
        "## Ngram\n",
        "\n",
        "一開始要先計算字詞出現的次數"
      ]
    },
    {
      "cell_type": "code",
      "metadata": {
        "id": "U0GNtfVnJLSR"
      },
      "source": [
        "from collections import Counter\n",
        "\n",
        "class Counters:\n",
        "    def __init__(self, n):\n",
        "        self.n = n\n",
        "        self.counters = [Counter() for _ in range(n + 1)]  # 分別代表計算0、1、...個字的出現次數\n",
        "\n",
        "    def fit(self, segments):\n",
        "        # 因為 self.counters 分別代表計算0、1、...個字的出現次數\n",
        "        # 請在此實作利用 segments 以及函式 _skip 來統計次數\n",
        "        # ref:https://pymotw.com/2/collections/counter.html\n",
        "        # 出現0個字代表在統計總共有多少字(重複字也算)\n",
        "        for i in range(self.n+1):\n",
        "          for segment in segments:\n",
        "            if i ==0:\n",
        "              self.counters[i].update([\"\"]*len(segment))\n",
        "            else:\n",
        "              self.counters[i].update(self._skip(segment , i))\n",
        "        \n",
        "        return self.counters\n",
        "\n",
        "    def __getitem__(self, k):\n",
        "        return self.counters[k]\n",
        "\n",
        "    def _skip(self, segment, n):\n",
        "        assert n > 0\n",
        "        if len(segment) < n:\n",
        "            return []\n",
        "        shift = n - 1\n",
        "        for i in range(len(segment) - shift):\n",
        "            yield segment[i:i+shift+1]"
      ],
      "execution_count": 9,
      "outputs": []
    },
    {
      "cell_type": "code",
      "metadata": {
        "id": "F4-d0YiMJLSU"
      },
      "source": [
        "counters = Counters(n=3)\n",
        "counters.fit(segments)"
      ],
      "execution_count": null,
      "outputs": []
    },
    {
      "cell_type": "code",
      "metadata": {
        "id": "UpCDHjXHJLSW",
        "colab": {
          "base_uri": "https://localhost:8080/"
        },
        "outputId": "73323ff3-bbe6-4c41-bf93-873821ae84d4"
      },
      "source": [
        "counters[0]\n",
        "# 應該為： Counter({'': 371373})"
      ],
      "execution_count": 11,
      "outputs": [
        {
          "output_type": "execute_result",
          "data": {
            "text/plain": [
              "Counter({'': 371370})"
            ]
          },
          "metadata": {
            "tags": []
          },
          "execution_count": 11
        }
      ]
    },
    {
      "cell_type": "code",
      "metadata": {
        "id": "x2gOKTEyJLSY"
      },
      "source": [
        "class Ngram:\n",
        "    def __init__(self, n, counters):\n",
        "        assert n <= counters.n\n",
        "        self.n = n\n",
        "        self.major_counter = counters[n]\n",
        "        self.minor_counter = counters[n-1]\n",
        "\n",
        "    def predict_proba(self, prefix='', top_k=5):\n",
        "        assert len(prefix) >= self.n - 1\n",
        "        # 使用 Ngram 的公式計算出下一個字出現的機率\n",
        "        # 輸出為機率與字的tuple列表，詳見下方輸出範例\n",
        "        sorted_probs = []\n",
        "        if self.n==1:\n",
        "          total = sum(self.major_counter.values())\n",
        "        else:\n",
        "          prefix = prefix[-(self.n-1):]\n",
        "          # ref:https://stackoverflow.com/questions/19523563/python-typeerror-int-object-is-not-iterable\n",
        "          # int object is not iterable，所以sum裡面要加[]\n",
        "          total = sum([self.minor_counter[prefix]])\n",
        "        \n",
        "        for word , counts in self.major_counter.items():\n",
        "          if self.n == 1:\n",
        "            prob = counts/total\n",
        "            sorted_probs.append((prob , word))\n",
        "          else:\n",
        "            if word[:-1] == prefix[len(prefix)-self.n+1:]:\n",
        "              prob = counts/total\n",
        "              sorted_probs.append((prob , word))\n",
        "\n",
        "        sorted_probs = sorted(sorted_probs , key = lambda x : x[0] , reverse = True)\n",
        "        return sorted_probs[:top_k] if top_k > 0 else sorted_probs\n",
        "\n",
        "    def get_proba_dict(self, prefix=''):\n",
        "        return {word: prob for prob, word in self.predict_proba(prefix, top_k=-1)}\n"
      ],
      "execution_count": 12,
      "outputs": []
    },
    {
      "cell_type": "code",
      "metadata": {
        "id": "mErL4AtjJLSc"
      },
      "source": [
        "unigram = Ngram(1, counters)"
      ],
      "execution_count": 13,
      "outputs": []
    },
    {
      "cell_type": "code",
      "metadata": {
        "colab": {
          "base_uri": "https://localhost:8080/"
        },
        "id": "X7z-GWaJPWw9",
        "outputId": "f6c8ec45-9f16-49d3-e05b-7314139ca4e4"
      },
      "source": [
        "unigram.predict_proba('我思')\r\n",
        "# 應該為：[(0.035732269174118744, '的'),\r\n",
        "#         (0.012927703414087723, '國'),\r\n",
        "#         (0.010620050461395955, '中'),\r\n",
        "#         (0.009984570768472667, '在'),\r\n",
        "#         (0.009852627950874188, '一')]"
      ],
      "execution_count": 14,
      "outputs": [
        {
          "output_type": "execute_result",
          "data": {
            "text/plain": [
              "[(0.035732557826426474, '的'),\n",
              " (0.012927807846621966, '國'),\n",
              " (0.010620136252255163, '中'),\n",
              " (0.00998465142580176, '在'),\n",
              " (0.009852707542343216, '一')]"
            ]
          },
          "metadata": {
            "tags": []
          },
          "execution_count": 14
        }
      ]
    },
    {
      "cell_type": "code",
      "metadata": {
        "id": "vYRqughPJLSh"
      },
      "source": [
        "bigram = Ngram(2, counters)\n",
        "trigram = Ngram(3, counters)"
      ],
      "execution_count": 15,
      "outputs": []
    },
    {
      "cell_type": "markdown",
      "metadata": {
        "id": "lG6TV-8iJLSj"
      },
      "source": [
        "## 使用Ngram來建立第一版選字系統"
      ]
    },
    {
      "cell_type": "code",
      "metadata": {
        "id": "Ak-zlXIGJLSk"
      },
      "source": [
        "class ChineseWordRecommenderV1:\n",
        "    def __init__(self, unigram, bigram, trigram):\n",
        "        self.unigram = unigram\n",
        "        self.bigram = bigram\n",
        "        self.trigram = trigram\n",
        "    \n",
        "    def predict_proba(self, prefix='', top_k=5):\n",
        "        # 使用Ngram來建立選字系統\n",
        "        if len(prefix) == 0:\n",
        "          return self.unigram.predict_proba(prefix , top_k)\n",
        "        elif len(prefix)==1 :\n",
        "          return self.bigram.predict_proba(prefix , top_k)\n",
        "        else:\n",
        "          return self.trigram.predict_proba(prefix , top_k)\n"
      ],
      "execution_count": 16,
      "outputs": []
    },
    {
      "cell_type": "code",
      "metadata": {
        "id": "0LS4xO4XJLSl"
      },
      "source": [
        "model = ChineseWordRecommenderV1(unigram, bigram, trigram)"
      ],
      "execution_count": 17,
      "outputs": []
    },
    {
      "cell_type": "code",
      "metadata": {
        "id": "j8pziwHnJLSn",
        "colab": {
          "base_uri": "https://localhost:8080/"
        },
        "outputId": "f6305f54-bf4f-4fb9-f788-e118b48b795c"
      },
      "source": [
        "probs = model.predict_proba('我思', top_k=10)\n",
        "probs"
      ],
      "execution_count": 18,
      "outputs": [
        {
          "output_type": "execute_result",
          "data": {
            "text/plain": [
              "[(0.75, '我思故'), (0.25, '我思維')]"
            ]
          },
          "metadata": {
            "tags": []
          },
          "execution_count": 18
        }
      ]
    },
    {
      "cell_type": "markdown",
      "metadata": {
        "id": "sM7_WCTmJLSq"
      },
      "source": [
        "## Demo"
      ]
    },
    {
      "cell_type": "code",
      "metadata": {
        "id": "8zOHOeYLJLSq",
        "colab": {
          "base_uri": "https://localhost:8080/"
        },
        "outputId": "a7e7e88a-c775-41e4-e551-ae6e7fadfb86"
      },
      "source": [
        "!pip install -U pip\n",
        "!pip install -q ipywidgets"
      ],
      "execution_count": 19,
      "outputs": [
        {
          "output_type": "stream",
          "text": [
            "Requirement already satisfied: pip in /usr/local/lib/python3.6/dist-packages (20.3.3)\n"
          ],
          "name": "stdout"
        }
      ]
    },
    {
      "cell_type": "code",
      "metadata": {
        "colab": {
          "base_uri": "https://localhost:8080/",
          "height": 193,
          "referenced_widgets": [
            "b4255fbe11fc48ccb8308cebc9e64c7f",
            "f2a51e3d0d7a44ada9a0ad7ace4847a3",
            "9726896fedae4c9b88215148bd9b9457",
            "c0c847925e684df1a095ad4fe3da36d8",
            "b73c997abd194dfdbec76b1f9e0240a9",
            "9fa4c28d2ef84e9f99c75c9608be36d7"
          ]
        },
        "id": "Qsupw9BoJLSs",
        "outputId": "bb39207b-e6b2-44ce-99ae-915ba0a3891f"
      },
      "source": [
        "import ipywidgets as widgets\n",
        "\n",
        "text = widgets.Textarea()\n",
        "# The Label widget is useful if you need to build a custom description next to a control using similar styling to the built-in control descriptions.\n",
        "label = widgets.Label()\n",
        "display(label, text)\n",
        "\n",
        "def func(change):\n",
        "    print(change)\n",
        "    print(type(change))\n",
        "    print('------')\n",
        "    # https://ipywidgets.readthedocs.io/en/stable/examples/Widget%20List.html\n",
        "    # https://stackoverflow.com/questions/56286221/what-is-the-difference-between-bunch-and-dictionary-type-in-python\n",
        "    # 可以將keys當成attribute使用\n",
        "    probs = model.predict_proba(change.new, top_k=10)\n",
        "    label.value = ' ' + '\\t'.join([word for prob, word in probs])\n",
        "\n",
        "#  the observe method of the widget can be used to register a callback\n",
        "text.observe(func, names='value')"
      ],
      "execution_count": 20,
      "outputs": [
        {
          "output_type": "display_data",
          "data": {
            "application/vnd.jupyter.widget-view+json": {
              "model_id": "b4255fbe11fc48ccb8308cebc9e64c7f",
              "version_minor": 0,
              "version_major": 2
            },
            "text/plain": [
              "Label(value='')"
            ]
          },
          "metadata": {
            "tags": []
          }
        },
        {
          "output_type": "display_data",
          "data": {
            "application/vnd.jupyter.widget-view+json": {
              "model_id": "c0c847925e684df1a095ad4fe3da36d8",
              "version_minor": 0,
              "version_major": 2
            },
            "text/plain": [
              "Textarea(value='')"
            ]
          },
          "metadata": {
            "tags": []
          }
        },
        {
          "output_type": "stream",
          "text": [
            "{'name': 'value', 'old': '', 'new': '我', 'owner': Textarea(value='我'), 'type': 'change'}\n",
            "<class 'traitlets.utils.bunch.Bunch'>\n",
            "------\n",
            "{'name': 'value', 'old': '我', 'new': '我的', 'owner': Textarea(value='我的'), 'type': 'change'}\n",
            "<class 'traitlets.utils.bunch.Bunch'>\n",
            "------\n"
          ],
          "name": "stdout"
        }
      ]
    },
    {
      "cell_type": "code",
      "metadata": {
        "id": "pLrjn44rJLSu"
      },
      "source": [
        ""
      ],
      "execution_count": null,
      "outputs": []
    },
    {
      "cell_type": "code",
      "metadata": {
        "id": "2ezmZB9cJLSw"
      },
      "source": [
        ""
      ],
      "execution_count": null,
      "outputs": []
    }
  ]
}