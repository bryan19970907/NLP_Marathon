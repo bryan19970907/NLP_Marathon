{
  "nbformat": 4,
  "nbformat_minor": 0,
  "metadata": {
    "language_info": {
      "codemirror_mode": {
        "name": "ipython",
        "version": 3
      },
      "file_extension": ".py",
      "mimetype": "text/x-python",
      "name": "python",
      "nbconvert_exporter": "python",
      "pygments_lexer": "ipython3",
      "version": "3.6.8-final"
    },
    "orig_nbformat": 2,
    "kernelspec": {
      "name": "python_defaultSpec_1597541602087",
      "display_name": "Python 3.6.8 64-bit ('ENV': venv)"
    },
    "colab": {
      "name": "分類器_基礎篇_hw.ipynb",
      "provenance": [],
      "collapsed_sections": []
    },
    "widgets": {
      "application/vnd.jupyter.widget-state+json": {
        "f9824c3a892a4a7493c474a6a86f9c9a": {
          "model_module": "@jupyter-widgets/controls",
          "model_name": "HBoxModel",
          "state": {
            "_view_name": "HBoxView",
            "_dom_classes": [],
            "_model_name": "HBoxModel",
            "_view_module": "@jupyter-widgets/controls",
            "_model_module_version": "1.5.0",
            "_view_count": null,
            "_view_module_version": "1.5.0",
            "box_style": "",
            "layout": "IPY_MODEL_8a21dd8faf8349f288fc30d64ad2d8a9",
            "_model_module": "@jupyter-widgets/controls",
            "children": [
              "IPY_MODEL_98dab511c6014cc69161ef67ddea0162",
              "IPY_MODEL_74277c02051e4e78b5856793a6ca7992"
            ]
          }
        },
        "8a21dd8faf8349f288fc30d64ad2d8a9": {
          "model_module": "@jupyter-widgets/base",
          "model_name": "LayoutModel",
          "state": {
            "_view_name": "LayoutView",
            "grid_template_rows": null,
            "right": null,
            "justify_content": null,
            "_view_module": "@jupyter-widgets/base",
            "overflow": null,
            "_model_module_version": "1.2.0",
            "_view_count": null,
            "flex_flow": null,
            "width": null,
            "min_width": null,
            "border": null,
            "align_items": null,
            "bottom": null,
            "_model_module": "@jupyter-widgets/base",
            "top": null,
            "grid_column": null,
            "overflow_y": null,
            "overflow_x": null,
            "grid_auto_flow": null,
            "grid_area": null,
            "grid_template_columns": null,
            "flex": null,
            "_model_name": "LayoutModel",
            "justify_items": null,
            "grid_row": null,
            "max_height": null,
            "align_content": null,
            "visibility": null,
            "align_self": null,
            "height": null,
            "min_height": null,
            "padding": null,
            "grid_auto_rows": null,
            "grid_gap": null,
            "max_width": null,
            "order": null,
            "_view_module_version": "1.2.0",
            "grid_template_areas": null,
            "object_position": null,
            "object_fit": null,
            "grid_auto_columns": null,
            "margin": null,
            "display": null,
            "left": null
          }
        },
        "98dab511c6014cc69161ef67ddea0162": {
          "model_module": "@jupyter-widgets/controls",
          "model_name": "FloatProgressModel",
          "state": {
            "_view_name": "ProgressView",
            "style": "IPY_MODEL_b103f40702b84aa28c1cd1445b4e239f",
            "_dom_classes": [],
            "description": "100%",
            "_model_name": "FloatProgressModel",
            "bar_style": "success",
            "max": 1800,
            "_view_module": "@jupyter-widgets/controls",
            "_model_module_version": "1.5.0",
            "value": 1800,
            "_view_count": null,
            "_view_module_version": "1.5.0",
            "orientation": "horizontal",
            "min": 0,
            "description_tooltip": null,
            "_model_module": "@jupyter-widgets/controls",
            "layout": "IPY_MODEL_fbbb08b4e38c4bca9ea27302ccf1f423"
          }
        },
        "74277c02051e4e78b5856793a6ca7992": {
          "model_module": "@jupyter-widgets/controls",
          "model_name": "HTMLModel",
          "state": {
            "_view_name": "HTMLView",
            "style": "IPY_MODEL_fdd8e88d22f64937ab255f13f047dece",
            "_dom_classes": [],
            "description": "",
            "_model_name": "HTMLModel",
            "placeholder": "​",
            "_view_module": "@jupyter-widgets/controls",
            "_model_module_version": "1.5.0",
            "value": " 1800/1800 [03:55&lt;00:00,  7.65it/s]",
            "_view_count": null,
            "_view_module_version": "1.5.0",
            "description_tooltip": null,
            "_model_module": "@jupyter-widgets/controls",
            "layout": "IPY_MODEL_e29703a0217f44fbacaec46a17c54e2d"
          }
        },
        "b103f40702b84aa28c1cd1445b4e239f": {
          "model_module": "@jupyter-widgets/controls",
          "model_name": "ProgressStyleModel",
          "state": {
            "_view_name": "StyleView",
            "_model_name": "ProgressStyleModel",
            "description_width": "initial",
            "_view_module": "@jupyter-widgets/base",
            "_model_module_version": "1.5.0",
            "_view_count": null,
            "_view_module_version": "1.2.0",
            "bar_color": null,
            "_model_module": "@jupyter-widgets/controls"
          }
        },
        "fbbb08b4e38c4bca9ea27302ccf1f423": {
          "model_module": "@jupyter-widgets/base",
          "model_name": "LayoutModel",
          "state": {
            "_view_name": "LayoutView",
            "grid_template_rows": null,
            "right": null,
            "justify_content": null,
            "_view_module": "@jupyter-widgets/base",
            "overflow": null,
            "_model_module_version": "1.2.0",
            "_view_count": null,
            "flex_flow": null,
            "width": null,
            "min_width": null,
            "border": null,
            "align_items": null,
            "bottom": null,
            "_model_module": "@jupyter-widgets/base",
            "top": null,
            "grid_column": null,
            "overflow_y": null,
            "overflow_x": null,
            "grid_auto_flow": null,
            "grid_area": null,
            "grid_template_columns": null,
            "flex": null,
            "_model_name": "LayoutModel",
            "justify_items": null,
            "grid_row": null,
            "max_height": null,
            "align_content": null,
            "visibility": null,
            "align_self": null,
            "height": null,
            "min_height": null,
            "padding": null,
            "grid_auto_rows": null,
            "grid_gap": null,
            "max_width": null,
            "order": null,
            "_view_module_version": "1.2.0",
            "grid_template_areas": null,
            "object_position": null,
            "object_fit": null,
            "grid_auto_columns": null,
            "margin": null,
            "display": null,
            "left": null
          }
        },
        "fdd8e88d22f64937ab255f13f047dece": {
          "model_module": "@jupyter-widgets/controls",
          "model_name": "DescriptionStyleModel",
          "state": {
            "_view_name": "StyleView",
            "_model_name": "DescriptionStyleModel",
            "description_width": "",
            "_view_module": "@jupyter-widgets/base",
            "_model_module_version": "1.5.0",
            "_view_count": null,
            "_view_module_version": "1.2.0",
            "_model_module": "@jupyter-widgets/controls"
          }
        },
        "e29703a0217f44fbacaec46a17c54e2d": {
          "model_module": "@jupyter-widgets/base",
          "model_name": "LayoutModel",
          "state": {
            "_view_name": "LayoutView",
            "grid_template_rows": null,
            "right": null,
            "justify_content": null,
            "_view_module": "@jupyter-widgets/base",
            "overflow": null,
            "_model_module_version": "1.2.0",
            "_view_count": null,
            "flex_flow": null,
            "width": null,
            "min_width": null,
            "border": null,
            "align_items": null,
            "bottom": null,
            "_model_module": "@jupyter-widgets/base",
            "top": null,
            "grid_column": null,
            "overflow_y": null,
            "overflow_x": null,
            "grid_auto_flow": null,
            "grid_area": null,
            "grid_template_columns": null,
            "flex": null,
            "_model_name": "LayoutModel",
            "justify_items": null,
            "grid_row": null,
            "max_height": null,
            "align_content": null,
            "visibility": null,
            "align_self": null,
            "height": null,
            "min_height": null,
            "padding": null,
            "grid_auto_rows": null,
            "grid_gap": null,
            "max_width": null,
            "order": null,
            "_view_module_version": "1.2.0",
            "grid_template_areas": null,
            "object_position": null,
            "object_fit": null,
            "grid_auto_columns": null,
            "margin": null,
            "display": null,
            "left": null
          }
        },
        "e7b94b1bb80c436b8e3937eb8473eb68": {
          "model_module": "@jupyter-widgets/controls",
          "model_name": "HBoxModel",
          "state": {
            "_view_name": "HBoxView",
            "_dom_classes": [],
            "_model_name": "HBoxModel",
            "_view_module": "@jupyter-widgets/controls",
            "_model_module_version": "1.5.0",
            "_view_count": null,
            "_view_module_version": "1.5.0",
            "box_style": "",
            "layout": "IPY_MODEL_031b2dd972c1476ba16b6e0c7ade918d",
            "_model_module": "@jupyter-widgets/controls",
            "children": [
              "IPY_MODEL_d62cfedcd61f419a98887553b34a4f8f",
              "IPY_MODEL_0b374372df9a41cb9dc1e00da5d4a8f9"
            ]
          }
        },
        "031b2dd972c1476ba16b6e0c7ade918d": {
          "model_module": "@jupyter-widgets/base",
          "model_name": "LayoutModel",
          "state": {
            "_view_name": "LayoutView",
            "grid_template_rows": null,
            "right": null,
            "justify_content": null,
            "_view_module": "@jupyter-widgets/base",
            "overflow": null,
            "_model_module_version": "1.2.0",
            "_view_count": null,
            "flex_flow": null,
            "width": null,
            "min_width": null,
            "border": null,
            "align_items": null,
            "bottom": null,
            "_model_module": "@jupyter-widgets/base",
            "top": null,
            "grid_column": null,
            "overflow_y": null,
            "overflow_x": null,
            "grid_auto_flow": null,
            "grid_area": null,
            "grid_template_columns": null,
            "flex": null,
            "_model_name": "LayoutModel",
            "justify_items": null,
            "grid_row": null,
            "max_height": null,
            "align_content": null,
            "visibility": null,
            "align_self": null,
            "height": null,
            "min_height": null,
            "padding": null,
            "grid_auto_rows": null,
            "grid_gap": null,
            "max_width": null,
            "order": null,
            "_view_module_version": "1.2.0",
            "grid_template_areas": null,
            "object_position": null,
            "object_fit": null,
            "grid_auto_columns": null,
            "margin": null,
            "display": null,
            "left": null
          }
        },
        "d62cfedcd61f419a98887553b34a4f8f": {
          "model_module": "@jupyter-widgets/controls",
          "model_name": "FloatProgressModel",
          "state": {
            "_view_name": "ProgressView",
            "style": "IPY_MODEL_ae0bf654128142a5af1dcfdf780e2f5f",
            "_dom_classes": [],
            "description": "100%",
            "_model_name": "FloatProgressModel",
            "bar_style": "success",
            "max": 600,
            "_view_module": "@jupyter-widgets/controls",
            "_model_module_version": "1.5.0",
            "value": 600,
            "_view_count": null,
            "_view_module_version": "1.5.0",
            "orientation": "horizontal",
            "min": 0,
            "description_tooltip": null,
            "_model_module": "@jupyter-widgets/controls",
            "layout": "IPY_MODEL_525a98fda96a4f38af38d446e26e186d"
          }
        },
        "0b374372df9a41cb9dc1e00da5d4a8f9": {
          "model_module": "@jupyter-widgets/controls",
          "model_name": "HTMLModel",
          "state": {
            "_view_name": "HTMLView",
            "style": "IPY_MODEL_54a062007ddb40e6a9da0bbce02f3a4f",
            "_dom_classes": [],
            "description": "",
            "_model_name": "HTMLModel",
            "placeholder": "​",
            "_view_module": "@jupyter-widgets/controls",
            "_model_module_version": "1.5.0",
            "value": " 600/600 [01:13&lt;00:00,  8.22it/s]",
            "_view_count": null,
            "_view_module_version": "1.5.0",
            "description_tooltip": null,
            "_model_module": "@jupyter-widgets/controls",
            "layout": "IPY_MODEL_7e247e67aefb4c3ca5f633db2c14cb69"
          }
        },
        "ae0bf654128142a5af1dcfdf780e2f5f": {
          "model_module": "@jupyter-widgets/controls",
          "model_name": "ProgressStyleModel",
          "state": {
            "_view_name": "StyleView",
            "_model_name": "ProgressStyleModel",
            "description_width": "initial",
            "_view_module": "@jupyter-widgets/base",
            "_model_module_version": "1.5.0",
            "_view_count": null,
            "_view_module_version": "1.2.0",
            "bar_color": null,
            "_model_module": "@jupyter-widgets/controls"
          }
        },
        "525a98fda96a4f38af38d446e26e186d": {
          "model_module": "@jupyter-widgets/base",
          "model_name": "LayoutModel",
          "state": {
            "_view_name": "LayoutView",
            "grid_template_rows": null,
            "right": null,
            "justify_content": null,
            "_view_module": "@jupyter-widgets/base",
            "overflow": null,
            "_model_module_version": "1.2.0",
            "_view_count": null,
            "flex_flow": null,
            "width": null,
            "min_width": null,
            "border": null,
            "align_items": null,
            "bottom": null,
            "_model_module": "@jupyter-widgets/base",
            "top": null,
            "grid_column": null,
            "overflow_y": null,
            "overflow_x": null,
            "grid_auto_flow": null,
            "grid_area": null,
            "grid_template_columns": null,
            "flex": null,
            "_model_name": "LayoutModel",
            "justify_items": null,
            "grid_row": null,
            "max_height": null,
            "align_content": null,
            "visibility": null,
            "align_self": null,
            "height": null,
            "min_height": null,
            "padding": null,
            "grid_auto_rows": null,
            "grid_gap": null,
            "max_width": null,
            "order": null,
            "_view_module_version": "1.2.0",
            "grid_template_areas": null,
            "object_position": null,
            "object_fit": null,
            "grid_auto_columns": null,
            "margin": null,
            "display": null,
            "left": null
          }
        },
        "54a062007ddb40e6a9da0bbce02f3a4f": {
          "model_module": "@jupyter-widgets/controls",
          "model_name": "DescriptionStyleModel",
          "state": {
            "_view_name": "StyleView",
            "_model_name": "DescriptionStyleModel",
            "description_width": "",
            "_view_module": "@jupyter-widgets/base",
            "_model_module_version": "1.5.0",
            "_view_count": null,
            "_view_module_version": "1.2.0",
            "_model_module": "@jupyter-widgets/controls"
          }
        },
        "7e247e67aefb4c3ca5f633db2c14cb69": {
          "model_module": "@jupyter-widgets/base",
          "model_name": "LayoutModel",
          "state": {
            "_view_name": "LayoutView",
            "grid_template_rows": null,
            "right": null,
            "justify_content": null,
            "_view_module": "@jupyter-widgets/base",
            "overflow": null,
            "_model_module_version": "1.2.0",
            "_view_count": null,
            "flex_flow": null,
            "width": null,
            "min_width": null,
            "border": null,
            "align_items": null,
            "bottom": null,
            "_model_module": "@jupyter-widgets/base",
            "top": null,
            "grid_column": null,
            "overflow_y": null,
            "overflow_x": null,
            "grid_auto_flow": null,
            "grid_area": null,
            "grid_template_columns": null,
            "flex": null,
            "_model_name": "LayoutModel",
            "justify_items": null,
            "grid_row": null,
            "max_height": null,
            "align_content": null,
            "visibility": null,
            "align_self": null,
            "height": null,
            "min_height": null,
            "padding": null,
            "grid_auto_rows": null,
            "grid_gap": null,
            "max_width": null,
            "order": null,
            "_view_module_version": "1.2.0",
            "grid_template_areas": null,
            "object_position": null,
            "object_fit": null,
            "grid_auto_columns": null,
            "margin": null,
            "display": null,
            "left": null
          }
        }
      }
    }
  },
  "cells": [
    {
      "cell_type": "code",
      "metadata": {
        "tags": [],
        "colab": {
          "base_uri": "https://localhost:8080/"
        },
        "id": "iyLb8kjPwPgC",
        "outputId": "181f68c2-592c-4cc0-8fb0-15a09937609d"
      },
      "source": [
        "!python --version"
      ],
      "execution_count": 1,
      "outputs": [
        {
          "output_type": "stream",
          "text": [
            "Python 3.6.9\n"
          ],
          "name": "stdout"
        }
      ]
    },
    {
      "cell_type": "code",
      "metadata": {
        "tags": [],
        "id": "RLEcgb2IwPgJ"
      },
      "source": [
        "#!pip install -q -U pip\n",
        "#!pip install -q numpy\n",
        "#!pip install -q pandas\n",
        "!pip install -q ckiptagger[gdown]\n",
        "!pip install -q tqdm\n",
        "#!pip install -q tensorflow==1.14.0\n",
        "!pip install -q ipywidgets"
      ],
      "execution_count": 2,
      "outputs": []
    },
    {
      "cell_type": "code",
      "metadata": {
        "colab": {
          "base_uri": "https://localhost:8080/"
        },
        "id": "ZFrNio9Zw-qp",
        "outputId": "09e0677f-1f15-4e59-aceb-227af1294108"
      },
      "source": [
        "from google.colab import drive\r\n",
        "drive.mount('/content/drive')"
      ],
      "execution_count": 3,
      "outputs": [
        {
          "output_type": "stream",
          "text": [
            "Drive already mounted at /content/drive; to attempt to forcibly remount, call drive.mount(\"/content/drive\", force_remount=True).\n"
          ],
          "name": "stdout"
        }
      ]
    },
    {
      "cell_type": "code",
      "metadata": {
        "colab": {
          "base_uri": "https://localhost:8080/"
        },
        "id": "zRWG9sx8xGWU",
        "outputId": "798ddd92-4a5a-4631-a948-abd8b541e949"
      },
      "source": [
        "%cd './drive/My Drive/NLP/day31'"
      ],
      "execution_count": 4,
      "outputs": [
        {
          "output_type": "stream",
          "text": [
            "/content/drive/My Drive/NLP/day31\n"
          ],
          "name": "stdout"
        }
      ]
    },
    {
      "cell_type": "code",
      "metadata": {
        "id": "Rj52OhI-yOqk"
      },
      "source": [
        "from ckiptagger import data_utils, construct_dictionary, WS, POS"
      ],
      "execution_count": 5,
      "outputs": []
    },
    {
      "cell_type": "code",
      "metadata": {
        "id": "J2ANuFBVybsh"
      },
      "source": [
        "# Downloads to ./data.zip (2GB) and extracts to ./data/\r\n",
        "# data_utils.download_data_url(\"./\") # iis-ckip\r\n",
        "# data_utils.download_data_gdown(\"./\") # gdrive-ckip"
      ],
      "execution_count": 6,
      "outputs": []
    },
    {
      "cell_type": "code",
      "metadata": {
        "id": "Egc-Svt-wPgK"
      },
      "source": [
        "import pandas as pd\n",
        "import numpy as np\n",
        "\n",
        "#from ckiptagger import WS, POS\n",
        "from tqdm.notebook import tqdm"
      ],
      "execution_count": 7,
      "outputs": []
    },
    {
      "cell_type": "code",
      "metadata": {
        "id": "Dnz6IPjKwPgL"
      },
      "source": [
        "df_train = pd.read_csv('news_clustering_train.tsv', sep='\\t')\n",
        "df_test = pd.read_csv('news_clustering_test.tsv', sep='\\t')"
      ],
      "execution_count": 8,
      "outputs": []
    },
    {
      "cell_type": "code",
      "metadata": {
        "colab": {
          "base_uri": "https://localhost:8080/",
          "height": 405
        },
        "id": "4_tz3OdDwPgL",
        "outputId": "01f227d6-b8f1-49f9-88b6-47e32f6e6fc2"
      },
      "source": [
        "df_train"
      ],
      "execution_count": 9,
      "outputs": [
        {
          "output_type": "execute_result",
          "data": {
            "text/html": [
              "<div>\n",
              "<style scoped>\n",
              "    .dataframe tbody tr th:only-of-type {\n",
              "        vertical-align: middle;\n",
              "    }\n",
              "\n",
              "    .dataframe tbody tr th {\n",
              "        vertical-align: top;\n",
              "    }\n",
              "\n",
              "    .dataframe thead th {\n",
              "        text-align: right;\n",
              "    }\n",
              "</style>\n",
              "<table border=\"1\" class=\"dataframe\">\n",
              "  <thead>\n",
              "    <tr style=\"text-align: right;\">\n",
              "      <th></th>\n",
              "      <th>index</th>\n",
              "      <th>class</th>\n",
              "      <th>title</th>\n",
              "    </tr>\n",
              "  </thead>\n",
              "  <tbody>\n",
              "    <tr>\n",
              "      <th>0</th>\n",
              "      <td>0</td>\n",
              "      <td>體育</td>\n",
              "      <td>亞洲杯奪冠賠率：日本、伊朗領銜 中國竟與泰國並列</td>\n",
              "    </tr>\n",
              "    <tr>\n",
              "      <th>1</th>\n",
              "      <td>1</td>\n",
              "      <td>體育</td>\n",
              "      <td>9輪4球本土射手僅次武磊 黃紫昌要搶最強U23頭銜</td>\n",
              "    </tr>\n",
              "    <tr>\n",
              "      <th>2</th>\n",
              "      <td>2</td>\n",
              "      <td>體育</td>\n",
              "      <td>如果今年勇士奪冠，下賽季詹姆斯何去何從？</td>\n",
              "    </tr>\n",
              "    <tr>\n",
              "      <th>3</th>\n",
              "      <td>3</td>\n",
              "      <td>體育</td>\n",
              "      <td>超級替補！科斯塔本賽季替補出場貢獻7次助攻</td>\n",
              "    </tr>\n",
              "    <tr>\n",
              "      <th>4</th>\n",
              "      <td>4</td>\n",
              "      <td>體育</td>\n",
              "      <td>騎士6天里發生了啥？從首輪搶七到次輪3-0猛龍</td>\n",
              "    </tr>\n",
              "    <tr>\n",
              "      <th>...</th>\n",
              "      <td>...</td>\n",
              "      <td>...</td>\n",
              "      <td>...</td>\n",
              "    </tr>\n",
              "    <tr>\n",
              "      <th>1795</th>\n",
              "      <td>1795</td>\n",
              "      <td>遊戲</td>\n",
              "      <td>LOL：麻辣香鍋韓服Rank不合成打野刀？電刀巨魔新套路連勝中</td>\n",
              "    </tr>\n",
              "    <tr>\n",
              "      <th>1796</th>\n",
              "      <td>1796</td>\n",
              "      <td>遊戲</td>\n",
              "      <td>穩住，我們能贏！因為我們擁有這種強大的力量</td>\n",
              "    </tr>\n",
              "    <tr>\n",
              "      <th>1797</th>\n",
              "      <td>1797</td>\n",
              "      <td>遊戲</td>\n",
              "      <td>騰訊是怎樣毀掉《鬥戰神》這款可能成神的作品的？</td>\n",
              "    </tr>\n",
              "    <tr>\n",
              "      <th>1798</th>\n",
              "      <td>1798</td>\n",
              "      <td>遊戲</td>\n",
              "      <td>LOL你不知道的黑科技打法！</td>\n",
              "    </tr>\n",
              "    <tr>\n",
              "      <th>1799</th>\n",
              "      <td>1799</td>\n",
              "      <td>遊戲</td>\n",
              "      <td>遊戲拳皇各代的劇情都在講些什麼？</td>\n",
              "    </tr>\n",
              "  </tbody>\n",
              "</table>\n",
              "<p>1800 rows × 3 columns</p>\n",
              "</div>"
            ],
            "text/plain": [
              "      index class                            title\n",
              "0         0    體育         亞洲杯奪冠賠率：日本、伊朗領銜 中國竟與泰國並列\n",
              "1         1    體育        9輪4球本土射手僅次武磊 黃紫昌要搶最強U23頭銜\n",
              "2         2    體育             如果今年勇士奪冠，下賽季詹姆斯何去何從？\n",
              "3         3    體育            超級替補！科斯塔本賽季替補出場貢獻7次助攻\n",
              "4         4    體育          騎士6天里發生了啥？從首輪搶七到次輪3-0猛龍\n",
              "...     ...   ...                              ...\n",
              "1795   1795    遊戲  LOL：麻辣香鍋韓服Rank不合成打野刀？電刀巨魔新套路連勝中\n",
              "1796   1796    遊戲            穩住，我們能贏！因為我們擁有這種強大的力量\n",
              "1797   1797    遊戲          騰訊是怎樣毀掉《鬥戰神》這款可能成神的作品的？\n",
              "1798   1798    遊戲                   LOL你不知道的黑科技打法！\n",
              "1799   1799    遊戲                 遊戲拳皇各代的劇情都在講些什麼？\n",
              "\n",
              "[1800 rows x 3 columns]"
            ]
          },
          "metadata": {
            "tags": []
          },
          "execution_count": 9
        }
      ]
    },
    {
      "cell_type": "code",
      "metadata": {
        "id": "5IxrZnKhwPgL"
      },
      "source": [
        "train_titles = {row['index']: row['title'] for _, row in df_train.iterrows()}\n",
        "train_classes = {row['index']: row['class'] for _, row in df_train.iterrows()}\n",
        "\n",
        "test_titles = {row['index']: row['title'] for _, row in df_test.iterrows()}\n",
        "test_classes = {row['index']: row['class'] for _, row in df_test.iterrows()}"
      ],
      "execution_count": 10,
      "outputs": []
    },
    {
      "cell_type": "code",
      "metadata": {
        "id": "rabt0XZlwPgM"
      },
      "source": [
        "all_news_class = ['體育', '財經', '科技', '旅遊', '農業', '遊戲']"
      ],
      "execution_count": 11,
      "outputs": []
    },
    {
      "cell_type": "code",
      "metadata": {
        "colab": {
          "base_uri": "https://localhost:8080/"
        },
        "id": "wXDjtkDYFRO6",
        "outputId": "7689044d-fddd-44dc-e55c-595062158f81"
      },
      "source": [
        "train_titles.keys()"
      ],
      "execution_count": 12,
      "outputs": [
        {
          "output_type": "execute_result",
          "data": {
            "text/plain": [
              "dict_keys([0, 1, 2, 3, 4, 5, 6, 7, 8, 9, 10, 11, 12, 13, 14, 15, 16, 17, 18, 19, 20, 21, 22, 23, 24, 25, 26, 27, 28, 29, 30, 31, 32, 33, 34, 35, 36, 37, 38, 39, 40, 41, 42, 43, 44, 45, 46, 47, 48, 49, 50, 51, 52, 53, 54, 55, 56, 57, 58, 59, 60, 61, 62, 63, 64, 65, 66, 67, 68, 69, 70, 71, 72, 73, 74, 75, 76, 77, 78, 79, 80, 81, 82, 83, 84, 85, 86, 87, 88, 89, 90, 91, 92, 93, 94, 95, 96, 97, 98, 99, 100, 101, 102, 103, 104, 105, 106, 107, 108, 109, 110, 111, 112, 113, 114, 115, 116, 117, 118, 119, 120, 121, 122, 123, 124, 125, 126, 127, 128, 129, 130, 131, 132, 133, 134, 135, 136, 137, 138, 139, 140, 141, 142, 143, 144, 145, 146, 147, 148, 149, 150, 151, 152, 153, 154, 155, 156, 157, 158, 159, 160, 161, 162, 163, 164, 165, 166, 167, 168, 169, 170, 171, 172, 173, 174, 175, 176, 177, 178, 179, 180, 181, 182, 183, 184, 185, 186, 187, 188, 189, 190, 191, 192, 193, 194, 195, 196, 197, 198, 199, 200, 201, 202, 203, 204, 205, 206, 207, 208, 209, 210, 211, 212, 213, 214, 215, 216, 217, 218, 219, 220, 221, 222, 223, 224, 225, 226, 227, 228, 229, 230, 231, 232, 233, 234, 235, 236, 237, 238, 239, 240, 241, 242, 243, 244, 245, 246, 247, 248, 249, 250, 251, 252, 253, 254, 255, 256, 257, 258, 259, 260, 261, 262, 263, 264, 265, 266, 267, 268, 269, 270, 271, 272, 273, 274, 275, 276, 277, 278, 279, 280, 281, 282, 283, 284, 285, 286, 287, 288, 289, 290, 291, 292, 293, 294, 295, 296, 297, 298, 299, 300, 301, 302, 303, 304, 305, 306, 307, 308, 309, 310, 311, 312, 313, 314, 315, 316, 317, 318, 319, 320, 321, 322, 323, 324, 325, 326, 327, 328, 329, 330, 331, 332, 333, 334, 335, 336, 337, 338, 339, 340, 341, 342, 343, 344, 345, 346, 347, 348, 349, 350, 351, 352, 353, 354, 355, 356, 357, 358, 359, 360, 361, 362, 363, 364, 365, 366, 367, 368, 369, 370, 371, 372, 373, 374, 375, 376, 377, 378, 379, 380, 381, 382, 383, 384, 385, 386, 387, 388, 389, 390, 391, 392, 393, 394, 395, 396, 397, 398, 399, 400, 401, 402, 403, 404, 405, 406, 407, 408, 409, 410, 411, 412, 413, 414, 415, 416, 417, 418, 419, 420, 421, 422, 423, 424, 425, 426, 427, 428, 429, 430, 431, 432, 433, 434, 435, 436, 437, 438, 439, 440, 441, 442, 443, 444, 445, 446, 447, 448, 449, 450, 451, 452, 453, 454, 455, 456, 457, 458, 459, 460, 461, 462, 463, 464, 465, 466, 467, 468, 469, 470, 471, 472, 473, 474, 475, 476, 477, 478, 479, 480, 481, 482, 483, 484, 485, 486, 487, 488, 489, 490, 491, 492, 493, 494, 495, 496, 497, 498, 499, 500, 501, 502, 503, 504, 505, 506, 507, 508, 509, 510, 511, 512, 513, 514, 515, 516, 517, 518, 519, 520, 521, 522, 523, 524, 525, 526, 527, 528, 529, 530, 531, 532, 533, 534, 535, 536, 537, 538, 539, 540, 541, 542, 543, 544, 545, 546, 547, 548, 549, 550, 551, 552, 553, 554, 555, 556, 557, 558, 559, 560, 561, 562, 563, 564, 565, 566, 567, 568, 569, 570, 571, 572, 573, 574, 575, 576, 577, 578, 579, 580, 581, 582, 583, 584, 585, 586, 587, 588, 589, 590, 591, 592, 593, 594, 595, 596, 597, 598, 599, 600, 601, 602, 603, 604, 605, 606, 607, 608, 609, 610, 611, 612, 613, 614, 615, 616, 617, 618, 619, 620, 621, 622, 623, 624, 625, 626, 627, 628, 629, 630, 631, 632, 633, 634, 635, 636, 637, 638, 639, 640, 641, 642, 643, 644, 645, 646, 647, 648, 649, 650, 651, 652, 653, 654, 655, 656, 657, 658, 659, 660, 661, 662, 663, 664, 665, 666, 667, 668, 669, 670, 671, 672, 673, 674, 675, 676, 677, 678, 679, 680, 681, 682, 683, 684, 685, 686, 687, 688, 689, 690, 691, 692, 693, 694, 695, 696, 697, 698, 699, 700, 701, 702, 703, 704, 705, 706, 707, 708, 709, 710, 711, 712, 713, 714, 715, 716, 717, 718, 719, 720, 721, 722, 723, 724, 725, 726, 727, 728, 729, 730, 731, 732, 733, 734, 735, 736, 737, 738, 739, 740, 741, 742, 743, 744, 745, 746, 747, 748, 749, 750, 751, 752, 753, 754, 755, 756, 757, 758, 759, 760, 761, 762, 763, 764, 765, 766, 767, 768, 769, 770, 771, 772, 773, 774, 775, 776, 777, 778, 779, 780, 781, 782, 783, 784, 785, 786, 787, 788, 789, 790, 791, 792, 793, 794, 795, 796, 797, 798, 799, 800, 801, 802, 803, 804, 805, 806, 807, 808, 809, 810, 811, 812, 813, 814, 815, 816, 817, 818, 819, 820, 821, 822, 823, 824, 825, 826, 827, 828, 829, 830, 831, 832, 833, 834, 835, 836, 837, 838, 839, 840, 841, 842, 843, 844, 845, 846, 847, 848, 849, 850, 851, 852, 853, 854, 855, 856, 857, 858, 859, 860, 861, 862, 863, 864, 865, 866, 867, 868, 869, 870, 871, 872, 873, 874, 875, 876, 877, 878, 879, 880, 881, 882, 883, 884, 885, 886, 887, 888, 889, 890, 891, 892, 893, 894, 895, 896, 897, 898, 899, 900, 901, 902, 903, 904, 905, 906, 907, 908, 909, 910, 911, 912, 913, 914, 915, 916, 917, 918, 919, 920, 921, 922, 923, 924, 925, 926, 927, 928, 929, 930, 931, 932, 933, 934, 935, 936, 937, 938, 939, 940, 941, 942, 943, 944, 945, 946, 947, 948, 949, 950, 951, 952, 953, 954, 955, 956, 957, 958, 959, 960, 961, 962, 963, 964, 965, 966, 967, 968, 969, 970, 971, 972, 973, 974, 975, 976, 977, 978, 979, 980, 981, 982, 983, 984, 985, 986, 987, 988, 989, 990, 991, 992, 993, 994, 995, 996, 997, 998, 999, 1000, 1001, 1002, 1003, 1004, 1005, 1006, 1007, 1008, 1009, 1010, 1011, 1012, 1013, 1014, 1015, 1016, 1017, 1018, 1019, 1020, 1021, 1022, 1023, 1024, 1025, 1026, 1027, 1028, 1029, 1030, 1031, 1032, 1033, 1034, 1035, 1036, 1037, 1038, 1039, 1040, 1041, 1042, 1043, 1044, 1045, 1046, 1047, 1048, 1049, 1050, 1051, 1052, 1053, 1054, 1055, 1056, 1057, 1058, 1059, 1060, 1061, 1062, 1063, 1064, 1065, 1066, 1067, 1068, 1069, 1070, 1071, 1072, 1073, 1074, 1075, 1076, 1077, 1078, 1079, 1080, 1081, 1082, 1083, 1084, 1085, 1086, 1087, 1088, 1089, 1090, 1091, 1092, 1093, 1094, 1095, 1096, 1097, 1098, 1099, 1100, 1101, 1102, 1103, 1104, 1105, 1106, 1107, 1108, 1109, 1110, 1111, 1112, 1113, 1114, 1115, 1116, 1117, 1118, 1119, 1120, 1121, 1122, 1123, 1124, 1125, 1126, 1127, 1128, 1129, 1130, 1131, 1132, 1133, 1134, 1135, 1136, 1137, 1138, 1139, 1140, 1141, 1142, 1143, 1144, 1145, 1146, 1147, 1148, 1149, 1150, 1151, 1152, 1153, 1154, 1155, 1156, 1157, 1158, 1159, 1160, 1161, 1162, 1163, 1164, 1165, 1166, 1167, 1168, 1169, 1170, 1171, 1172, 1173, 1174, 1175, 1176, 1177, 1178, 1179, 1180, 1181, 1182, 1183, 1184, 1185, 1186, 1187, 1188, 1189, 1190, 1191, 1192, 1193, 1194, 1195, 1196, 1197, 1198, 1199, 1200, 1201, 1202, 1203, 1204, 1205, 1206, 1207, 1208, 1209, 1210, 1211, 1212, 1213, 1214, 1215, 1216, 1217, 1218, 1219, 1220, 1221, 1222, 1223, 1224, 1225, 1226, 1227, 1228, 1229, 1230, 1231, 1232, 1233, 1234, 1235, 1236, 1237, 1238, 1239, 1240, 1241, 1242, 1243, 1244, 1245, 1246, 1247, 1248, 1249, 1250, 1251, 1252, 1253, 1254, 1255, 1256, 1257, 1258, 1259, 1260, 1261, 1262, 1263, 1264, 1265, 1266, 1267, 1268, 1269, 1270, 1271, 1272, 1273, 1274, 1275, 1276, 1277, 1278, 1279, 1280, 1281, 1282, 1283, 1284, 1285, 1286, 1287, 1288, 1289, 1290, 1291, 1292, 1293, 1294, 1295, 1296, 1297, 1298, 1299, 1300, 1301, 1302, 1303, 1304, 1305, 1306, 1307, 1308, 1309, 1310, 1311, 1312, 1313, 1314, 1315, 1316, 1317, 1318, 1319, 1320, 1321, 1322, 1323, 1324, 1325, 1326, 1327, 1328, 1329, 1330, 1331, 1332, 1333, 1334, 1335, 1336, 1337, 1338, 1339, 1340, 1341, 1342, 1343, 1344, 1345, 1346, 1347, 1348, 1349, 1350, 1351, 1352, 1353, 1354, 1355, 1356, 1357, 1358, 1359, 1360, 1361, 1362, 1363, 1364, 1365, 1366, 1367, 1368, 1369, 1370, 1371, 1372, 1373, 1374, 1375, 1376, 1377, 1378, 1379, 1380, 1381, 1382, 1383, 1384, 1385, 1386, 1387, 1388, 1389, 1390, 1391, 1392, 1393, 1394, 1395, 1396, 1397, 1398, 1399, 1400, 1401, 1402, 1403, 1404, 1405, 1406, 1407, 1408, 1409, 1410, 1411, 1412, 1413, 1414, 1415, 1416, 1417, 1418, 1419, 1420, 1421, 1422, 1423, 1424, 1425, 1426, 1427, 1428, 1429, 1430, 1431, 1432, 1433, 1434, 1435, 1436, 1437, 1438, 1439, 1440, 1441, 1442, 1443, 1444, 1445, 1446, 1447, 1448, 1449, 1450, 1451, 1452, 1453, 1454, 1455, 1456, 1457, 1458, 1459, 1460, 1461, 1462, 1463, 1464, 1465, 1466, 1467, 1468, 1469, 1470, 1471, 1472, 1473, 1474, 1475, 1476, 1477, 1478, 1479, 1480, 1481, 1482, 1483, 1484, 1485, 1486, 1487, 1488, 1489, 1490, 1491, 1492, 1493, 1494, 1495, 1496, 1497, 1498, 1499, 1500, 1501, 1502, 1503, 1504, 1505, 1506, 1507, 1508, 1509, 1510, 1511, 1512, 1513, 1514, 1515, 1516, 1517, 1518, 1519, 1520, 1521, 1522, 1523, 1524, 1525, 1526, 1527, 1528, 1529, 1530, 1531, 1532, 1533, 1534, 1535, 1536, 1537, 1538, 1539, 1540, 1541, 1542, 1543, 1544, 1545, 1546, 1547, 1548, 1549, 1550, 1551, 1552, 1553, 1554, 1555, 1556, 1557, 1558, 1559, 1560, 1561, 1562, 1563, 1564, 1565, 1566, 1567, 1568, 1569, 1570, 1571, 1572, 1573, 1574, 1575, 1576, 1577, 1578, 1579, 1580, 1581, 1582, 1583, 1584, 1585, 1586, 1587, 1588, 1589, 1590, 1591, 1592, 1593, 1594, 1595, 1596, 1597, 1598, 1599, 1600, 1601, 1602, 1603, 1604, 1605, 1606, 1607, 1608, 1609, 1610, 1611, 1612, 1613, 1614, 1615, 1616, 1617, 1618, 1619, 1620, 1621, 1622, 1623, 1624, 1625, 1626, 1627, 1628, 1629, 1630, 1631, 1632, 1633, 1634, 1635, 1636, 1637, 1638, 1639, 1640, 1641, 1642, 1643, 1644, 1645, 1646, 1647, 1648, 1649, 1650, 1651, 1652, 1653, 1654, 1655, 1656, 1657, 1658, 1659, 1660, 1661, 1662, 1663, 1664, 1665, 1666, 1667, 1668, 1669, 1670, 1671, 1672, 1673, 1674, 1675, 1676, 1677, 1678, 1679, 1680, 1681, 1682, 1683, 1684, 1685, 1686, 1687, 1688, 1689, 1690, 1691, 1692, 1693, 1694, 1695, 1696, 1697, 1698, 1699, 1700, 1701, 1702, 1703, 1704, 1705, 1706, 1707, 1708, 1709, 1710, 1711, 1712, 1713, 1714, 1715, 1716, 1717, 1718, 1719, 1720, 1721, 1722, 1723, 1724, 1725, 1726, 1727, 1728, 1729, 1730, 1731, 1732, 1733, 1734, 1735, 1736, 1737, 1738, 1739, 1740, 1741, 1742, 1743, 1744, 1745, 1746, 1747, 1748, 1749, 1750, 1751, 1752, 1753, 1754, 1755, 1756, 1757, 1758, 1759, 1760, 1761, 1762, 1763, 1764, 1765, 1766, 1767, 1768, 1769, 1770, 1771, 1772, 1773, 1774, 1775, 1776, 1777, 1778, 1779, 1780, 1781, 1782, 1783, 1784, 1785, 1786, 1787, 1788, 1789, 1790, 1791, 1792, 1793, 1794, 1795, 1796, 1797, 1798, 1799])"
            ]
          },
          "metadata": {
            "tags": []
          },
          "execution_count": 12
        }
      ]
    },
    {
      "cell_type": "code",
      "metadata": {
        "colab": {
          "base_uri": "https://localhost:8080/",
          "height": 35
        },
        "id": "LMsp5ml2FWAf",
        "outputId": "6cc3a7c5-40fa-4fa4-d449-b695e6b5e449"
      },
      "source": [
        "train_titles[0]"
      ],
      "execution_count": 13,
      "outputs": [
        {
          "output_type": "execute_result",
          "data": {
            "application/vnd.google.colaboratory.intrinsic+json": {
              "type": "string"
            },
            "text/plain": [
              "'亞洲杯奪冠賠率：日本、伊朗領銜 中國竟與泰國並列'"
            ]
          },
          "metadata": {
            "tags": []
          },
          "execution_count": 13
        }
      ]
    },
    {
      "cell_type": "markdown",
      "metadata": {
        "id": "N5_N4120wPgM"
      },
      "source": [
        "# 斷詞 + POS"
      ]
    },
    {
      "cell_type": "code",
      "metadata": {
        "tags": [],
        "colab": {
          "base_uri": "https://localhost:8080/"
        },
        "id": "GS69bnYIwPgN",
        "outputId": "b00c471c-9ed8-4bbc-b4fa-25996ef81c54"
      },
      "source": [
        "ws = WS('./data/')\n",
        "pos = POS('./data/')"
      ],
      "execution_count": 14,
      "outputs": [
        {
          "output_type": "stream",
          "text": [
            "/usr/local/lib/python3.6/dist-packages/tensorflow/python/keras/layers/legacy_rnn/rnn_cell_impl.py:903: UserWarning: `tf.nn.rnn_cell.LSTMCell` is deprecated and will be removed in a future version. This class is equivalent as `tf.keras.layers.LSTMCell`, and will be replaced by that in Tensorflow 2.0.\n",
            "  warnings.warn(\"`tf.nn.rnn_cell.LSTMCell` is deprecated and will be \"\n",
            "/usr/local/lib/python3.6/dist-packages/tensorflow/python/keras/engine/base_layer_v1.py:1727: UserWarning: `layer.add_variable` is deprecated and will be removed in a future version. Please use `layer.add_weight` method instead.\n",
            "  warnings.warn('`layer.add_variable` is deprecated and '\n"
          ],
          "name": "stderr"
        }
      ]
    },
    {
      "cell_type": "code",
      "metadata": {
        "tags": [],
        "colab": {
          "base_uri": "https://localhost:8080/",
          "height": 66,
          "referenced_widgets": [
            "f9824c3a892a4a7493c474a6a86f9c9a",
            "8a21dd8faf8349f288fc30d64ad2d8a9",
            "98dab511c6014cc69161ef67ddea0162",
            "74277c02051e4e78b5856793a6ca7992",
            "b103f40702b84aa28c1cd1445b4e239f",
            "fbbb08b4e38c4bca9ea27302ccf1f423",
            "fdd8e88d22f64937ab255f13f047dece",
            "e29703a0217f44fbacaec46a17c54e2d"
          ]
        },
        "id": "ztBzZTD_wPgN",
        "outputId": "80c8e2f4-dfc4-4a08-8d67-245a4134fc67"
      },
      "source": [
        "train_title_cuts = {}\n",
        "for index, title in tqdm(train_titles.items()):\n",
        "    ##########\n",
        "    word_sentence_list = ws([title])\n",
        "    #print(word_sentence_list)\n",
        "    pos_sentence_list = pos(word_sentence_list)\n",
        "    #print(pos_sentence_list)\n",
        "\n",
        "    train_title_cuts[index] = list(zip(word_sentence_list[0], pos_sentence_list[0]))"
      ],
      "execution_count": 15,
      "outputs": [
        {
          "output_type": "display_data",
          "data": {
            "application/vnd.jupyter.widget-view+json": {
              "model_id": "f9824c3a892a4a7493c474a6a86f9c9a",
              "version_minor": 0,
              "version_major": 2
            },
            "text/plain": [
              "HBox(children=(FloatProgress(value=0.0, max=1800.0), HTML(value='')))"
            ]
          },
          "metadata": {
            "tags": []
          }
        },
        {
          "output_type": "stream",
          "text": [
            "\n"
          ],
          "name": "stdout"
        }
      ]
    },
    {
      "cell_type": "code",
      "metadata": {
        "tags": [],
        "colab": {
          "base_uri": "https://localhost:8080/",
          "height": 66,
          "referenced_widgets": [
            "e7b94b1bb80c436b8e3937eb8473eb68",
            "031b2dd972c1476ba16b6e0c7ade918d",
            "d62cfedcd61f419a98887553b34a4f8f",
            "0b374372df9a41cb9dc1e00da5d4a8f9",
            "ae0bf654128142a5af1dcfdf780e2f5f",
            "525a98fda96a4f38af38d446e26e186d",
            "54a062007ddb40e6a9da0bbce02f3a4f",
            "7e247e67aefb4c3ca5f633db2c14cb69"
          ]
        },
        "id": "OECVbglEwPgO",
        "outputId": "9fcf2581-c727-46a0-b95f-e7d838b30752"
      },
      "source": [
        "test_title_cuts = {}\n",
        "for index, title in tqdm(test_titles.items()):\n",
        "    ##########\n",
        "    word_sentence_list = ws([title])\n",
        "    #print(word_sentence_list)\n",
        "    pos_sentence_list = pos(word_sentence_list)\n",
        "    #print(pos_sentence_list)\n",
        "    #https://clay-atlas.com/blog/2019/09/24/python-chinese-tutorial-ckiptagger/\n",
        "    test_title_cuts[index] = list(zip(word_sentence_list[0], pos_sentence_list[0]))"
      ],
      "execution_count": 16,
      "outputs": [
        {
          "output_type": "display_data",
          "data": {
            "application/vnd.jupyter.widget-view+json": {
              "model_id": "e7b94b1bb80c436b8e3937eb8473eb68",
              "version_minor": 0,
              "version_major": 2
            },
            "text/plain": [
              "HBox(children=(FloatProgress(value=0.0, max=600.0), HTML(value='')))"
            ]
          },
          "metadata": {
            "tags": []
          }
        },
        {
          "output_type": "stream",
          "text": [
            "\n"
          ],
          "name": "stdout"
        }
      ]
    },
    {
      "cell_type": "code",
      "metadata": {
        "colab": {
          "base_uri": "https://localhost:8080/"
        },
        "id": "0Cr7NTyIFDJ5",
        "outputId": "4bca8350-27e0-4599-970f-bd207e14bd38"
      },
      "source": [
        "# 120是keys\r\n",
        "train_title_cuts[120]"
      ],
      "execution_count": 17,
      "outputs": [
        {
          "output_type": "execute_result",
          "data": {
            "text/plain": [
              "[('國腳', 'Na'),\n",
              " ('張呈棟', 'Nb'),\n",
              " ('：', 'COLONCATEGORY'),\n",
              " ('從', 'D'),\n",
              " ('沒', 'D'),\n",
              " ('想', 'VE'),\n",
              " ('過', 'Di'),\n",
              " ('自己', 'Nh'),\n",
              " ('會', 'D'),\n",
              " ('出', 'VC'),\n",
              " ('一', 'Neu'),\n",
              " ('本', 'Nf'),\n",
              " ('書', 'Na')]"
            ]
          },
          "metadata": {
            "tags": []
          },
          "execution_count": 17
        }
      ]
    },
    {
      "cell_type": "markdown",
      "metadata": {
        "id": "lBkLQya8wPgO"
      },
      "source": [
        "# Bag of Words (BOW)"
      ]
    },
    {
      "cell_type": "code",
      "metadata": {
        "id": "hQCjkdYowPgP"
      },
      "source": [
        "word2index = {}\n",
        "index2word = {}\n",
        "# 產生字與index對應的關係\n",
        "word_set = set()\n",
        "idx = 0\n",
        "for train_title in train_title_cuts.values():\n",
        "  for pairs in train_title:\n",
        "    word_set.add(pairs[0])\n",
        "\n",
        "for word in word_set:\n",
        "  index2word[idx] = word\n",
        "  word2index[word] = idx\n",
        "  idx +=1\n"
      ],
      "execution_count": 18,
      "outputs": []
    },
    {
      "cell_type": "code",
      "metadata": {
        "colab": {
          "base_uri": "https://localhost:8080/"
        },
        "id": "aA-O-rsUK_RO",
        "outputId": "1b098d85-0994-40fc-b328-ec6efc5a8f35"
      },
      "source": [
        "word2index['溫暖']"
      ],
      "execution_count": 19,
      "outputs": [
        {
          "output_type": "execute_result",
          "data": {
            "text/plain": [
              "1940"
            ]
          },
          "metadata": {
            "tags": []
          },
          "execution_count": 19
        }
      ]
    },
    {
      "cell_type": "code",
      "metadata": {
        "colab": {
          "base_uri": "https://localhost:8080/",
          "height": 35
        },
        "id": "jOwtwEuMLChU",
        "outputId": "2a58afbb-d126-4e5f-ef29-aa1124213849"
      },
      "source": [
        "index2word[1940]"
      ],
      "execution_count": 21,
      "outputs": [
        {
          "output_type": "execute_result",
          "data": {
            "application/vnd.google.colaboratory.intrinsic+json": {
              "type": "string"
            },
            "text/plain": [
              "'溫暖'"
            ]
          },
          "metadata": {
            "tags": []
          },
          "execution_count": 21
        }
      ]
    },
    {
      "cell_type": "code",
      "metadata": {
        "colab": {
          "base_uri": "https://localhost:8080/"
        },
        "id": "qZKYr-xQL8yS",
        "outputId": "9bb141f4-a6f5-4d79-bbc7-a77c3809b80a"
      },
      "source": [
        "print(len(word2index.keys()))\r\n",
        "print(len(index2word.keys()))"
      ],
      "execution_count": 22,
      "outputs": [
        {
          "output_type": "stream",
          "text": [
            "6690\n",
            "6690\n"
          ],
          "name": "stdout"
        }
      ]
    },
    {
      "cell_type": "code",
      "metadata": {
        "id": "gPWZgX3vwPgQ"
      },
      "source": [
        "def get_bow_vector(pairs, word2index):\n",
        "    vector = np.zeros(shape = (len(word2index)) )\n",
        "    #####################\n",
        "    for word , flag in pairs:\n",
        "      idx = word2index[word]\n",
        "      vector[idx] = 1\n",
        "    return vector"
      ],
      "execution_count": 23,
      "outputs": []
    },
    {
      "cell_type": "code",
      "metadata": {
        "colab": {
          "base_uri": "https://localhost:8080/"
        },
        "id": "cr9bKCr6wPgQ",
        "outputId": "004cef7f-a072-4dba-eaf9-e6974971b88d"
      },
      "source": [
        "get_bow_vector(train_title_cuts[120], word2index)"
      ],
      "execution_count": 24,
      "outputs": [
        {
          "output_type": "execute_result",
          "data": {
            "text/plain": [
              "array([0., 0., 0., ..., 0., 0., 0.])"
            ]
          },
          "metadata": {
            "tags": []
          },
          "execution_count": 24
        }
      ]
    },
    {
      "cell_type": "markdown",
      "metadata": {
        "id": "W6DangJ8wPgQ"
      },
      "source": [
        "# 排除較無意義的詞性"
      ]
    },
    {
      "cell_type": "code",
      "metadata": {
        "tags": [],
        "colab": {
          "base_uri": "https://localhost:8080/"
        },
        "id": "Ws62v0xRwPgQ",
        "outputId": "dcec4bad-b274-4198-82fa-40276768fe25"
      },
      "source": [
        "pos_analysis = {}\n",
        "for _, pairs in train_title_cuts.items():\n",
        "    for word, flag in pairs:\n",
        "        if flag not in pos_analysis:\n",
        "            pos_analysis[flag] = set()\n",
        "        pos_analysis[flag].add(word)\n",
        "\n",
        "for flag, words in pos_analysis.items():\n",
        "    print(flag, ':', list(words)[:100])\n",
        "    print('=======================')"
      ],
      "execution_count": 25,
      "outputs": [
        {
          "output_type": "stream",
          "text": [
            "Nb : ['王者榮', '賞月夜', '朱嘯虎', '埃姆雷', '東皇', '石川佳純', '唐汪鎮', '埃爾克森', '湯米', '梵', '陳柯楓', '李白界', '穆謝奎', '斯威', '科爾', '安利', '盧克肖', '猛', '微眾', '微醫', '奧拉朱旺遠', '吉尼斯', '·龜茲', '洛瑞', '男乒', '璞麗', '老馬', '李大霄', '萬孚', '單薇恩', '安永', '浦發', '本澤馬', '維韋杜詹霍', '周雲傑', '火箭隊', '大神', '神帥', '特里', '劉國梁', '亞洲杯', '周琦', '塔克', '網易', '海富通', '美景美', '胤祥', '每日', '朱婷', '恆大', '龔方雄', 'NBA', '京新', '姆巴佩', '凱爾特', '章澤天', '馬克思', '朱之文', 'P60八核讓', '紫鑫', '馬克', '沃爾瑪', '小白', '昂科威', '高曉松', '·瞻', '劉偉', '蘇群', '安徒恩比盧克', '皮爾洛', '泰倫', '鎧單', '微博', '庫里', '后羿', 'J羅', '巴薩', '郎平', '溫氏', '騎士隊', '尤文', '梅西納', '馬里奧', '傑森', '亞亞·圖雷', '羅傑斯', '雷霆隊', '靜懿', '詹黑皮爾斯', '萊萬', '阿迪薩亞', '精准', '艾科麥佛鯊', '德比', '陰陽師', '卡帥', '綠軍', '斐濟', '白起', '張大仙']\n",
            "=======================\n",
            "VC : ['扔上', '超爭', '管理', '參考', '打野', '害', '帶動', '開', '撿到', '支持', '傳用', '啓定', '登記', '栽', '接受', '靠近', '上', '面試', '超越', '追', '種點', '看多', '攔', '邀請', '對', '保留', '造出', '丟棄', '虛擬', '絕殺', '焊', '募', '對付', '拍賣', '反擊', '炸', '扔丟', '學會', '製作', '分析', '收錄', '決殺', '開放', '監控', '摔出', '採取', '覲見', '花用', '指導', '看待', '追上', '詮釋', '引入', '織', '建', '觀看', '登頂', '摔', '刺激', '承受', '撒', '駕駛', '防守', '拼', '開好', '游里結', '關掉', '擊敗', '取捨', '要', '通', '接觸', '圍繞', '開展', '移', '造就', '搞', '留下', '打理', '成就', '購', '建立', '穩住', '練習', '出口', '隱藏', '洩露', '寫', '表揚', '測', '探訪', '補', '兌付', '打擊', '記', '反包', '抓', '縮減', '審查', '套養']\n",
            "=======================\n",
            "Na : ['意見', '商人', '海水', '系列', '劍聖', '房客', '秘訣', '水瓶', '賣家', '操盤手', '劇情', '畢業生', '節奏榜', '特色', '名隊', '老農', '慘案', '病', '天賭', '明星賽', '實錘', '情景', 'ctrl鍵', '品質', '熱量', '酒糟', '信用卡', '鴿子', '比賽', '城際', '效益', '戰場', '爆棚', '銀聯卡', '鰐魚', '大豆', '銘文', '人家', '潛質', '技巧', '印象', '低位', '大洋鏈', '收付款', '助力', '牧歌', '貌', '比例', '字', '紅色', '家庭', '全滿貫', '語音', '車', '能源', '中國人', '野菜', '花花草草', '高中鋒', '生物', '格局', '麥塊', '保千里', '口訣', '葡萄', '化肥', '日照', '炊煙', '公豬', '地貌', '村落', '金幣', '系統', '玻璃', '成交量', '大集', '區塊鏈', '代碼', '爆料王者', '反擊戰', '類目', '機制', '果蔬', '遺憾', '要點', '簡報', '戰隊', '蜂', '記', '美味', '出鏡率', '客服', '小伙', '老乾媽', '古驛道', '老人', '電器', '雪', '總結', '小將']\n",
            "=======================\n",
            "COLONCATEGORY : [':', '：']\n",
            "=======================\n",
            "Nc : ['蒼穹', '斯里蘭卡', '海口', '房頂', '霞飛', '曼城', '民族鄉', '賓館', '開面店', '華僑城', '烏魯木齊', '聊城', '風景道', '滎經縣', '黑龍江', '楚河', '波蘭', '豬場', '德國', '廣東', '易縣', '海岸', '寶閣', '家鄉', '便利店', '洛杉磯', '早市', '聖托里尼亞', '圭塘', '影視城', '寧夏', '皖南', '災房', '喜洲', '南山', '遵義市', '區域', '分行', '黃鶴樓', '嵐山', '太湖', '成都', '川藏', '儋州', '田野', '酒館', '南陽', '袁家村', '雪鄉', '四國', '孟津', '壽寧', '鄭州', '屏', '平邑', '長白山', '沂水', '河南', '西藏', '情報站', '風景區', '衛生室', '商鋪', '美', '科隆', '城鎮', '仁壽', '巴中市', '滕州', '賽區', '吉隆坡', '支行', '優區', '意大利', '寶里', '月亮灣', '天津', '北控', '瀋陽', '法國', '大理', '省', '博物館', '廣州', '長春', '路人局', '委員會', '體校', '農資店', '麻城', '網站', '區', '上位', '裕安區', '後座', '游景點', '雜貨鋪', '溫州', '南寧', '附近']\n",
            "=======================\n",
            "PAUSECATEGORY : ['、']\n",
            "=======================\n",
            "VB : ['收回來', '解惑', '退款', '罵屌絲', '執教', '分組', '解圍', '加起來', '代打', '復仇', '分段', '領銜', '助威', '抓來', '分紅', '拍照', '通話', '相比', '定位', '退改', '上架', '罰款', '再見', '加冕', '導航', '加持', '退貨', '扣分', '加油', '鍍金', '護航', '加工', '融資', '效力', '騙錢', '站台', '充氣', '提前', '開戰', '鋪平', '計算出來', '一網打盡', '應對', '入賬', '解體', '充飢', '解密']\n",
            "=======================\n",
            "WHITESPACE : [' ']\n",
            "=======================\n",
            "D : ['還是', '先', '即', '將', '互', '玩絕', '屢次', '迫不及待', '偶爾', '常常', '本', '為啥', '亂', '私', '能否', '首', '帶頭', '曾', '天天', '已經', '相互', '得', '終於', '親身', '仍然', '從來', '未必', '又', '這麼', '永', '直', '頻', '可能', '會', '是否', '驟然', '現', '絕', '總是', '好像', '微', '盡', '無可', '應該', '及時', '到處', '應', '即將', '天南地北', '總', '還可以', '剛剛', '全力', '怎麼', '能夠', '有沒有', '必須', '還', '大都', '不要', '專職', '少', '連', '隨地', '吃起來', '均', '難以', '屢', '不用', '竟然', '新', '當下', '交互', '所', '隨', '雙雙', '初', '首先', '甚至', '趕緊', '應當', '總算', '搞不好', '並', '為何', '沒想到', '從中', '變相', '紛紛', '陸續', '非', '至今', '絕對', '不應該', '到底', '不可', '已', '超級', '接著', '也']\n",
            "=======================\n",
            "P : ['受', '用', '將', '向', '直至', '自從', '把', '給', '從', '為', '於', '和', '往', '隨', '因', '當', '臨', '關於', '靠', '針對', '就', '趁', '至', '趁著', '比', '被', '慘遭', '憑', '待', '離', '跟', '等', '比如', '自', '遭', '如', '像', '為了', '根據', '距離', '繼', '對', '除了', '隨了', '以', '按', '幫', '在', '到', '除', '與']\n",
            "=======================\n",
            "VG : ['當作', '建成', '成', '評選', '排名', '稱得上', '做', '變', '等於', '稱', '誤認成', '猶如', '為', '彷彿', '化', '戰成', '投票成', '作為', '並列', '屬於', '賣成', '形成', '當', '變成', '譽為', '成為', '姓', '酷似', '理解為', '叫', '名叫', '非', '做成', '改造成', '屈居', '集成', '算', '如', '像', '疑似', '稱作', '叫做', '算是', '合成', '充當', '居', '竟是', '應聘', '封號', '堪稱', '稱為', '升任', '似', '排', '當上', '美成', '排行', '類似', '當成']\n",
            "=======================\n",
            "Neu : ['318', '50萬', '4000萬', '第33', '50', '17億', '54', '175', '7', '千千萬', '（二）', '，0', '91', '十三', '20萬一', '21', '第36', '三十二', '2599', '100萬', '十', '1688', '1300', '9-1', '四五', '11.59億', '400萬', '1-2', '600', '第3', '200', '500', '13888', '五一', '150', '8萬', '48', '5', '300萬', '25', '一百', '56', '46萬', '3000', '7000', '23萬一', '20萬', '2888', '76', '十億', '30萬', '幾百', '1000', '30000億', '2400', '5000', '第五', '1099', '億', '三百', '0.2', '980', '零', '1699', '00', '1000萬', '2018.5.6', '第十四', '2', '47億', '七', '6', '9', '三千億', '32', '3-0', '17', '0', '12', '3000萬', '715', '百萬', '72', '甲', '100多', '35萬', '11', '1268', '15萬', '15', '600億', '42', '85', '3.5', '七八千', '5.5', '萬', '2.37億', '14億', '兩']\n",
            "=======================\n",
            "Nf : ['回', '周', '塊', '張', '戶', '家', '本', '袋', '頓', '盤', '毛', '碗', '只', '色', '美元', '口', '天', '筆', '票', '番', '屆', '輛', '對', '片', '檔', '步', '號', '頭', '噸', '鍋', '株', '棵', '把', '篇', '串', '隻', '刻', '所', '局', '行', '方', '班', '點', '場', '件', '名', '秒', '樣', '掛', '公里', '槍', '米', '條', '輪', '類', '群', '層', '元', '處', '級', '斤', '路', '道', '招', 'K', '款', '座', '週', '句', '分鐘', '期', '門', '次', '遍', '畝', '種', '頁', '支', '些', '節', '分', '套', '日', '隊', '位', '項', '歲', '港元', '關', '批', '則', '股', '年', '胎', '度', '台', '晚', '部', '英吋', '個']\n",
            "=======================\n",
            "VJ : ['失去', '熱心', '持有', '惹不起', '替代', '展望', '大勝', '為', '忽視', '來自', '錯失', '認識', '看不過去', '達到', '適用', '新增', '得', '毫無', '羨慕', '獲得', '限', '心疼', '連接', '欣賞', '缺', '發生', '減', '維持', '從事', '出於', '曬', '忽略', '嫌棄', '翻倍', '偏愛', '自有', '受', '遺傳', '優於', '曝限', '不如', '符合', '無', '逾', '錯過', '過完', '遭遇', '超', '耗', '分享', '透', '吃上', '吸引', '獲', '失', '擁有', '輸掉', '看懂', '獨佔', '珍惜', '喪失', '贏下', '身臨', '懷念', '處於', '僅次', '服', '歸屬於', '沒有', '受到', '不到', '贏得', '平', '震撼到', '衝', '超過', '賽', '看好', '養有', '懼怕', '不敵', '恪守', '減持', '冷落', '缺少', '沈迷', '晉級', '年入', '適應', '充', '近', '爆發', '入圍', '脫', '出', '負', '痛失', '享受', '順應', '同情']\n",
            "=======================\n",
            "VD : ['提供', '贏', '坑', '貸', '速遞', '予', '給', '郵給', '禁售', '欠', '交付', '賣', '供應', '補貼', '寄予', '白送', '貸款', '給予', '搶', '借貸', '輸', '收費', '發放', '配', '發給', '轉讓', '送', '補繳', '發', '傳', '借', '輸給', '還', '支付', '付', '售', '分', '清繳', '拒賠']\n",
            "=======================\n",
            "Dfa : ['更為', '還要', '好', '遠遠', '超', '比較', '太', '極', '非常', '遠', '這麼', '不大', '過', '越來越', '同樣', '多', '最', '有些', '如此', '頗', '十分', '還', '有點', '很', '較', '更', '過於']\n",
            "=======================\n",
            "VH : ['可口', '過時', '緊', '固定', '時髦', '美麗', '強', '觸底', '鬼斧神工', '常用', '罕見', '好看', '不遠', '淺', '強硬', '重大', '慘', '有名', '病', '丟臉', '熱熱鬧鬧', '虐汪', '爆炸', '現', '發達', '養老', '乾', '對了', '浪漫', '破局', '火爆', '瘋狂', '相反', '純淨', '壯觀', '不善', '爆棚', '蓄滿', '對', '猛', '紅', '可期', '流暢', '保溫', '深入', '絕殺', '弱', '重要', '強大', '稱霸', '切實', '破產', '爆冷', '偉大', '背水一戰', '升級', '清淨', '復活', '悠悠隆慶', '平平無奇', '遲滯', '酸', '新', '轉旺', '良好', '聰明', '不停', '甜蜜', '殘', '主觀', '小康', '畢業', '純', '古', '出世', '美', '系統', '短', '撲朔迷離', '開黑', '奇怪', '好意', '榮幸', '呆滯', '啓用', '投機', '再現', '連勝', '濃', '長', '美味', '傻', '一目瞭然', '分夠', '不見了', '空洞', '真', '過人', '自由', '清貧']\n",
            "=======================\n",
            "Cbb : ['但是', '不如', '假如', '而', '即使', '不僅', '若', '因', '只有', '不然', '跟著', '縱使', '並', '既然', '不過', '還不如', '因為', '反而', '而是', '要是', '但', '不管', '既', '只要', '就算', '雖然', '另外', '並且', '否則', '可是', '連', '如果']\n",
            "=======================\n",
            "Nd : ['五月份', '採摘節', '相親節', '如今', '季度', '周', '90年', '長期', '旅遊節', '立夏', '小時候', '晚間', '今夏', '米節', '2020年', '近日', '2019', '10點', '31號', '8日', '首日', '月季', '半夜', '2005年', '後', '文化節', '00年', '當前', '中期', '當年', '23日', '06日', '5月份', '後期', '多久', '2035年', '當時', '1日', '5月', '最近', '-5', '一大早', '早晨', '幾月份', '5日', '春季', '今年', '今天', '後來', '明晚', '15日', '臨時', '19年', '6月', '春', '四月', '15年', '週末', '週二', '永久', '3月', '花季', '13點', '何時', '晚清', '不久', '九月', '30號', '短期', '夏窗', '以前', '初夏', '夜', '雍正', '夏季', '現代', '今日', '目前', '夏日', '4月', '昔日', '秋', '夏', '昨天', '季', '中旬', '6旬', '明日', '六', '未來', '7日', '三國', '荒古', '6日', '狗年', '七月份', '正月', '旺季', '大中', '05月']\n",
            "=======================\n",
            "VA : ['跳', '歸來', '出國', '游攻', '變身', '度假', '誕生', '消費', '報關', '遊玩', '奔', '登高', '行走', '奔馳', '遠行', '絕殺', '排兵', '變盤', '走起', '點球', '控股', '關機', '騎車', '入手', '探秘', '下馬', '奪冠', '抗詹', '放水', '坐穩', '滑雪', '倒地', '做生意', '脫貧', '代言', '買單', '佈局', '結果', '探案', '徵信', '開課', '拍案叫絕', '走', '啓動', '出發', '卡', '攻堅', '砸盤', '外出', '實習', '自殺', '開團', '保量', '入院', '回落', '報名', '大小便', '掛牌', '見面', '出欄', '輪轉', '目不暇接', '投降', '鬥勇', '艷遇', '出高地', '問世', '打牌', '下場', '墊腳', '栽桑', '刷單', '溢出', '擒敵', '健身', '成交', '相克', '聚焦', '產仔', '打球', '笑', '看盤', '釣魚', '爭吵', '掃尾', '生活', '晨跑', '逃亡', '爆錘', '上升', '追債', '跌', '相親', '休閒', '點贊', '出場', '帶隊', '保級', '踏步', '傳宗接代']\n",
            "=======================\n",
            "COMMACATEGORY : [',', '，']\n",
            "=======================\n",
            "Nes : ['該', '下', '首', '貴', '前', '另', '何', '每', '同', '頭', '後', '各', '本', '某', '近', '上']\n",
            "=======================\n",
            "QUESTIONCATEGORY : ['？']\n",
            "=======================\n",
            "EXCLAMATIONCATEGORY : ['！', '!']\n",
            "=======================\n",
            "Di : ['起來', '過', '著', '了', '個']\n",
            "=======================\n",
            "Nep : ['哪', '什麼', '此', '這', '那', '其', '啥', '其中']\n",
            "=======================\n",
            "Caa : ['還是', '跟', '又', '到', '及', '或是', '至', '暨', '或', '比', '或者', 'VS', '與', '和']\n",
            "=======================\n",
            "VCL : ['重回', '前往', '回', '出發到', '到達', '穿過', '蒞臨', '走過', '來到', '跌至', '穿越', '遊覽', '用於', '退出', '往', '抵達', '走進', '跌出', '盤踞', '升至', '暗渡', '遠離', '住', '上', '赴', '橫掃', '入', '走到', '過', '出', '度過', '登陸', '路過', '直達', '進', '重返', '前來', '進入', '深入', '栽進', '回到', '到', '走訪', '回歸', '在', '玩遍', '走下', '去', '存進', '留在', '穿透']\n",
            "=======================\n",
            "Neqa : ['67%', '半', '這些', '其它', '全', '所有', '多點', '大多數', '100%', '百分之八十', '41.8%', '更多', '6%', '部分', '一點', '一些', '8%', '9.89%', '很多', '1/4', '多少', '那些', '任何', '30%', '一半', '0.8%', '15%', '其他', '句句', '不少', '個個', '大多', '一處處', '一切', '遍', '20%', '哪些', '步步', '90%', '多', '80%', '這麼多', '許多', '有些', '滴滴', '10%', '12%', '1%', '有的', '三分之一', '無數', '大量', '四成']\n",
            "=======================\n",
            "Nh : ['我', '自己', '我們', '它們', '誰', '別人', '個人', '私人', '您', '小眾', '她們', '屌絲', '大家', '自我', '他們', '它', '俺們', '他', '父子倆', '你', '一方', '她', '對方', '各位', '雙方', '你們', '人家', '各自', '自身', '本人']\n",
            "=======================\n",
            "FW : ['raid', 'DOTA2 ', ' CCR', 'KV', 'W', 'mc', ' 展', '丨', 'NBA ', 'PS', 'Uzi', 'OB', 'numb', 'Ghappy', 'C', 'T+0', '+', '-0', 'CP', 'TPP', 'wifi', 'CEO', 'SIo', 'Kitty', 'KBM', '<', 'AG', 'OPPO R', 'iPad', 'eStarPro vs WF.D', ' 28', 'qq', 'mAh+', 'iPhone X Plus', 'G', 'Pro', 'MARVEL X', 'LOL：', 'iphone6plus', 'SSG', 'PGM 0-1 SUP', '5G', 'Hello ', 'p', 'Soloking', 'AI', 'J', 'LSPL', 'TT', 'HTC', '！DOTA2 MOD', 'FPP', 'CPI', 'U23', 'Alan', 'RPG', '+4', '6 10.5', 'iPhone7', 'LPL', 'Guru', 'Rank', 'mix2', '：AG', 'OV', 'QDC', '2', 'GoogleI/O2018', '5A', ' 秀', 'Kakao', 'ST', 'h', 'Aloha', 'CBA', 'etc', 'B', 'PS4/NS', 'Oeanc', 'FOF', 'Aurum ', 'VR ', '9A91', 'IG', 'app', 'AWM', 'N7', 'Day', '│', 'bad boy', 'RNG', 'dnf', 'Q', 'CDR', 'MSCI', 'LOL：MSI', 'KPL', 'Focus', 'CFPL', 'ipad']\n",
            "=======================\n",
            "SHI : ['像是', '是']\n",
            "=======================\n",
            "VE : ['預測', '反對', '探討', '確認', '假設', '警惕', '稱', '幻想', '看到', '預計', '聽到', '討說', '感嘆', '想起', '想好', '發誓', '檢測', '想', '想到', '揭曉', '證明', '提起', '看看', '介紹', '訴說', '算', '探索', '識別', '設想', '估值', '說明', '考慮', '回答', '證', '提到', '說', '公告', '報道', '安排', '知詢', '商量', '調研', '猜', '呼', '以為', '預防', '傳聞', '回顧', '允許', '問', '聯想', '判罰', '形容', '要', '看出', '預告', '鑒定', '見證', '防止', '賭約', '提', '避免', '看清楚', '談', '慶祝', '預期', '判斷', '聽說', '示範', '見到', '盛贊', '聊', '公示', '宣佈', '查', '查找', '抱怨', '想要', '呼籲', '披露', '見', '公認', '研究', '認為', '管', '告訴', '廣播', '准', '講', '暗示', '精准', '承諾', '提醒', '自嘲', '禁止', '查看', '限制', '炫耀', '聽', '講解']\n",
            "=======================\n",
            "DE : ['的', '地', '得', '之']\n",
            "=======================\n",
            "VHC : ['煩', '破', '變動', '告破', '增長', '辛苦', '開', '麻煩', '壞', '結束', '可憐', '繁榮', '縮小', '冷卻', '停', '降低', '恢復', '暫停', '感動', '下來', '規模化', '機構化', '溫暖', '淡化', '滿足', '愁壞', '智能化', '肥', '增強', '平衡', '團結', '凍', '擴張', '斷', '傷', '優化', '震驚', '現代化', '國際化', '公開', '強化', '產生', '增 ', '普及', '穩定', '陷', '熱', '加快', '還原', '愁死', '減少', '增加', '豐富']\n",
            "=======================\n",
            "Ng : ['底', '般', '之中', '下', '之外', '之上', '初', '來', '左右', '裡', '而言', '時', '後', '內', '之後', '以外', '以上', '上', '之間', '起', '以後', '之下', '外', '間', '以下', '之前', '前', '以來', '中', '為止', '之內']\n",
            "=======================\n",
            "VK : ['恨', '期待', '覺', '遺憾', '遇', '感謝', '面臨', '怕', '有利於', '同意', '盼', '確定', '討厭', '堅持', '不滿', '願', '欲', '不忘', '放心', '意味', '恐', '依賴', '想見', '抱歉', '知', '希望', '願意', '指望', '所謂', '覺得', '理解', '喜歡', '小心', '擔心', '瞭解', '流傳', '介意', '忘', '奇怪', '意外', '顯示', '肯定', '需', '感覺', '害怕', '信', '知道', '意想不到', '懷疑', '注意', '懂得', '需要', '曲解', '感受', '忘記', '明白', '感覺到', '懂', '回憶']\n",
            "=======================\n",
            "Ncd : ['西', '那邊', '末端', '中部', '底部', '哪', '當中', '下', '邊', '上面', '一帶', '外面', '裡', '前沿', '那裡', '畔', '內', '西部', '東方', '方', '上', '上方', '哪兒', '東部', '東西部', '北', '哪下', '哪裡', '外', '間', '以下', '東', '中間', '中', '兩旁', '裡面', '旁邊', '這裡', '對面']\n",
            "=======================\n",
            "A : ['重磅', '常務', '綜合', '基層', '地下', '頭號', '單', '上上', '眾', '共同', '超', '碧藍', '唯一', '長途', '原', '麻辣', '寶有', '新興', '優質', '同一', '前置', '大幅度', '現役', '現行', '後置', '中西', '國產', '火紅', '非', '高度', '額外', '獨角', '超級', '必備', '真正', '新一代', '業餘', '小本', '主', '總', '野生', '多餘', '同等', '乒乓', '中', '歐式', '一般', '彩色', '獨門', '二手', '獨家', '雙', '最佳', '基礎']\n",
            "=======================\n",
            "V_2 : ['有']\n",
            "=======================\n",
            "VL : ['愛好', '致', '敢', '便利', '導致', '後悔', '能', '愛', '使', '使得', '喜好', '持續', '不惜', '開始', '甘願', '習慣', '令', '故意', '趨於', '肯', '讓', '用來']\n",
            "=======================\n",
            "T : ['哪', '呢', '哦', '啦', '嘛', '來', '嗎', '啊', '咯', '矣', '麼', '的', '了', '去', '吧']\n",
            "=======================\n",
            "VI : ['專用', '取勝', '著稱', '傾心', '驚艷']\n",
            "=======================\n",
            "DASHCATEGORY : ['-', '—']\n",
            "=======================\n",
            "I : ['瑪法里奧', '哦']\n",
            "=======================\n",
            "Dk : ['結果', '外傳', '那麼', '想不到', '那', '據聞', '據說', '反過來']\n",
            "=======================\n",
            "VF : ['止住', '準備', '勸說', '申請', '判', '繼續', '試', '率領', '勸住', '策劃', '告誡', '拒', '逼', '助', '催', '擬', '試試', '要求', '叫', '帶領', '鼓勵', '拒絕', '請', '停止', '邀', '圖', '打算', '推選']\n",
            "=======================\n",
            "Da : ['足足', '正好', '光', '最多', '唯獨', '才', '僅', '不下', '只', '將近', '幾近', '共', '約', '近', '幾乎']\n",
            "=======================\n",
            "PARENTHESISCATEGORY : ['「', '（', '）', '」', '》', '《', '(']\n",
            "=======================\n",
            "Nv : ['管理', '錄制', '創業', '登山', '生產', '射擊', '買單', '燃燒', '解救', '工作', '航海', '旅遊', '分銷', '私募', '關聯', '供電', '度假', '灌籃', '代理', '配置', '遊樂', '防治', '疊加', '體驗', '惡搞', '銷售', '推薦', '營銷', '兼職', '問', '判罰', '增發', '翻譯', '訴訟', '組合', '輔助', '崩潰', '絕殺', '思考', '護髮', '回歸', '批發', '抗戰', '研究', '經歷', '開發']\n",
            "=======================\n",
            "PERIODCATEGORY : ['·', '。']\n",
            "=======================\n",
            "VAC : ['上演', '動', '集合', '推進', '蒸發', '移動']\n",
            "=======================\n",
            "Dfb : ['些', '一點', '極了']\n",
            "=======================\n",
            "Cab : ['等', '等等']\n",
            "=======================\n",
            "SEMICOLONCATEGORY : ['；']\n",
            "=======================\n",
            "Neqb : ['多', '半', '以上', '幾']\n",
            "=======================\n",
            "ETCCATEGORY : ['…']\n",
            "=======================\n",
            "Cba : ['的話']\n",
            "=======================\n",
            "DOTCATEGORY : ['.']\n",
            "=======================\n"
          ],
          "name": "stdout"
        }
      ]
    },
    {
      "cell_type": "markdown",
      "metadata": {
        "id": "IQZzspI9wPgR"
      },
      "source": [
        "|         Type        |     Description    |\n",
        "|:-------------------:|:------------------:|\n",
        "| A                   | 非謂形容詞         |\n",
        "| Caa                 | 對等連接詞         |\n",
        "| Cab                 | 連接詞，如：等等   |\n",
        "| Cba                 | 連接詞，如：的話   |\n",
        "| Cbb                 | 關聯連接詞         |\n",
        "| D                   | 副詞               |\n",
        "| Da                  | 數量副詞           |\n",
        "| Dfa                 | 動詞前程度副詞     |\n",
        "| Dfb                 | 動詞後程度副詞     |\n",
        "| Di                  | 時態標記           |\n",
        "| Dk                  | 句副詞             |\n",
        "| DM                  | 定量式             |\n",
        "| I                   | 感嘆詞             |\n",
        "| Na                  | 普通名詞           |\n",
        "| Nb                  | 專有名詞           |\n",
        "| Nc                  | 地方詞             |\n",
        "| Ncd                 | 位置詞             |\n",
        "| Nd                  | 時間詞             |\n",
        "| Nep                 | 指代定詞           |\n",
        "| Neqa                | 數量定詞           |\n",
        "| Neqb                | 後置數量定詞       |\n",
        "| Nes                 | 特指定詞           |\n",
        "| Neu                 | 數詞定詞           |\n",
        "| Nf                  | 量詞               |\n",
        "| Ng                  | 後置詞             |\n",
        "| Nh                  | 代名詞             |\n",
        "| Nv                  | 名物化動詞         |\n",
        "| P                   | 介詞               |\n",
        "| T                   | 語助詞             |\n",
        "| VA                  | 動作不及物動詞     |\n",
        "| VAC                 | 動作使動動詞       |\n",
        "| VB                  | 動作類及物動詞     |\n",
        "| VC                  | 動作及物動詞       |\n",
        "| VCL                 | 動作接地方賓語動詞 |\n",
        "| VD                  | 雙賓動詞           |\n",
        "| VF                  | 動作謂賓動詞       |\n",
        "| VE                  | 動作句賓動詞       |\n",
        "| VG                  | 分類動詞           |\n",
        "| VH                  | 狀態不及物動詞     |\n",
        "| VHC                 | 狀態使動動詞       |\n",
        "| VI                  | 狀態類及物動詞     |\n",
        "| VJ                  | 狀態及物動詞       |\n",
        "| VK                  | 狀態句賓動詞       |\n",
        "| VL                  | 狀態謂賓動詞       |\n",
        "| V_2                 | 有                 |\n",
        "|                     |                    |\n",
        "| DE                  | 的之得地           |\n",
        "| SHI                 | 是                 |\n",
        "| FW                  | 外文               |\n",
        "|                     |                    |\n",
        "| COLONCATEGORY       | 冒號               |\n",
        "| COMMACATEGORY       | 逗號               |\n",
        "| DASHCATEGORY        | 破折號             |\n",
        "| DOTCATEGORY         | 點號               |\n",
        "| ETCCATEGORY         | 刪節號             |\n",
        "| EXCLAMATIONCATEGORY | 驚嘆號             |\n",
        "| PARENTHESISCATEGORY | 括號               |\n",
        "| PAUSECATEGORY       | 頓號               |\n",
        "| PERIODCATEGORY      | 句號               |\n",
        "| QUESTIONCATEGORY    | 問號               |\n",
        "| SEMICOLONCATEGORY   | 分號               |\n",
        "| SPCHANGECATEGORY    | 雙直線             |\n",
        "| WHITESPACE          | 空白               |"
      ]
    },
    {
      "cell_type": "code",
      "metadata": {
        "id": "wFoHtobdwPgR"
      },
      "source": [
        "def get_bow_vector_with_selection(pairs, word2index):\n",
        "    # 根據上列舉出來的文字以及詞性表，請列出想要排除的詞性\n",
        "    excluded_flags = ['COLONCATEGORY','PAUSECATEGORY','WHITESPACE','COMMACATEGORY','QUESTIONCATEGORY','EXCLAMATIONCATEGORY',\n",
        "               'DASHCATEGORY','PARENTHESISCATEGORY','PERIODCATEGORY','SEMICOLONCATEGORY','ETCCATEGORY','DOTCATEGORY',\n",
        "               'I','T']\n",
        "    vector = np.zeros(len(word2index))\n",
        "    for word, flag in pairs:\n",
        "        if word in word2index and flag not in excluded_flags:\n",
        "            vector[word2index[word]] += 1\n",
        "    return vector"
      ],
      "execution_count": 26,
      "outputs": []
    },
    {
      "cell_type": "markdown",
      "metadata": {
        "id": "q6hDWUqmwPgR"
      },
      "source": [
        "# Cosine Similarity"
      ]
    },
    {
      "cell_type": "code",
      "metadata": {
        "id": "qfh287WlwPgS"
      },
      "source": [
        "def cosine_similarity(bow1, bow2):\n",
        "    ############\n",
        "    numerator = np.dot(bow1,bow2)\n",
        "    denominator = np.sqrt(np.dot(bow1,bow1))*np.sqrt(np.dot(bow2,bow2))\n",
        "    similarity = numerator/denominator\n",
        "    return similarity"
      ],
      "execution_count": 31,
      "outputs": []
    },
    {
      "cell_type": "code",
      "metadata": {
        "colab": {
          "base_uri": "https://localhost:8080/"
        },
        "id": "7-gligGBcYW-",
        "outputId": "b2fc1418-12f1-4620-d1bc-0cb09bcccc03"
      },
      "source": [
        "bow1 = get_bow_vector(train_title_cuts[100], word2index)\r\n",
        "bow2 = get_bow_vector(train_title_cuts[130], word2index)\r\n",
        "cosine_similarity(bow1, bow2)"
      ],
      "execution_count": 32,
      "outputs": [
        {
          "output_type": "execute_result",
          "data": {
            "text/plain": [
              "0.08703882797784893"
            ]
          },
          "metadata": {
            "tags": []
          },
          "execution_count": 32
        }
      ]
    },
    {
      "cell_type": "code",
      "metadata": {
        "id": "9B6E50PIwPgS",
        "colab": {
          "base_uri": "https://localhost:8080/"
        },
        "outputId": "8f75fc27-84db-4363-e316-5d20d584f2be"
      },
      "source": [
        "train_title_cuts[100]"
      ],
      "execution_count": 33,
      "outputs": [
        {
          "output_type": "execute_result",
          "data": {
            "text/plain": [
              "[('山東', 'Nc'),\n",
              " ('魯能', 'Nb'),\n",
              " ('有沒有', 'D'),\n",
              " ('可能', 'D'),\n",
              " ('拿到', 'VC'),\n",
              " ('今年', 'Nd'),\n",
              " ('的', 'DE'),\n",
              " ('中', 'A'),\n",
              " ('超', 'A'),\n",
              " ('冠軍', 'Na'),\n",
              " ('？', 'QUESTIONCATEGORY')]"
            ]
          },
          "metadata": {
            "tags": []
          },
          "execution_count": 33
        }
      ]
    },
    {
      "cell_type": "code",
      "metadata": {
        "id": "2p4l-_IkwPgS",
        "colab": {
          "base_uri": "https://localhost:8080/"
        },
        "outputId": "2167fbdf-30b7-4f05-a301-e7f883a27852"
      },
      "source": [
        "train_title_cuts[130]"
      ],
      "execution_count": 34,
      "outputs": [
        {
          "output_type": "execute_result",
          "data": {
            "text/plain": [
              "[('NBA', 'Nb'),\n",
              " ('和', 'Caa'),\n",
              " ('CBA', 'FW'),\n",
              " ('差距', 'Na'),\n",
              " ('在', 'P'),\n",
              " ('哪裡', 'Ncd'),\n",
              " ('？', 'QUESTIONCATEGORY'),\n",
              " ('6', 'Neu'),\n",
              " ('張', 'Nf'),\n",
              " ('圖', 'VF'),\n",
              " ('一目瞭然', 'VH'),\n",
              " ('！', 'EXCLAMATIONCATEGORY')]"
            ]
          },
          "metadata": {
            "tags": []
          },
          "execution_count": 34
        }
      ]
    },
    {
      "cell_type": "markdown",
      "metadata": {
        "id": "4fnfBe4SwPgT"
      },
      "source": [
        "# Group mean vector"
      ]
    },
    {
      "cell_type": "code",
      "metadata": {
        "id": "wDMqzQeQwPgT",
        "colab": {
          "base_uri": "https://localhost:8080/"
        },
        "outputId": "1bb4c1b1-c253-490d-e677-77913c936c61"
      },
      "source": [
        "group_vectors = {news_class: [] for news_class in all_news_class}\n",
        "for index, pairs in sorted(train_title_cuts.items()):\n",
        "    vector = get_bow_vector_with_selection(pairs, word2index)\n",
        "    news_class = train_classes[index]\n",
        "    group_vectors[news_class].append(vector)\n",
        "\n",
        "group_mean_vector = {}\n",
        "for news_class, vectors in group_vectors.items():\n",
        "    group_mean_vector[news_class] = np.mean(vectors, axis=0)\n",
        "group_mean_vector"
      ],
      "execution_count": 35,
      "outputs": [
        {
          "output_type": "execute_result",
          "data": {
            "text/plain": [
              "{'旅遊': array([0.        , 0.        , 0.        , ..., 0.        , 0.        ,\n",
              "        0.00333333]),\n",
              " '科技': array([0.        , 0.        , 0.00333333, ..., 0.        , 0.        ,\n",
              "        0.        ]),\n",
              " '財經': array([0.        , 0.00333333, 0.        , ..., 0.        , 0.        ,\n",
              "        0.        ]),\n",
              " '農業': array([0., 0., 0., ..., 0., 0., 0.]),\n",
              " '遊戲': array([0.00333333, 0.        , 0.        , ..., 0.00333333, 0.        ,\n",
              "        0.        ]),\n",
              " '體育': array([0.        , 0.        , 0.        , ..., 0.        , 0.00333333,\n",
              "        0.        ])}"
            ]
          },
          "metadata": {
            "tags": []
          },
          "execution_count": 35
        }
      ]
    },
    {
      "cell_type": "markdown",
      "metadata": {
        "id": "uRBKvnELwPgT"
      },
      "source": [
        "# Group mean vector: 測試"
      ]
    },
    {
      "cell_type": "code",
      "metadata": {
        "tags": [],
        "id": "fnfTFjW_wPgT"
      },
      "source": [
        "classification = {news_class: [] for news_class in all_news_class}\n",
        "for index, pairs in sorted(test_title_cuts.items()):\n",
        "    vector = get_bow_vector_with_selection(pairs, word2index)\n",
        "    if np.sum(np.square(vector)) == 0:\n",
        "        continue\n",
        "\n",
        "    max_val = -2.0\n",
        "    max_class = None\n",
        "    for news_class, ref_vector in group_mean_vector.items():\n",
        "        val = cosine_similarity(ref_vector, vector)\n",
        "        if val > max_val:\n",
        "            max_class = news_class\n",
        "            max_val = val\n",
        "\n",
        "    classification[max_class].append(index)"
      ],
      "execution_count": 36,
      "outputs": []
    },
    {
      "cell_type": "code",
      "metadata": {
        "tags": [],
        "id": "TnwtgS_pwPgU",
        "colab": {
          "base_uri": "https://localhost:8080/"
        },
        "outputId": "fda94550-05d9-4741-dd06-e58dfb512e0f"
      },
      "source": [
        "from collections import Counter\n",
        "\n",
        "for group, ids in classification.items():\n",
        "    counter = Counter([test_classes[id] for id in ids])\n",
        "    print('predict', group, ': ', counter)"
      ],
      "execution_count": 37,
      "outputs": [
        {
          "output_type": "stream",
          "text": [
            "predict 體育 :  Counter({'體育': 65, '旅遊': 10, '遊戲': 8, '財經': 7, '農業': 7, '科技': 3})\n",
            "predict 財經 :  Counter({'財經': 64, '科技': 21, '農業': 11, '體育': 9, '旅遊': 8, '遊戲': 5})\n",
            "predict 科技 :  Counter({'科技': 57, '財經': 15, '農業': 12, '體育': 10, '旅遊': 7, '遊戲': 6})\n",
            "predict 旅遊 :  Counter({'旅遊': 59, '財經': 10, '農業': 10, '體育': 5, '科技': 5, '遊戲': 5})\n",
            "predict 農業 :  Counter({'農業': 57, '旅遊': 6, '科技': 4, '遊戲': 4, '體育': 2, '財經': 1})\n",
            "predict 遊戲 :  Counter({'遊戲': 72, '科技': 9, '旅遊': 9, '體育': 8, '財經': 3, '農業': 3})\n"
          ],
          "name": "stdout"
        }
      ]
    }
  ]
}