{
  "nbformat": 4,
  "nbformat_minor": 0,
  "metadata": {
    "kernelspec": {
      "display_name": "cupoy_env",
      "language": "python",
      "name": "cupoy_env"
    },
    "language_info": {
      "codemirror_mode": {
        "name": "ipython",
        "version": 3
      },
      "file_extension": ".py",
      "mimetype": "text/x-python",
      "name": "python",
      "nbconvert_exporter": "python",
      "pygments_lexer": "ipython3",
      "version": "3.7.3"
    },
    "colab": {
      "name": "計數方法詞向量介紹_作業.ipynb",
      "provenance": [],
      "collapsed_sections": []
    }
  },
  "cells": [
    {
      "cell_type": "markdown",
      "metadata": {
        "id": "TfofiDVqtzQi"
      },
      "source": [
        "## 作業目標: 透過思考與回答以更加了解計數方法的詞向量"
      ]
    },
    {
      "cell_type": "markdown",
      "metadata": {
        "id": "lxM-_MKbtzQ7"
      },
      "source": [
        "### 請問詞庫手法會有什麼樣的優缺點？\n",
        "\n",
        "詞庫手法為創建包含大量字詞的詞庫，將相同意思字詞(同義字)或相似意思字詞(相似字)分類在相同群組。\n",
        "\n",
        "優點:\n",
        "較為直觀。當收集完詞庫後，將字詞轉換為向量較為容易\n",
        "\n",
        "缺點:\n",
        "無法辨識新產生的字詞、建立詞庫需要大量人力與時間成本"
      ]
    },
    {
      "cell_type": "markdown",
      "metadata": {
        "id": "0wEFXaUDtzQ-"
      },
      "source": [
        "### 請問共現矩陣有什麼樣的優缺點？ \n",
        "\n",
        "根據分佈假說，相似的字詞會有類似的上下文，因此我們可以透過計數周圍(window)的字詞來表達特定字詞的向量。\n",
        "\n",
        "優點:\n",
        "考慮上下文、建立好的共現矩陣可重複使用\n",
        "\n",
        "缺點:\n",
        "需要大量內存、對高頻詞效果不佳"
      ]
    },
    {
      "cell_type": "markdown",
      "metadata": {
        "id": "qLGS7tc3tzQ_"
      },
      "source": [
        "### 請問為何需要對共現矩陣或PPMI進行SVD降維?\n",
        "\n",
        "詞向量因為文本字詞一般較為龐大，因此計數手法產生詞向量的維度也會較大，需要增加模型的複雜度來學習資料的特徵。為了使複雜的模型保有良好的表現，就需要更大量的資料，所以會想要降維來減少模型的複雜度。"
      ]
    },
    {
      "cell_type": "markdown",
      "metadata": {
        "id": "3bZE0hrytzRA"
      },
      "source": [
        "### 實作cosine similarity\n",
        "\n",
        "在比較兩個詞向量的相似度時可以使用cosine similarity:\n",
        "$$\n",
        "similarity(x,y) = \\frac{x \\cdot y}{||x||||y||} = \\frac{x_1y_1+...+x_ny_n}{\\sqrt{x_1^2+...+x_n^2}\\sqrt{y_1^2+...+y_n^2}}\n",
        "$$\n",
        "\n",
        "請實作cosine similarity並計算共現矩陣課程範例中you向量([0,1,0,0,0,0,0])與I([0,1,0,1,0,0,0])向量的相似度"
      ]
    },
    {
      "cell_type": "code",
      "metadata": {
        "colab": {
          "base_uri": "https://localhost:8080/"
        },
        "id": "HJopefPytzRC",
        "outputId": "6179b5f3-61e4-4f19-8e9e-046a6b2bab61"
      },
      "source": [
        "import numpy as np\n",
        "I = np.array([0,1,0,0,0,0,0])\n",
        "You = np.array([0,1,0,1,0,0,0])\n",
        "\n",
        "def cos_similarity(x, y, eps=1e-8):\n",
        "    numerator = np.dot(x,y)\n",
        "    denominator = np.sqrt(np.dot(x,x))*np.sqrt(np.dot(y,y)) + eps\n",
        "    return numerator/denominator\n",
        "\n",
        "print(f\"Similarity: {cos_similarity(I, You)}\")"
      ],
      "execution_count": 1,
      "outputs": [
        {
          "output_type": "stream",
          "text": [
            "Similarity: 0.7071067761865475\n"
          ],
          "name": "stdout"
        }
      ]
    },
    {
      "cell_type": "code",
      "metadata": {
        "id": "6RcsCz9CtzRH"
      },
      "source": [
        ""
      ],
      "execution_count": null,
      "outputs": []
    }
  ]
}