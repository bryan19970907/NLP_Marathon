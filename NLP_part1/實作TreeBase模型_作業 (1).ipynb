{
  "nbformat": 4,
  "nbformat_minor": 0,
  "metadata": {
    "kernelspec": {
      "display_name": "cupoy_env",
      "language": "python",
      "name": "cupoy_env"
    },
    "language_info": {
      "codemirror_mode": {
        "name": "ipython",
        "version": 3
      },
      "file_extension": ".py",
      "mimetype": "text/x-python",
      "name": "python",
      "nbconvert_exporter": "python",
      "pygments_lexer": "ipython3",
      "version": "3.7.3"
    },
    "colab": {
      "name": "實作TreeBase模型_作業.ipynb",
      "provenance": [],
      "collapsed_sections": []
    }
  },
  "cells": [
    {
      "cell_type": "markdown",
      "metadata": {
        "id": "iM9j4OvuuX2g"
      },
      "source": [
        "### 作業目的: 使用樹型模型進行文章分類\n",
        "\n",
        "本次作業主利用[Amazon Review data中的All Beauty](https://nijianmo.github.io/amazon/index.html)來進行review評價分類(文章分類)\n",
        "\n",
        "資料中將review分為1,2,3,4,5分，而在這份作業，我們將評論改分為差評價、普通評價、優良評價(1,2-->1差評、3-->2普通評價、4,5-->3優良評價)"
      ]
    },
    {
      "cell_type": "markdown",
      "metadata": {
        "id": "lRY4OVikuX2n"
      },
      "source": [
        "### 載入套件"
      ]
    },
    {
      "cell_type": "code",
      "metadata": {
        "colab": {
          "base_uri": "https://localhost:8080/"
        },
        "id": "oLw_1ubbxeIp",
        "outputId": "24d69045-6d39-4d2f-b755-7e7c2797fc80"
      },
      "source": [
        "from google.colab import drive\r\n",
        "drive.mount('/content/drive')"
      ],
      "execution_count": 1,
      "outputs": [
        {
          "output_type": "stream",
          "text": [
            "Drive already mounted at /content/drive; to attempt to forcibly remount, call drive.mount(\"/content/drive\", force_remount=True).\n"
          ],
          "name": "stdout"
        }
      ]
    },
    {
      "cell_type": "code",
      "metadata": {
        "colab": {
          "base_uri": "https://localhost:8080/"
        },
        "id": "DLTaY7rMxih2",
        "outputId": "fd28b1a4-66d8-4808-c8bf-12617737fe3d"
      },
      "source": [
        "%cd './drive/My Drive/NLP/day28'"
      ],
      "execution_count": 2,
      "outputs": [
        {
          "output_type": "stream",
          "text": [
            "/content/drive/My Drive/NLP/day28\n"
          ],
          "name": "stdout"
        }
      ]
    },
    {
      "cell_type": "code",
      "metadata": {
        "colab": {
          "base_uri": "https://localhost:8080/"
        },
        "id": "ERDbHg9Exq1o",
        "outputId": "e7f90e20-5a25-44e4-da3a-b9f020782b16"
      },
      "source": [
        "!wget http://deepyeti.ucsd.edu/jianmo/amazon/categoryFiles/All_Beauty.json.gz\r\n",
        "!gunzip All_Beauty.json.gz"
      ],
      "execution_count": 3,
      "outputs": [
        {
          "output_type": "stream",
          "text": [
            "--2021-01-10 10:11:51--  http://deepyeti.ucsd.edu/jianmo/amazon/categoryFiles/All_Beauty.json.gz\n",
            "Resolving deepyeti.ucsd.edu (deepyeti.ucsd.edu)... 169.228.63.50\n",
            "Connecting to deepyeti.ucsd.edu (deepyeti.ucsd.edu)|169.228.63.50|:80... connected.\n",
            "HTTP request sent, awaiting response... 200 OK\n",
            "Length: 47350910 (45M) [application/octet-stream]\n",
            "Saving to: ‘All_Beauty.json.gz’\n",
            "\n",
            "All_Beauty.json.gz  100%[===================>]  45.16M  14.5MB/s    in 3.8s    \n",
            "\n",
            "2021-01-10 10:11:56 (11.8 MB/s) - ‘All_Beauty.json.gz’ saved [47350910/47350910]\n",
            "\n"
          ],
          "name": "stdout"
        }
      ]
    },
    {
      "cell_type": "code",
      "metadata": {
        "id": "8iEzRsIauX2o"
      },
      "source": [
        "import json\n",
        "import re\n",
        "from sklearn.tree import DecisionTreeClassifier\n",
        "from sklearn.ensemble import AdaBoostClassifier, RandomForestClassifier\n",
        "from sklearn.metrics import classification_report, confusion_matrix\n",
        "from sklearn.model_selection import train_test_split\n",
        "from sklearn.feature_extraction.text import CountVectorizer, TfidfVectorizer, TfidfTransformer"
      ],
      "execution_count": 3,
      "outputs": []
    },
    {
      "cell_type": "markdown",
      "metadata": {
        "id": "YORjR7kquX2o"
      },
      "source": [
        "### 資料前處理\n",
        "文本資料較為龐大，這裡我們取前10000筆資料來進行作業練習"
      ]
    },
    {
      "cell_type": "code",
      "metadata": {
        "colab": {
          "base_uri": "https://localhost:8080/"
        },
        "id": "_5kUBnwoyPZ9",
        "outputId": "65a1b6c7-f568-4ebf-859e-494be68b1765"
      },
      "source": [
        "# ref:https://blog.csdn.net/u011318077/article/details/88550775\r\n",
        "#load json data\r\n",
        "all_reviews = []\r\n",
        "filename = ('./All_Beauty.json')  \r\n",
        "with open(filename , 'r' , encoding='utf-8' , errors='ignored') as f:\r\n",
        "  for review in f.readlines():\r\n",
        "    all_reviews.append(json.loads(review))\r\n",
        "\r\n",
        "all_reviews[0]"
      ],
      "execution_count": 4,
      "outputs": [
        {
          "output_type": "execute_result",
          "data": {
            "text/plain": [
              "{'asin': '0143026860',\n",
              " 'overall': 1.0,\n",
              " 'reviewText': 'great',\n",
              " 'reviewTime': '02 19, 2015',\n",
              " 'reviewerID': 'A1V6B6TNIC10QE',\n",
              " 'reviewerName': 'theodore j bigham',\n",
              " 'summary': 'One Star',\n",
              " 'unixReviewTime': 1424304000,\n",
              " 'verified': True}"
            ]
          },
          "metadata": {
            "tags": []
          },
          "execution_count": 4
        }
      ]
    },
    {
      "cell_type": "code",
      "metadata": {
        "id": "ka2gpIETZXVk"
      },
      "source": [
        "all_reviews = all_reviews[:10000]"
      ],
      "execution_count": 5,
      "outputs": []
    },
    {
      "cell_type": "code",
      "metadata": {
        "colab": {
          "base_uri": "https://localhost:8080/"
        },
        "id": "ZxWturQ-uX2q",
        "outputId": "2b0f47d7-85be-4e8b-9d24-fc9e82a1945f"
      },
      "source": [
        "#parse label(overall) and corpus(reviewText)\n",
        "corpus = []\n",
        "labels = []\n",
        "\n",
        "for i in range(len(all_reviews)):\n",
        "  corpus.append(all_reviews[i].get('reviewText'))\n",
        "  labels.append(int(all_reviews[i].get('overall')))\n",
        "        \n",
        "#transform labels: 1,2 --> 1 and 3 --> 2 and 4,5 --> 3\n",
        "for i , label in enumerate(labels):\n",
        "  if label == 1 or label == 2:\n",
        "    labels[i] = 1\n",
        "  elif label == 3:\n",
        "    labels[i] = 2\n",
        "  else:\n",
        "    labels[i] = 3\n",
        "    \n",
        "print(labels[:5])"
      ],
      "execution_count": 6,
      "outputs": [
        {
          "output_type": "stream",
          "text": [
            "[1, 3, 3, 3, 3]\n"
          ],
          "name": "stdout"
        }
      ]
    },
    {
      "cell_type": "code",
      "metadata": {
        "colab": {
          "base_uri": "https://localhost:8080/"
        },
        "id": "Qpsr7UJC99Vs",
        "outputId": "9631111f-6e29-445c-e1f0-ffaf797d6772"
      },
      "source": [
        "print(corpus[:5])"
      ],
      "execution_count": 7,
      "outputs": [
        {
          "output_type": "stream",
          "text": [
            "['great', \"My  husband wanted to reading about the Negro Baseball and this a great addition to his library\\n Our library doesn't haveinformation so this book is his start. Tthank you\", 'This book was very informative, covering all aspects of game.', 'I am already a baseball fan and knew a bit about the Negro leagues, but I learned a lot more reading this book.', \"This was a good story of the Black leagues. I bought the book to teach in my high school reading class. I found it very informative and exciting. I would recommend to anyone interested in the history of the black leagues. It is well written, unlike a book of facts. The McKissack's continue to write good books for young audiences that can also be enjoyed by adults!\"]\n"
          ],
          "name": "stdout"
        }
      ]
    },
    {
      "cell_type": "code",
      "metadata": {
        "colab": {
          "base_uri": "https://localhost:8080/"
        },
        "id": "lkVhOg3duX2q",
        "outputId": "88ba9557-b6b6-4382-b0db-5b559b1400ef"
      },
      "source": [
        "#preprocessing data\n",
        "#remove email address, punctuations, and change line symbol(\\n)\n",
        "\n",
        "# \\w+(?=@)@(?<=@)\\w+.\\w+ for email address\n",
        "\n",
        "pattern = r\"(\\w+(?=@)@(?<=@)\\w+.\\w+)|\\W+\"\n",
        "\n",
        "counter = 0\n",
        "for contents in (corpus):\n",
        "  if contents!=None:\n",
        "    contents = re.sub(pattern , \" \" , contents.strip('\\n'))\n",
        "    corpus[counter] = ' '.join([content for content in contents.split() if content!=\"\"])\n",
        "    counter +=1\n",
        "\n",
        "print(corpus[2:4])"
      ],
      "execution_count": 8,
      "outputs": [
        {
          "output_type": "stream",
          "text": [
            "['This book was very informative covering all aspects of game', 'I am already a baseball fan and knew a bit about the Negro leagues but I learned a lot more reading this book']\n"
          ],
          "name": "stdout"
        }
      ]
    },
    {
      "cell_type": "code",
      "metadata": {
        "colab": {
          "base_uri": "https://localhost:8080/"
        },
        "id": "rB5AeARHU_5d",
        "outputId": "5dddc855-283d-4f90-f86b-564f0dd92ae1"
      },
      "source": [
        "#split corpus and label into train and test\r\n",
        "x_train , x_test , y_train , y_test = train_test_split(corpus , labels , test_size = 0.2)\r\n",
        "len(x_train), len(x_test), len(y_train), len(y_test)"
      ],
      "execution_count": 9,
      "outputs": [
        {
          "output_type": "execute_result",
          "data": {
            "text/plain": [
              "(8000, 2000, 8000, 2000)"
            ]
          },
          "metadata": {
            "tags": []
          },
          "execution_count": 9
        }
      ]
    },
    {
      "cell_type": "code",
      "metadata": {
        "id": "5QvVsq-IuX2r"
      },
      "source": [
        "#change corpus into vector\n",
        "#you can use tfidf or BoW here\n",
        "cv = CountVectorizer()\n",
        "cv.fit(x_train)\n",
        "\n",
        "#transform training and testing corpus into vector form\n",
        "x_train = cv.transform(x_train)\n",
        "x_test = cv.transform(x_test)"
      ],
      "execution_count": 10,
      "outputs": []
    },
    {
      "cell_type": "code",
      "metadata": {
        "id": "lBvgp8z2bH_K"
      },
      "source": [
        "\"\"\"\r\n",
        "tfidf = TfidfVectorizer()\r\n",
        "tfidf.fit(x_train)\r\n",
        "\r\n",
        "x_train = tfidf.transform(x_train)\r\n",
        "x_test = tfidf.transform(x_test)\r\n",
        "\"\"\""
      ],
      "execution_count": 48,
      "outputs": []
    },
    {
      "cell_type": "markdown",
      "metadata": {
        "id": "cPdWbsTuuX2r"
      },
      "source": [
        "### 訓練與預測"
      ]
    },
    {
      "cell_type": "code",
      "metadata": {
        "colab": {
          "base_uri": "https://localhost:8080/"
        },
        "id": "I7F8gWuTuX2r",
        "outputId": "ec1a3171-38e7-4c91-b633-06e19707207f"
      },
      "source": [
        "#build classification model (decision tree, random forest, or adaboost)\n",
        "#start training\n",
        "tree = DecisionTreeClassifier(max_depth=5,min_samples_leaf=5,min_samples_split=10)\n",
        "tree.fit(x_train,y_train)"
      ],
      "execution_count": 11,
      "outputs": [
        {
          "output_type": "execute_result",
          "data": {
            "text/plain": [
              "DecisionTreeClassifier(ccp_alpha=0.0, class_weight=None, criterion='gini',\n",
              "                       max_depth=5, max_features=None, max_leaf_nodes=None,\n",
              "                       min_impurity_decrease=0.0, min_impurity_split=None,\n",
              "                       min_samples_leaf=5, min_samples_split=10,\n",
              "                       min_weight_fraction_leaf=0.0, presort='deprecated',\n",
              "                       random_state=None, splitter='best')"
            ]
          },
          "metadata": {
            "tags": []
          },
          "execution_count": 11
        }
      ]
    },
    {
      "cell_type": "code",
      "metadata": {
        "id": "Wnzv8w2DuX2s"
      },
      "source": [
        "#start inference\n",
        "y_pred = tree.predict(x_test)"
      ],
      "execution_count": 12,
      "outputs": []
    },
    {
      "cell_type": "code",
      "metadata": {
        "colab": {
          "base_uri": "https://localhost:8080/"
        },
        "id": "MvPSVutxuX2s",
        "outputId": "2e4b5f89-3c44-4c85-f3b9-98c1cdf64b67"
      },
      "source": [
        "#calculate accuracy\n",
        "tree.score(x_test , y_test)"
      ],
      "execution_count": 13,
      "outputs": [
        {
          "output_type": "execute_result",
          "data": {
            "text/plain": [
              "0.8935"
            ]
          },
          "metadata": {
            "tags": []
          },
          "execution_count": 13
        }
      ]
    },
    {
      "cell_type": "code",
      "metadata": {
        "colab": {
          "base_uri": "https://localhost:8080/"
        },
        "id": "cgRhuCu-uX2s",
        "outputId": "c3fbf973-6c9d-4476-93c6-571f6525e1a2"
      },
      "source": [
        "#calculate confusion matrix, precision, recall, and f1-score\n",
        "print(classification_report(y_test, y_pred))\n",
        "print(confusion_matrix(y_test, y_pred))"
      ],
      "execution_count": 14,
      "outputs": [
        {
          "output_type": "stream",
          "text": [
            "              precision    recall  f1-score   support\n",
            "\n",
            "           1       0.27      0.03      0.05       139\n",
            "           2       0.00      0.00      0.00        69\n",
            "           3       0.90      0.99      0.94      1792\n",
            "\n",
            "    accuracy                           0.89      2000\n",
            "   macro avg       0.39      0.34      0.33      2000\n",
            "weighted avg       0.82      0.89      0.85      2000\n",
            "\n",
            "[[   4    0  135]\n",
            " [   2    0   67]\n",
            " [   9    0 1783]]\n"
          ],
          "name": "stdout"
        },
        {
          "output_type": "stream",
          "text": [
            "/usr/local/lib/python3.6/dist-packages/sklearn/metrics/_classification.py:1272: UndefinedMetricWarning: Precision and F-score are ill-defined and being set to 0.0 in labels with no predicted samples. Use `zero_division` parameter to control this behavior.\n",
            "  _warn_prf(average, modifier, msg_start, len(result))\n"
          ],
          "name": "stderr"
        }
      ]
    },
    {
      "cell_type": "markdown",
      "metadata": {
        "id": "T3va3ie0uX2t"
      },
      "source": [
        "由上述資訊可以發現, 模型在好評的準確度高(precision, recall都高), 而在差評的部分表現較不理想, 在普通評價的部分大部分跟差評搞混,\n",
        "同學可以試著學習到的各種方法來提升模型的表現"
      ]
    },
    {
      "cell_type": "code",
      "metadata": {
        "id": "SIfX09AKuX2t"
      },
      "source": [
        ""
      ],
      "execution_count": null,
      "outputs": []
    }
  ]
}