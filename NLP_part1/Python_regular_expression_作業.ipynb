{
  "nbformat": 4,
  "nbformat_minor": 0,
  "metadata": {
    "kernelspec": {
      "display_name": "pytorch_env",
      "language": "python",
      "name": "pytorch_env"
    },
    "language_info": {
      "codemirror_mode": {
        "name": "ipython",
        "version": 3
      },
      "file_extension": ".py",
      "mimetype": "text/x-python",
      "name": "python",
      "nbconvert_exporter": "python",
      "pygments_lexer": "ipython3",
      "version": "3.7.3"
    },
    "colab": {
      "name": "Python_regular_expression_作業.ipynb",
      "provenance": [],
      "collapsed_sections": []
    }
  },
  "cells": [
    {
      "cell_type": "markdown",
      "metadata": {
        "id": "tTJolmzeBLGr"
      },
      "source": [
        "# 作業目標: 使用python正規表達式對資料進行清洗處理\n",
        "\n",
        "這份作業我們會使用詐欺郵件的文本資料來作為清洗與處理的操作。\n",
        "[資料集](https://www.kaggle.com/rtatman/fraudulent-email-corpus/data#)"
      ]
    },
    {
      "cell_type": "markdown",
      "metadata": {
        "id": "vhv0OElTBLGs"
      },
      "source": [
        "### 讀入資料文本\n",
        "因原始文本較大，先使用部份擷取的**sample_emails.txt**來進行練習"
      ]
    },
    {
      "cell_type": "code",
      "metadata": {
        "colab": {
          "base_uri": "https://localhost:8080/"
        },
        "id": "cM1qHYfbHlLZ",
        "outputId": "30fd9f7e-b043-4af6-c6c3-c31bda841a6d"
      },
      "source": [
        "from google.colab import drive\r\n",
        "drive.mount('/content/drive')"
      ],
      "execution_count": 2,
      "outputs": [
        {
          "output_type": "stream",
          "text": [
            "Mounted at /content/drive\n"
          ],
          "name": "stdout"
        }
      ]
    },
    {
      "cell_type": "code",
      "metadata": {
        "id": "gasqvPqwIDFS"
      },
      "source": [
        "file_path = './drive/My Drive/NLP/day04/sample_emails.txt'"
      ],
      "execution_count": 4,
      "outputs": []
    },
    {
      "cell_type": "code",
      "metadata": {
        "id": "v_IMKsGoH7cN"
      },
      "source": [
        "# ref:https://www.opencli.com/python/4-ways-write-file-line-by-line-in-python\r\n",
        "\r\n",
        "with open(file_path , mode='r') as f:\r\n",
        "  line = f.readlines()"
      ],
      "execution_count": 11,
      "outputs": []
    },
    {
      "cell_type": "code",
      "metadata": {
        "colab": {
          "base_uri": "https://localhost:8080/"
        },
        "id": "m1H7e_c6Ik9g",
        "outputId": "e49a664e-fcea-4e46-b0d9-7b6edf642412"
      },
      "source": [
        "print(line)"
      ],
      "execution_count": 13,
      "outputs": [
        {
          "output_type": "stream",
          "text": [
            "['From r  Wed Oct 30 21:41:56 2002\\n', 'Return-Path: <james_ngola2002@maktoob.com>\\n', 'X-Sieve: cmu-sieve 2.0\\n', 'Return-Path: <james_ngola2002@maktoob.com>\\n', 'Message-Id: <200210310241.g9V2fNm6028281@cs.CU>\\n', 'From: \"MR. JAMES NGOLA.\" <james_ngola2002@maktoob.com>\\n', 'Reply-To: james_ngola2002@maktoob.com\\n', 'To: webmaster@aclweb.org\\n', 'Date: Thu, 31 Oct 2002 02:38:20 +0000\\n', 'Subject: URGENT BUSINESS ASSISTANCE AND PARTNERSHIP\\n', 'X-Mailer: Microsoft Outlook Express 5.00.2919.6900 DM\\n', 'MIME-Version: 1.0\\n', 'Content-Type: text/plain; charset=\"us-ascii\"\\n', 'Content-Transfer-Encoding: 8bit\\n', 'X-MIME-Autoconverted: from quoted-printable to 8bit by sideshowmel.si.UM id g9V2foW24311\\n', 'Status: O\\n', '\\n', 'FROM:MR. JAMES NGOLA.\\n', 'CONFIDENTIAL TEL: 233-27-587908.\\n', 'E-MAIL: (james_ngola2002@maktoob.com).\\n', '\\n', 'URGENT BUSINESS ASSISTANCE AND PARTNERSHIP.\\n', '\\n', '\\n', 'DEAR FRIEND,\\n', '\\n', 'I AM ( DR.) JAMES NGOLA, THE PERSONAL ASSISTANCE TO THE LATE CONGOLESE (PRESIDENT LAURENT KABILA) WHO WAS ASSASSINATED BY HIS BODY GUARD ON 16TH JAN. 2001.\\n', '\\n', '\\n', 'THE INCIDENT OCCURRED IN OUR PRESENCE WHILE WE WERE HOLDING MEETING WITH HIS EXCELLENCY OVER THE FINANCIAL RETURNS FROM THE DIAMOND SALES IN THE AREAS CONTROLLED BY (D.R.C.) DEMOCRATIC REPUBLIC OF CONGO FORCES AND THEIR FOREIGN ALLIES ANGOLA AND ZIMBABWE, HAVING RECEIVED THE PREVIOUS DAY (USD$100M) ONE HUNDRED MILLION UNITED STATES DOLLARS, CASH IN THREE DIPLOMATIC BOXES ROUTED THROUGH ZIMBABWE.\\n', '\\n', 'MY PURPOSE OF WRITING YOU THIS LETTER IS TO SOLICIT FOR YOUR ASSISTANCE AS TO BE A COVER TO THE FUND AND ALSO COLLABORATION IN MOVING THE SAID FUND INTO YOUR BANK ACCOUNT THE SUM OF (USD$25M) TWENTY FIVE MILLION UNITED STATES DOLLARS ONLY, WHICH I DEPOSITED WITH A SECURITY COMPANY IN GHANA, IN A DIPLOMATIC BOX AS GOLDS WORTH (USD$25M) TWENTY FIVE MILLION UNITED STATES DOLLARS ONLY FOR SAFE KEEPING IN A SECURITY VAULT FOR ANY FURTHER INVESTMENT PERHAPS IN YOUR COUNTRY. \\n', '\\n', 'YOU WERE INTRODUCED TO ME BY A RELIABLE FRIEND OF MINE WHO IS A TRAVELLER,AND ALSO A MEMBER OF CHAMBER OF COMMERCE AS A RELIABLE AND TRUSTWORTHY PERSON WHOM I CAN RELY ON AS FOREIGN PARTNER, EVEN THOUGH THE NATURE OF THE TRANSACTION WAS NOT REVEALED TO HIM FOR SECURITY REASONS.\\n', '\\n', '\\n', 'THE (USD$25M) WAS PART OF A PROCEEDS FROM DIAMOND TRADE MEANT FOR THE LATE PRESIDENT LAURENT KABILA WHICH WAS DELIVERED THROUGH ZIMBABWE IN DIPLOMATIC BOXES. THE BOXES WERE KEPT UNDER MY CUSTODY BEFORE THE SAD EVENT THAT TOOK THE LIFE OF (MR. PRESIDENT).THE CONFUSION THAT ENSUED AFTER THE ASSASSINATION AND THE SPORADIC SHOOTING AMONG THE FACTIONS, I HAVE TO RUN AWAY FROM THE COUNTRY FOR MY DEAR LIFE AS I AM NOT A SOLDIER BUT A CIVIL SERVANT I CROSSED RIVER CONGO TO OTHER SIDE OF CONGO LIBREVILLE FROM THERE I MOVED TO THE THIRD COUNTRY GHANA WHERE I AM PRESENTLY TAKING REFUGE. \\n', '\\n', 'AS A MATTER OF FACT, WHAT I URGENTLY NEEDED FROM YOU IS YOUR ASSISTANCE IN MOVING THIS MONEY INTO YOUR ACCOUNT IN YOUR COUNTRY FOR INVESTMENT WITHOUT RAISING EYEBROW. FOR YOUR ASSISTANCE I WILL GIVE YOU 20% OF THE TOTAL SUM AS YOUR OWN SHARE WHEN THE MONEY GETS TO YOUR ACCOUNT, WHILE 75% WILL BE FOR ME, OF WHICH WITH YOUR KIND ADVICE I HOPE TO INVEST IN PROFITABLE VENTURE IN YOUR COUNTRY IN OTHER TO SETTLE DOWN FOR MEANINGFUL LIFE, AS I AM TIRED OF LIVING IN A WAR ENVIRONMENT. \\n', '\\n', 'THE REMAINING 5% WILL BE USED TO OFFSET ANY COST INCURRED IN THE CAUSE OF MOVING THE MONEY TO YOUR ACCOUNT. IF THE PROPOSAL IS ACCEPTABLE TO YOU PLEASE CONTACT ME IMMEDIATELY THROUGH THE ABOVE TELEPHONE AND E-MAIL, TO ENABLE ME ARRANGE FACE TO FACE MEETING WITH YOU IN GHANA FOR THE CLEARANCE OF THE FUNDS BEFORE TRANSFRING IT TO YOUR BANK ACCOUNT AS SEEING IS BELIEVING. \\n', '\\n', 'FINALLY, IT IS IMPORTANT ALSO THAT I LET YOU UNDERSTAND THAT THERE IS NO RISK INVOLVED WHATSOEVER AS THE MONEY HAD NO RECORD IN KINSHASA FOR IT WAS MEANT FOR THE PERSONAL USE OF (MR. PRESIDEND ) BEFORE THE NEFARIOUS INCIDENT OCCURRED, AND ALSO I HAVE ALL THE NECESSARY DOCUMENTS AS REGARDS TO THE FUNDS INCLUDING THE (CERTIFICATE OF DEPOSIT), AS I AM THE DEPOSITOR OF THE CONSIGNMENT.\\n', '\\n', '\\n', 'LOOKING FORWARD TO YOUR URGENT RESPONSE.\\n', '\\n', 'YOUR SINCERELY,\\n', '\\n', 'MR. JAMES NGOLA. \\n', '\\n', '\\n', '\\n', '\\n', '\\n', '\\n', '\\n', '\\n', '\\n', '\\n', 'From r  Thu Oct 31 08:11:39 2002\\n', 'Return-Path: <bensul2004nng@spinfinder.com>\\n', 'X-Sieve: cmu-sieve 2.0\\n', 'Return-Path: <bensul2004nng@spinfinder.com>\\n', 'Message-Id: <200210311310.g9VDANt24674@bloodwork.mr.itd.UM>\\n', 'From: \"Mr. Ben Suleman\" <bensul2004nng@spinfinder.com>\\n', 'Date: Thu, 31 Oct 2002 05:10:00\\n', 'To: R@M\\n', 'Subject: URGENT ASSISTANCE /RELATIONSHIP (P)\\n', 'MIME-Version: 1.0\\n', 'Content-Type: text/plain;charset=\"iso-8859-1\"\\n', 'Content-Transfer-Encoding: 7bit\\n', 'Status: O\\n', '\\n', 'Dear Friend,\\n', '\\n', 'I am Mr. Ben Suleman a custom officer and work as Assistant controller of the Customs and Excise department Of the Federal Ministry of Internal Affairs stationed at the Murtala Mohammed International Airport, Ikeja, Lagos-Nigeria.\\n', '\\n', 'After the sudden death of the former Head of state of Nigeria General Sanni Abacha on June 8th 1998 his aides and immediate members of his family were arrested while trying to escape from Nigeria in a Chartered jet to Saudi Arabia with 6 trunk boxes Marked \"Diplomatic Baggage\". Acting on a tip-off as they attempted to board the Air Craft,my officials carried out a thorough search on the air craft and discovered that the 6 trunk boxes contained foreign currencies amounting to US$197,570,000.00(One Hundred and  Ninety-Seven Million Five Hundred Seventy Thousand United States Dollars).\\n', '\\n', 'I declared only (5) five boxes to the government and withheld one (1) in my custody containing the sum of (US$30,000,000.00) Thirty Million United States Dollars Only, which has been disguised to prevent their being discovered during transportation process.Due to several media reports on the late head of state about all the money him and his co-government officials stole from our government treasury amounting\\n', 'to US$55 Billion Dollars (ref:ngrguardiannews.com) of July 2nd 1999. Even the London times of July 1998 reported that General Abacha has over US$3.Billion dollars in one account overseas. We decided to conceal this one (1)box till the situation is calm and quite on the issue. The box was thus deposited with a security company here in Nigeria and tagged as \"Precious Stones and Jewellry\" in other that its\\n', 'content will not be discovered. Now that all is calm, we (myself and two of my colleagues in the operations team) are now ready to move this box out of the country through a diplomatic arrangement which is the safest means. \\n', '\\n', 'However as government officials the Civil Service Code of Conduct does not allow us by law to operate any foreign account or own foreign investment and the amount of money that can be found in our account\\n', 'cannot be more than our salary on the average, thus our handicapp and our need for your assistance to help collect and keep safely in your account this money.\\n', '\\n', 'Therefore we want you to assist us in moving this money out of Nigeria. We shall definitely compensate you handsomely for the assistance. We can do this by instructing the Security Company here in Nigeria to\\n', 'move the consignment to their affiliate branch office outside Nigeria through diplomatic means and the consignment will be termed as Precious Stones and Jewelleries\" which you bought during your visit to Nigeria and is being transfered to your country from here for safe keeping. Then we can arrange to meet at the destination country to take the delivery of the consignment. You will thereafter open an account there and lodge the Money there and gradually instruct remittance to your Country. \\n', '\\n', 'This business is 100% risk free for you so please treat this matter with utmost confidentiality .If you indicate your interest to assist us please just e-mail me for more Explanation on how we plan to execute the transaction.\\n', '\\n', 'Expecting your response urgently.\\n', '\\n', 'Best regards,\\n', '\\n', 'Mr. Ben Suleman\\n', '\\n', 'From r  Thu Oct 31 17:27:16 2002\\n', 'Return-Path: <obong_715@epatra.com>\\n', 'X-Sieve: cmu-sieve 2.0\\n', 'Return-Path: <obong_715@epatra.com>\\n', 'Message-Id: <200210312227.g9VMQvDj017948@bluewhale.cs.CU>\\n', 'From: \"PRINCE OBONG ELEME\" <obong_715@epatra.com>\\n', 'Reply-To: obong_715@epatra.com\\n', 'To: webmaster@aclweb.org\\n', 'Date: Thu, 31 Oct 2002 22:17:55 +0100\\n', 'Subject: GOOD DAY TO YOU\\n', 'X-Mailer: Microsoft Outlook Express 5.00.2919.6900DM\\n', 'MIME-Version: 1.0\\n', 'Content-Type: text/plain; charset=\"us-ascii\"\\n', 'Content-Transfer-Encoding: 8bit\\n', 'X-MIME-Autoconverted: from quoted-printable to 8bit by sideshowmel.si.UM id g9VMRBW20642\\n', 'Status: RO\\n', '\\n', 'FROM HIS ROYAL MAJESTY (HRM) CROWN RULER OF ELEME KINGDOM \\n', 'CHIEF DANIEL ELEME, PHD, EZE 1 OF ELEME.E-MAIL \\n', 'ADDRESS:obong_715@epatra.com  \\n', '\\n', 'ATTENTION:PRESIDENT,CEO Sir/ Madam. \\n', '\\n', 'This letter might surprise you because we have met\\n', 'neither in person nor by correspondence. But I believe\\n', 'it is one day that you got to know somebody either in\\n', 'physical or through correspondence. \\n', '\\n', 'I got your contact through discreet inquiry from the\\n', 'chambers of commerce and industry of your country on\\n', 'the net, you and your organization were revealed as\\n', 'being quite astute in private entrepreneurship, one\\n', 'has no doubt in your ability to handle a financialbusiness transaction. \\n', '\\n', 'However, I am the first son of His Royal\\n', 'majesty,Obong.D. Eleme , and the traditional Ruler of\\n', 'Eleme Province in the oil producing area of River\\n', 'State of Nigeria. I am making this contact to you in\\n', 'respect of US$60,000,000.00 (Sixty Million United\\n', 'State Dollars), which I inherited, from my latefather. \\n', '\\n', 'This money was accumulated from royalties paid to my\\n', 'father as compensation by the oil firms located in our\\n', 'area as a result of oil presence on our land, which\\n', 'hamper agriculture, which is our major source oflivelihood. \\n', '\\n', 'Unfortunately my father died from protracted\\n', 'diabetes.But before his death he called my attention\\n', 'and informed me that he lodged some funds on a two\\n', 'boxes with a security firm with an open beneficiary\\n', 'status. The lodgment security code number was also\\n', 'revealed to me, he then advised me to look for a\\n', 'reliable business partner abroad, that will assist me\\n', 'in investing the money in a lucrative business as a\\n', 'result of economic instability in Nigeria. So this is\\n', 'the main reason why I am contacting you for us to move\\n', 'this money from the security firm to any Country of\\n', 'your choice for investment purpose. \\n', '\\n', 'So I will like you to be the ultimate beneficiary, so\\n', 'that the funds can be moved in your name and\\n', 'particulars to any Country of your choice where it\\n', 'will be claimed and invested. Hence my father have had\\n', 'intimated the security firm personnel that the\\n', 'beneficiary of the box is his foreign partner whose\\n', 'particulars will be forwarded to the firm when due. \\n', '\\n', 'But I will guide you Accordingly. As soon as the funds\\n', 'reach, I will then come over to meet you in person, so\\n', 'that we can discuss physically on investment\\n', 'potentials. Based on this assistance my Family and I\\n', 'have unanimously decided to give you 30% of the total\\n', 'money, 5% for Charity home, 10% for expenses, which\\n', 'may arise during this transaction, Fax and phone bills\\n', 'inclusive. The balance of 55% you will invest andmanaged for my Family. \\n', '\\n', 'I hereby guarantee you that this is not government\\n', 'money, it is not drug money and it is not money from\\n', 'arms deal. Though you have to maintain high degree of\\n', 'confidentiality on this matter. I will give more\\n', 'details about the proceedings of this transaction as\\n', 'soon as I receive your favorable reply. \\n', '\\n', 'Please reply to my Email Address:obong_715@epatra.com\\n', 'I hope this will be the beginning of a prosperous\\n', 'relationship between my family and your family. \\n', '\\n', 'Nevertheless if you are for any reason not interested,\\n', 'kindly inform me immediately so that I will look foranother contact. \\n', '\\n', 'I am waiting for your quick response. \\n', '\\n', 'Yours faithfully, \\n', '\\n', 'Prince Obong Abbot \\n']\n"
          ],
          "name": "stdout"
        }
      ]
    },
    {
      "cell_type": "code",
      "metadata": {
        "colab": {
          "base_uri": "https://localhost:8080/"
        },
        "id": "q4VFZo09NJnG",
        "outputId": "12033bb1-8422-4855-9ab3-5154c7259f59"
      },
      "source": [
        "txt = \"\"\r\n",
        "for i in range(len(line)):\r\n",
        "  txt += line[i]\r\n",
        "print(txt)"
      ],
      "execution_count": 18,
      "outputs": [
        {
          "output_type": "stream",
          "text": [
            "From r  Wed Oct 30 21:41:56 2002\n",
            "Return-Path: <james_ngola2002@maktoob.com>\n",
            "X-Sieve: cmu-sieve 2.0\n",
            "Return-Path: <james_ngola2002@maktoob.com>\n",
            "Message-Id: <200210310241.g9V2fNm6028281@cs.CU>\n",
            "From: \"MR. JAMES NGOLA.\" <james_ngola2002@maktoob.com>\n",
            "Reply-To: james_ngola2002@maktoob.com\n",
            "To: webmaster@aclweb.org\n",
            "Date: Thu, 31 Oct 2002 02:38:20 +0000\n",
            "Subject: URGENT BUSINESS ASSISTANCE AND PARTNERSHIP\n",
            "X-Mailer: Microsoft Outlook Express 5.00.2919.6900 DM\n",
            "MIME-Version: 1.0\n",
            "Content-Type: text/plain; charset=\"us-ascii\"\n",
            "Content-Transfer-Encoding: 8bit\n",
            "X-MIME-Autoconverted: from quoted-printable to 8bit by sideshowmel.si.UM id g9V2foW24311\n",
            "Status: O\n",
            "\n",
            "FROM:MR. JAMES NGOLA.\n",
            "CONFIDENTIAL TEL: 233-27-587908.\n",
            "E-MAIL: (james_ngola2002@maktoob.com).\n",
            "\n",
            "URGENT BUSINESS ASSISTANCE AND PARTNERSHIP.\n",
            "\n",
            "\n",
            "DEAR FRIEND,\n",
            "\n",
            "I AM ( DR.) JAMES NGOLA, THE PERSONAL ASSISTANCE TO THE LATE CONGOLESE (PRESIDENT LAURENT KABILA) WHO WAS ASSASSINATED BY HIS BODY GUARD ON 16TH JAN. 2001.\n",
            "\n",
            "\n",
            "THE INCIDENT OCCURRED IN OUR PRESENCE WHILE WE WERE HOLDING MEETING WITH HIS EXCELLENCY OVER THE FINANCIAL RETURNS FROM THE DIAMOND SALES IN THE AREAS CONTROLLED BY (D.R.C.) DEMOCRATIC REPUBLIC OF CONGO FORCES AND THEIR FOREIGN ALLIES ANGOLA AND ZIMBABWE, HAVING RECEIVED THE PREVIOUS DAY (USD$100M) ONE HUNDRED MILLION UNITED STATES DOLLARS, CASH IN THREE DIPLOMATIC BOXES ROUTED THROUGH ZIMBABWE.\n",
            "\n",
            "MY PURPOSE OF WRITING YOU THIS LETTER IS TO SOLICIT FOR YOUR ASSISTANCE AS TO BE A COVER TO THE FUND AND ALSO COLLABORATION IN MOVING THE SAID FUND INTO YOUR BANK ACCOUNT THE SUM OF (USD$25M) TWENTY FIVE MILLION UNITED STATES DOLLARS ONLY, WHICH I DEPOSITED WITH A SECURITY COMPANY IN GHANA, IN A DIPLOMATIC BOX AS GOLDS WORTH (USD$25M) TWENTY FIVE MILLION UNITED STATES DOLLARS ONLY FOR SAFE KEEPING IN A SECURITY VAULT FOR ANY FURTHER INVESTMENT PERHAPS IN YOUR COUNTRY. \n",
            "\n",
            "YOU WERE INTRODUCED TO ME BY A RELIABLE FRIEND OF MINE WHO IS A TRAVELLER,AND ALSO A MEMBER OF CHAMBER OF COMMERCE AS A RELIABLE AND TRUSTWORTHY PERSON WHOM I CAN RELY ON AS FOREIGN PARTNER, EVEN THOUGH THE NATURE OF THE TRANSACTION WAS NOT REVEALED TO HIM FOR SECURITY REASONS.\n",
            "\n",
            "\n",
            "THE (USD$25M) WAS PART OF A PROCEEDS FROM DIAMOND TRADE MEANT FOR THE LATE PRESIDENT LAURENT KABILA WHICH WAS DELIVERED THROUGH ZIMBABWE IN DIPLOMATIC BOXES. THE BOXES WERE KEPT UNDER MY CUSTODY BEFORE THE SAD EVENT THAT TOOK THE LIFE OF (MR. PRESIDENT).THE CONFUSION THAT ENSUED AFTER THE ASSASSINATION AND THE SPORADIC SHOOTING AMONG THE FACTIONS, I HAVE TO RUN AWAY FROM THE COUNTRY FOR MY DEAR LIFE AS I AM NOT A SOLDIER BUT A CIVIL SERVANT I CROSSED RIVER CONGO TO OTHER SIDE OF CONGO LIBREVILLE FROM THERE I MOVED TO THE THIRD COUNTRY GHANA WHERE I AM PRESENTLY TAKING REFUGE. \n",
            "\n",
            "AS A MATTER OF FACT, WHAT I URGENTLY NEEDED FROM YOU IS YOUR ASSISTANCE IN MOVING THIS MONEY INTO YOUR ACCOUNT IN YOUR COUNTRY FOR INVESTMENT WITHOUT RAISING EYEBROW. FOR YOUR ASSISTANCE I WILL GIVE YOU 20% OF THE TOTAL SUM AS YOUR OWN SHARE WHEN THE MONEY GETS TO YOUR ACCOUNT, WHILE 75% WILL BE FOR ME, OF WHICH WITH YOUR KIND ADVICE I HOPE TO INVEST IN PROFITABLE VENTURE IN YOUR COUNTRY IN OTHER TO SETTLE DOWN FOR MEANINGFUL LIFE, AS I AM TIRED OF LIVING IN A WAR ENVIRONMENT. \n",
            "\n",
            "THE REMAINING 5% WILL BE USED TO OFFSET ANY COST INCURRED IN THE CAUSE OF MOVING THE MONEY TO YOUR ACCOUNT. IF THE PROPOSAL IS ACCEPTABLE TO YOU PLEASE CONTACT ME IMMEDIATELY THROUGH THE ABOVE TELEPHONE AND E-MAIL, TO ENABLE ME ARRANGE FACE TO FACE MEETING WITH YOU IN GHANA FOR THE CLEARANCE OF THE FUNDS BEFORE TRANSFRING IT TO YOUR BANK ACCOUNT AS SEEING IS BELIEVING. \n",
            "\n",
            "FINALLY, IT IS IMPORTANT ALSO THAT I LET YOU UNDERSTAND THAT THERE IS NO RISK INVOLVED WHATSOEVER AS THE MONEY HAD NO RECORD IN KINSHASA FOR IT WAS MEANT FOR THE PERSONAL USE OF (MR. PRESIDEND ) BEFORE THE NEFARIOUS INCIDENT OCCURRED, AND ALSO I HAVE ALL THE NECESSARY DOCUMENTS AS REGARDS TO THE FUNDS INCLUDING THE (CERTIFICATE OF DEPOSIT), AS I AM THE DEPOSITOR OF THE CONSIGNMENT.\n",
            "\n",
            "\n",
            "LOOKING FORWARD TO YOUR URGENT RESPONSE.\n",
            "\n",
            "YOUR SINCERELY,\n",
            "\n",
            "MR. JAMES NGOLA. \n",
            "\n",
            "\n",
            "\n",
            "\n",
            "\n",
            "\n",
            "\n",
            "\n",
            "\n",
            "\n",
            "From r  Thu Oct 31 08:11:39 2002\n",
            "Return-Path: <bensul2004nng@spinfinder.com>\n",
            "X-Sieve: cmu-sieve 2.0\n",
            "Return-Path: <bensul2004nng@spinfinder.com>\n",
            "Message-Id: <200210311310.g9VDANt24674@bloodwork.mr.itd.UM>\n",
            "From: \"Mr. Ben Suleman\" <bensul2004nng@spinfinder.com>\n",
            "Date: Thu, 31 Oct 2002 05:10:00\n",
            "To: R@M\n",
            "Subject: URGENT ASSISTANCE /RELATIONSHIP (P)\n",
            "MIME-Version: 1.0\n",
            "Content-Type: text/plain;charset=\"iso-8859-1\"\n",
            "Content-Transfer-Encoding: 7bit\n",
            "Status: O\n",
            "\n",
            "Dear Friend,\n",
            "\n",
            "I am Mr. Ben Suleman a custom officer and work as Assistant controller of the Customs and Excise department Of the Federal Ministry of Internal Affairs stationed at the Murtala Mohammed International Airport, Ikeja, Lagos-Nigeria.\n",
            "\n",
            "After the sudden death of the former Head of state of Nigeria General Sanni Abacha on June 8th 1998 his aides and immediate members of his family were arrested while trying to escape from Nigeria in a Chartered jet to Saudi Arabia with 6 trunk boxes Marked \"Diplomatic Baggage\". Acting on a tip-off as they attempted to board the Air Craft,my officials carried out a thorough search on the air craft and discovered that the 6 trunk boxes contained foreign currencies amounting to US$197,570,000.00(One Hundred and  Ninety-Seven Million Five Hundred Seventy Thousand United States Dollars).\n",
            "\n",
            "I declared only (5) five boxes to the government and withheld one (1) in my custody containing the sum of (US$30,000,000.00) Thirty Million United States Dollars Only, which has been disguised to prevent their being discovered during transportation process.Due to several media reports on the late head of state about all the money him and his co-government officials stole from our government treasury amounting\n",
            "to US$55 Billion Dollars (ref:ngrguardiannews.com) of July 2nd 1999. Even the London times of July 1998 reported that General Abacha has over US$3.Billion dollars in one account overseas. We decided to conceal this one (1)box till the situation is calm and quite on the issue. The box was thus deposited with a security company here in Nigeria and tagged as \"Precious Stones and Jewellry\" in other that its\n",
            "content will not be discovered. Now that all is calm, we (myself and two of my colleagues in the operations team) are now ready to move this box out of the country through a diplomatic arrangement which is the safest means. \n",
            "\n",
            "However as government officials the Civil Service Code of Conduct does not allow us by law to operate any foreign account or own foreign investment and the amount of money that can be found in our account\n",
            "cannot be more than our salary on the average, thus our handicapp and our need for your assistance to help collect and keep safely in your account this money.\n",
            "\n",
            "Therefore we want you to assist us in moving this money out of Nigeria. We shall definitely compensate you handsomely for the assistance. We can do this by instructing the Security Company here in Nigeria to\n",
            "move the consignment to their affiliate branch office outside Nigeria through diplomatic means and the consignment will be termed as Precious Stones and Jewelleries\" which you bought during your visit to Nigeria and is being transfered to your country from here for safe keeping. Then we can arrange to meet at the destination country to take the delivery of the consignment. You will thereafter open an account there and lodge the Money there and gradually instruct remittance to your Country. \n",
            "\n",
            "This business is 100% risk free for you so please treat this matter with utmost confidentiality .If you indicate your interest to assist us please just e-mail me for more Explanation on how we plan to execute the transaction.\n",
            "\n",
            "Expecting your response urgently.\n",
            "\n",
            "Best regards,\n",
            "\n",
            "Mr. Ben Suleman\n",
            "\n",
            "From r  Thu Oct 31 17:27:16 2002\n",
            "Return-Path: <obong_715@epatra.com>\n",
            "X-Sieve: cmu-sieve 2.0\n",
            "Return-Path: <obong_715@epatra.com>\n",
            "Message-Id: <200210312227.g9VMQvDj017948@bluewhale.cs.CU>\n",
            "From: \"PRINCE OBONG ELEME\" <obong_715@epatra.com>\n",
            "Reply-To: obong_715@epatra.com\n",
            "To: webmaster@aclweb.org\n",
            "Date: Thu, 31 Oct 2002 22:17:55 +0100\n",
            "Subject: GOOD DAY TO YOU\n",
            "X-Mailer: Microsoft Outlook Express 5.00.2919.6900DM\n",
            "MIME-Version: 1.0\n",
            "Content-Type: text/plain; charset=\"us-ascii\"\n",
            "Content-Transfer-Encoding: 8bit\n",
            "X-MIME-Autoconverted: from quoted-printable to 8bit by sideshowmel.si.UM id g9VMRBW20642\n",
            "Status: RO\n",
            "\n",
            "FROM HIS ROYAL MAJESTY (HRM) CROWN RULER OF ELEME KINGDOM \n",
            "CHIEF DANIEL ELEME, PHD, EZE 1 OF ELEME.E-MAIL \n",
            "ADDRESS:obong_715@epatra.com  \n",
            "\n",
            "ATTENTION:PRESIDENT,CEO Sir/ Madam. \n",
            "\n",
            "This letter might surprise you because we have met\n",
            "neither in person nor by correspondence. But I believe\n",
            "it is one day that you got to know somebody either in\n",
            "physical or through correspondence. \n",
            "\n",
            "I got your contact through discreet inquiry from the\n",
            "chambers of commerce and industry of your country on\n",
            "the net, you and your organization were revealed as\n",
            "being quite astute in private entrepreneurship, one\n",
            "has no doubt in your ability to handle a financialbusiness transaction. \n",
            "\n",
            "However, I am the first son of His Royal\n",
            "majesty,Obong.D. Eleme , and the traditional Ruler of\n",
            "Eleme Province in the oil producing area of River\n",
            "State of Nigeria. I am making this contact to you in\n",
            "respect of US$60,000,000.00 (Sixty Million United\n",
            "State Dollars), which I inherited, from my latefather. \n",
            "\n",
            "This money was accumulated from royalties paid to my\n",
            "father as compensation by the oil firms located in our\n",
            "area as a result of oil presence on our land, which\n",
            "hamper agriculture, which is our major source oflivelihood. \n",
            "\n",
            "Unfortunately my father died from protracted\n",
            "diabetes.But before his death he called my attention\n",
            "and informed me that he lodged some funds on a two\n",
            "boxes with a security firm with an open beneficiary\n",
            "status. The lodgment security code number was also\n",
            "revealed to me, he then advised me to look for a\n",
            "reliable business partner abroad, that will assist me\n",
            "in investing the money in a lucrative business as a\n",
            "result of economic instability in Nigeria. So this is\n",
            "the main reason why I am contacting you for us to move\n",
            "this money from the security firm to any Country of\n",
            "your choice for investment purpose. \n",
            "\n",
            "So I will like you to be the ultimate beneficiary, so\n",
            "that the funds can be moved in your name and\n",
            "particulars to any Country of your choice where it\n",
            "will be claimed and invested. Hence my father have had\n",
            "intimated the security firm personnel that the\n",
            "beneficiary of the box is his foreign partner whose\n",
            "particulars will be forwarded to the firm when due. \n",
            "\n",
            "But I will guide you Accordingly. As soon as the funds\n",
            "reach, I will then come over to meet you in person, so\n",
            "that we can discuss physically on investment\n",
            "potentials. Based on this assistance my Family and I\n",
            "have unanimously decided to give you 30% of the total\n",
            "money, 5% for Charity home, 10% for expenses, which\n",
            "may arise during this transaction, Fax and phone bills\n",
            "inclusive. The balance of 55% you will invest andmanaged for my Family. \n",
            "\n",
            "I hereby guarantee you that this is not government\n",
            "money, it is not drug money and it is not money from\n",
            "arms deal. Though you have to maintain high degree of\n",
            "confidentiality on this matter. I will give more\n",
            "details about the proceedings of this transaction as\n",
            "soon as I receive your favorable reply. \n",
            "\n",
            "Please reply to my Email Address:obong_715@epatra.com\n",
            "I hope this will be the beginning of a prosperous\n",
            "relationship between my family and your family. \n",
            "\n",
            "Nevertheless if you are for any reason not interested,\n",
            "kindly inform me immediately so that I will look foranother contact. \n",
            "\n",
            "I am waiting for your quick response. \n",
            "\n",
            "Yours faithfully, \n",
            "\n",
            "Prince Obong Abbot \n",
            "\n"
          ],
          "name": "stdout"
        }
      ]
    },
    {
      "cell_type": "markdown",
      "metadata": {
        "id": "aUg8HenSBLG2"
      },
      "source": [
        "### 讀取寄件者資訊\n",
        "觀察文本資料可以發現, 寄件者資訊都符合以下格式\n",
        "\n",
        "`From: <收件者姓名> <收件者電子郵件>`"
      ]
    },
    {
      "cell_type": "code",
      "metadata": {
        "id": "S7tNPDm_LevQ"
      },
      "source": [
        "import re"
      ],
      "execution_count": 9,
      "outputs": []
    },
    {
      "cell_type": "code",
      "metadata": {
        "id": "YgsUuHsfBLG2"
      },
      "source": [
        "#<your code>#\r\n",
        "pattern = r'\\w+:\\s+\"\\w+\\.*\\s\\w+\\s\\w*\\.*\"\\s<\\S+>'\r\n",
        "text = txt\r\n",
        "\r\n",
        "match = re.findall(pattern = pattern , string = text)"
      ],
      "execution_count": 21,
      "outputs": []
    },
    {
      "cell_type": "code",
      "metadata": {
        "id": "pofRrOGhBLG5",
        "colab": {
          "base_uri": "https://localhost:8080/"
        },
        "outputId": "707a98b3-f885-442f-8aa9-1baa480fae3f"
      },
      "source": [
        "match"
      ],
      "execution_count": 22,
      "outputs": [
        {
          "output_type": "execute_result",
          "data": {
            "text/plain": [
              "['From: \"MR. JAMES NGOLA.\" <james_ngola2002@maktoob.com>',\n",
              " 'From: \"Mr. Ben Suleman\" <bensul2004nng@spinfinder.com>',\n",
              " 'From: \"PRINCE OBONG ELEME\" <obong_715@epatra.com>']"
            ]
          },
          "metadata": {
            "tags": []
          },
          "execution_count": 22
        }
      ]
    },
    {
      "cell_type": "markdown",
      "metadata": {
        "id": "Ac8KHAqTBLG7"
      },
      "source": [
        "### 只讀取寄件者姓名"
      ]
    },
    {
      "cell_type": "code",
      "metadata": {
        "id": "coBDE2iBBLG8"
      },
      "source": [
        "#<your code>#\r\n",
        "pattern = r'\"\\w+\\.*\\s\\w+\\s\\w+\\.*\"'\r\n",
        "text = txt\r\n",
        "\r\n",
        "match = re.findall(pattern=pattern , string = text)"
      ],
      "execution_count": 23,
      "outputs": []
    },
    {
      "cell_type": "code",
      "metadata": {
        "colab": {
          "base_uri": "https://localhost:8080/"
        },
        "id": "iRMPbmAjPL8C",
        "outputId": "0eddd0a4-3f10-4e3b-9295-c597b6881e7a"
      },
      "source": [
        "match"
      ],
      "execution_count": 24,
      "outputs": [
        {
          "output_type": "execute_result",
          "data": {
            "text/plain": [
              "['\"MR. JAMES NGOLA.\"', '\"Mr. Ben Suleman\"', '\"PRINCE OBONG ELEME\"']"
            ]
          },
          "metadata": {
            "tags": []
          },
          "execution_count": 24
        }
      ]
    },
    {
      "cell_type": "markdown",
      "metadata": {
        "id": "gaJefecaBLG-"
      },
      "source": [
        "### 只讀取寄件者電子信箱"
      ]
    },
    {
      "cell_type": "code",
      "metadata": {
        "id": "G55ADKW_BLG_"
      },
      "source": [
        "#<your code>#\r\n",
        "pattern = r\"(?<!Return-Path: )<\\w*@\\S+>\"\r\n",
        "text = txt\r\n",
        "\r\n",
        "match = re.findall(pattern = pattern , string = text , flags= re.M)"
      ],
      "execution_count": 30,
      "outputs": []
    },
    {
      "cell_type": "code",
      "metadata": {
        "colab": {
          "base_uri": "https://localhost:8080/"
        },
        "id": "dzo3ft8yRIJF",
        "outputId": "8c3c6c4c-b1e9-4d08-d457-19895a9b6d3f"
      },
      "source": [
        "match"
      ],
      "execution_count": 31,
      "outputs": [
        {
          "output_type": "execute_result",
          "data": {
            "text/plain": [
              "['<james_ngola2002@maktoob.com>',\n",
              " '<bensul2004nng@spinfinder.com>',\n",
              " '<obong_715@epatra.com>']"
            ]
          },
          "metadata": {
            "tags": []
          },
          "execution_count": 31
        }
      ]
    },
    {
      "cell_type": "markdown",
      "metadata": {
        "id": "t-RXjNLiBLHC"
      },
      "source": [
        "### 只讀取電子信箱中的寄件機構資訊\n",
        "ex: james_ngola2002@maktoob.com --> 取maktoob"
      ]
    },
    {
      "cell_type": "code",
      "metadata": {
        "id": "qC2Sd6_SBLHC"
      },
      "source": [
        "#<your code>#\r\n",
        "pattern = r\"(?<=@)\\S*(?=.com>\\nReply)|(?<=@)\\S*(?=.com>\\nD)\"\r\n",
        "text = txt\r\n",
        "\r\n",
        "match = re.findall(pattern=pattern , string = text)"
      ],
      "execution_count": 32,
      "outputs": []
    },
    {
      "cell_type": "code",
      "metadata": {
        "colab": {
          "base_uri": "https://localhost:8080/"
        },
        "id": "_e4MZEVfVc3e",
        "outputId": "a7b7966d-8848-4e39-d7c9-b5793491c7af"
      },
      "source": [
        "match"
      ],
      "execution_count": 33,
      "outputs": [
        {
          "output_type": "execute_result",
          "data": {
            "text/plain": [
              "['maktoob', 'spinfinder', 'epatra']"
            ]
          },
          "metadata": {
            "tags": []
          },
          "execution_count": 33
        }
      ]
    },
    {
      "cell_type": "markdown",
      "metadata": {
        "id": "vfzkuLCWBLHG"
      },
      "source": [
        "### 結合上面的配對方式, 將寄件者的帳號與機構訊返回\n",
        "ex: james_ngola2002@maktoob.com --> [james_ngola2002, maktoob]"
      ]
    },
    {
      "cell_type": "code",
      "metadata": {
        "id": "t3lTRThcBLHG"
      },
      "source": [
        "#<your code>#\r\n",
        "pattern = r\"((?<!Return-Path: )<\\w*)@(\\S+(?=.com))\"\r\n",
        "text = txt\r\n",
        "\r\n",
        "match = re.findall(pattern=pattern , string = text)"
      ],
      "execution_count": 34,
      "outputs": []
    },
    {
      "cell_type": "code",
      "metadata": {
        "colab": {
          "base_uri": "https://localhost:8080/"
        },
        "id": "xj5UfuMvXArd",
        "outputId": "a864ad31-ba47-4c85-a7f7-040268124251"
      },
      "source": [
        "match"
      ],
      "execution_count": 35,
      "outputs": [
        {
          "output_type": "execute_result",
          "data": {
            "text/plain": [
              "[('<james_ngola2002', 'maktoob'),\n",
              " ('<bensul2004nng', 'spinfinder'),\n",
              " ('<obong_715', 'epatra')]"
            ]
          },
          "metadata": {
            "tags": []
          },
          "execution_count": 35
        }
      ]
    },
    {
      "cell_type": "markdown",
      "metadata": {
        "id": "Yl-BMduNBLHJ"
      },
      "source": [
        "### 使用正規表達式對email資料進行處理\n",
        "這裡我們會使用到python其他的套件協助處理(ex: pandas, email, etc)，這裡我們只需要專注在正規表達式上即可，其他的套件是方便我們整理與處理資料。"
      ]
    },
    {
      "cell_type": "markdown",
      "metadata": {
        "id": "kqCacQ9tBLHJ"
      },
      "source": [
        "### 讀取與切分Email\n",
        "讀入的email為一個長字串，利用正規表達式切割讀入的資料成一封一封的email，並將結果以list表示。\n",
        "\n",
        "輸出: [email_1, email_2, email_3, ....]"
      ]
    },
    {
      "cell_type": "code",
      "metadata": {
        "id": "k9BCVTqoBLHK",
        "colab": {
          "base_uri": "https://localhost:8080/"
        },
        "outputId": "b3f7bfd6-fb10-4b37-ca82-5524bf861ece"
      },
      "source": [
        "import re\n",
        "import pandas as pd\n",
        "import email\n",
        "\n",
        "###讀取文本資料:fradulent_emails.txt###\n",
        "#<your code>#\n",
        "file_path = './drive/My Drive/NLP/day04/all_emails.txt'\n",
        "# https://github.com/Currie32/Spell-Checker/issues/14\n",
        "with open(file_path , mode = 'r' , encoding = 'utf8' , errors='ignore') as f:\n",
        "  line = f.read()\n",
        "###切割讀入的資料成一封一封的email###\n",
        "###我們可以使用list來儲存每一封email###\n",
        "###注意！這裡請仔細觀察sample資料，看資料是如何切分不同email###\n",
        "#<your code>#\n",
        "pattern = r'From r'\n",
        "emails = re.split(pattern = pattern , string = line)\n",
        "emails = emails[1:]\n",
        "\n",
        "len(emails) #查看有多少封email"
      ],
      "execution_count": 42,
      "outputs": [
        {
          "output_type": "execute_result",
          "data": {
            "text/plain": [
              "3977"
            ]
          },
          "metadata": {
            "tags": []
          },
          "execution_count": 42
        }
      ]
    },
    {
      "cell_type": "code",
      "metadata": {
        "colab": {
          "base_uri": "https://localhost:8080/"
        },
        "id": "Tfyy4g5ffooZ",
        "outputId": "ddb65bf6-c63e-4e90-9e22-ba92b7d50a58"
      },
      "source": [
        "print(emails[0])"
      ],
      "execution_count": 43,
      "outputs": [
        {
          "output_type": "stream",
          "text": [
            "  Wed Oct 30 21:41:56 2002\n",
            "Return-Path: <james_ngola2002@maktoob.com>\n",
            "X-Sieve: cmu-sieve 2.0\n",
            "Return-Path: <james_ngola2002@maktoob.com>\n",
            "Message-Id: <200210310241.g9V2fNm6028281@cs.CU>\n",
            "From: \"MR. JAMES NGOLA.\" <james_ngola2002@maktoob.com>\n",
            "Reply-To: james_ngola2002@maktoob.com\n",
            "To: webmaster@aclweb.org\n",
            "Date: Thu, 31 Oct 2002 02:38:20 +0000\n",
            "Subject: URGENT BUSINESS ASSISTANCE AND PARTNERSHIP\n",
            "X-Mailer: Microsoft Outlook Express 5.00.2919.6900 DM\n",
            "MIME-Version: 1.0\n",
            "Content-Type: text/plain; charset=\"us-ascii\"\n",
            "Content-Transfer-Encoding: 8bit\n",
            "X-MIME-Autoconverted: from quoted-printable to 8bit by sideshowmel.si.UM id g9V2foW24311\n",
            "Status: O\n",
            "\n",
            "FROM:MR. JAMES NGOLA.\n",
            "CONFIDENTIAL TEL: 233-27-587908.\n",
            "E-MAIL: (james_ngola2002@maktoob.com).\n",
            "\n",
            "URGENT BUSINESS ASSISTANCE AND PARTNERSHIP.\n",
            "\n",
            "\n",
            "DEAR FRIEND,\n",
            "\n",
            "I AM ( DR.) JAMES NGOLA, THE PERSONAL ASSISTANCE TO THE LATE CONGOLESE (PRESIDENT LAURENT KABILA) WHO WAS ASSASSINATED BY HIS BODY GUARD ON 16TH JAN. 2001.\n",
            "\n",
            "\n",
            "THE INCIDENT OCCURRED IN OUR PRESENCE WHILE WE WERE HOLDING MEETING WITH HIS EXCELLENCY OVER THE FINANCIAL RETURNS FROM THE DIAMOND SALES IN THE AREAS CONTROLLED BY (D.R.C.) DEMOCRATIC REPUBLIC OF CONGO FORCES AND THEIR FOREIGN ALLIES ANGOLA AND ZIMBABWE, HAVING RECEIVED THE PREVIOUS DAY (USD$100M) ONE HUNDRED MILLION UNITED STATES DOLLARS, CASH IN THREE DIPLOMATIC BOXES ROUTED THROUGH ZIMBABWE.\n",
            "\n",
            "MY PURPOSE OF WRITING YOU THIS LETTER IS TO SOLICIT FOR YOUR ASSISTANCE AS TO BE A COVER TO THE FUND AND ALSO COLLABORATION IN MOVING THE SAID FUND INTO YOUR BANK ACCOUNT THE SUM OF (USD$25M) TWENTY FIVE MILLION UNITED STATES DOLLARS ONLY, WHICH I DEPOSITED WITH A SECURITY COMPANY IN GHANA, IN A DIPLOMATIC BOX AS GOLDS WORTH (USD$25M) TWENTY FIVE MILLION UNITED STATES DOLLARS ONLY FOR SAFE KEEPING IN A SECURITY VAULT FOR ANY FURTHER INVESTMENT PERHAPS IN YOUR COUNTRY. \n",
            "\n",
            "YOU WERE INTRODUCED TO ME BY A RELIABLE FRIEND OF MINE WHO IS A TRAVELLER,AND ALSO A MEMBER OF CHAMBER OF COMMERCE AS A RELIABLE AND TRUSTWORTHY PERSON WHOM I CAN RELY ON AS FOREIGN PARTNER, EVEN THOUGH THE NATURE OF THE TRANSACTION WAS NOT REVEALED TO HIM FOR SECURITY REASONS.\n",
            "\n",
            "\n",
            "THE (USD$25M) WAS PART OF A PROCEEDS FROM DIAMOND TRADE MEANT FOR THE LATE PRESIDENT LAURENT KABILA WHICH WAS DELIVERED THROUGH ZIMBABWE IN DIPLOMATIC BOXES. THE BOXES WERE KEPT UNDER MY CUSTODY BEFORE THE SAD EVENT THAT TOOK THE LIFE OF (MR. PRESIDENT).THE CONFUSION THAT ENSUED AFTER THE ASSASSINATION AND THE SPORADIC SHOOTING AMONG THE FACTIONS, I HAVE TO RUN AWAY FROM THE COUNTRY FOR MY DEAR LIFE AS I AM NOT A SOLDIER BUT A CIVIL SERVANT I CROSSED RIVER CONGO TO OTHER SIDE OF CONGO LIBREVILLE FROM THERE I MOVED TO THE THIRD COUNTRY GHANA WHERE I AM PRESENTLY TAKING REFUGE. \n",
            "\n",
            "AS A MATTER OF FACT, WHAT I URGENTLY NEEDED FROM YOU IS YOUR ASSISTANCE IN MOVING THIS MONEY INTO YOUR ACCOUNT IN YOUR COUNTRY FOR INVESTMENT WITHOUT RAISING EYEBROW. FOR YOUR ASSISTANCE I WILL GIVE YOU 20% OF THE TOTAL SUM AS YOUR OWN SHARE WHEN THE MONEY GETS TO YOUR ACCOUNT, WHILE 75% WILL BE FOR ME, OF WHICH WITH YOUR KIND ADVICE I HOPE TO INVEST IN PROFITABLE VENTURE IN YOUR COUNTRY IN OTHER TO SETTLE DOWN FOR MEANINGFUL LIFE, AS I AM TIRED OF LIVING IN A WAR ENVIRONMENT. \n",
            "\n",
            "THE REMAINING 5% WILL BE USED TO OFFSET ANY COST INCURRED IN THE CAUSE OF MOVING THE MONEY TO YOUR ACCOUNT. IF THE PROPOSAL IS ACCEPTABLE TO YOU PLEASE CONTACT ME IMMEDIATELY THROUGH THE ABOVE TELEPHONE AND E-MAIL, TO ENABLE ME ARRANGE FACE TO FACE MEETING WITH YOU IN GHANA FOR THE CLEARANCE OF THE FUNDS BEFORE TRANSFRING IT TO YOUR BANK ACCOUNT AS SEEING IS BELIEVING. \n",
            "\n",
            "FINALLY, IT IS IMPORTANT ALSO THAT I LET YOU UNDERSTAND THAT THERE IS NO RISK INVOLVED WHATSOEVER AS THE MONEY HAD NO RECORD IN KINSHASA FOR IT WAS MEANT FOR THE PERSONAL USE OF (MR. PRESIDEND ) BEFORE THE NEFARIOUS INCIDENT OCCURRED, AND ALSO I HAVE ALL THE NECESSARY DOCUMENTS AS REGARDS TO THE FUNDS INCLUDING THE (CERTIFICATE OF DEPOSIT), AS I AM THE DEPOSITOR OF THE CONSIGNMENT.\n",
            "\n",
            "\n",
            "LOOKING FORWARD TO YOUR URGENT RESPONSE.\n",
            "\n",
            "YOUR SINCERELY,\n",
            "\n",
            "MR. JAMES NGOLA. \n",
            "\n",
            "\n",
            "\n",
            "\n",
            "\n",
            "\n",
            "\n",
            "\n",
            "\n",
            "\n",
            "\n"
          ],
          "name": "stdout"
        }
      ]
    },
    {
      "cell_type": "markdown",
      "metadata": {
        "id": "e9IN-2o0BLHM"
      },
      "source": [
        "### 從文本中擷取所有寄件者與收件者的姓名和地址"
      ]
    },
    {
      "cell_type": "code",
      "metadata": {
        "colab": {
          "base_uri": "https://localhost:8080/"
        },
        "id": "RZY8oZDShM8U",
        "outputId": "0295678d-b92a-437a-973d-b1b7e645f451"
      },
      "source": [
        "mail = emails[0]\r\n",
        "pattern = r'From:.+'\r\n",
        "info = re.search(pattern= pattern, string = mail)\r\n",
        "print(info.group())\r\n",
        "name = re.search(pattern=r'\".*\"' , string=info.group())\r\n",
        "address = re.search(pattern=r'<.*>' , string = info.group())\r\n",
        "print(name.group())\r\n",
        "print(address.group())"
      ],
      "execution_count": 55,
      "outputs": [
        {
          "output_type": "stream",
          "text": [
            "From: \"MR. JAMES NGOLA.\" <james_ngola2002@maktoob.com>\n",
            "\"MR. JAMES NGOLA.\"\n",
            "<james_ngola2002@maktoob.com>\n"
          ],
          "name": "stdout"
        }
      ]
    },
    {
      "cell_type": "code",
      "metadata": {
        "colab": {
          "base_uri": "https://localhost:8080/"
        },
        "id": "ouJjfb9_lyeP",
        "outputId": "642ece5b-d644-417f-e368-6c0a37026e30"
      },
      "source": [
        "mail = emails[0]\r\n",
        "pattern = r'To:.+'\r\n",
        "info = re.search(pattern= pattern, string = mail)\r\n",
        "print(info.group())\r\n",
        "name = re.search(pattern=r'(?<=\\\").*(?=\\\")' , string=info.group())\r\n",
        "address = re.search(pattern=r'(?<=\\s).*' , string = info.group())\r\n",
        "print(name)\r\n",
        "print(address.group())"
      ],
      "execution_count": 56,
      "outputs": [
        {
          "output_type": "stream",
          "text": [
            "To: james_ngola2002@maktoob.com\n",
            "None\n",
            "james_ngola2002@maktoob.com\n"
          ],
          "name": "stdout"
        }
      ]
    },
    {
      "cell_type": "code",
      "metadata": {
        "colab": {
          "base_uri": "https://localhost:8080/"
        },
        "id": "_pLC2aAAq8o3",
        "outputId": "75161329-afb7-4188-e695-563f5843351b"
      },
      "source": [
        "mail = emails[0]\r\n",
        "pattern = r'Date:.+'\r\n",
        "info = re.search(pattern= pattern, string = mail)\r\n",
        "print(info.group())\r\n",
        "date = re.search(pattern=r'(?<=Date: ).*' , string=info.group())\r\n",
        "print(date.group())"
      ],
      "execution_count": 57,
      "outputs": [
        {
          "output_type": "stream",
          "text": [
            "Date: Thu, 31 Oct 2002 02:38:20 +0000\n",
            "Thu, 31 Oct 2002 02:38:20 +0000\n"
          ],
          "name": "stdout"
        }
      ]
    },
    {
      "cell_type": "code",
      "metadata": {
        "id": "d_WRYFpcBLHM"
      },
      "source": [
        "emails_list = [] #創建空list來儲存所有email資訊\n",
        "\n",
        "for mail in emails[:20]: #只取前20筆資料 (處理速度比較快)\n",
        "    emails_dict = dict() #創建空字典儲存資訊\n",
        "    ###取的寄件者姓名與地址###\n",
        "    \n",
        "    #Step1: 取的寄件者資訊 (hint: From:)\n",
        "    #<your code>#\n",
        "    info_send = re.search(pattern=r'From:.+' , string = mail)\n",
        "    #Step2: 取的姓名與地址 (hint: 要注意有時會有沒取到配對的情況)\n",
        "    #<your code>#\n",
        "    if (info_send == None):\n",
        "      sender_name = None\n",
        "      sender_address = None\n",
        "    else:\n",
        "      sender_name = re.search(pattern=r'\".*\"' , string=info_send.group())\n",
        "      sender_address = re.search(pattern=r'<.*>' , string = info_send.group())\n",
        "    #Step3: 將取得的姓名與地址存入字典中\n",
        "    #<your code>#\n",
        "    if (sender_name != None):\n",
        "      emails_dict['sender_name'] = sender_name.group()\n",
        "    else:\n",
        "      emails_dict['sender_name'] = 'None'\n",
        "    if (sender_address != None):\n",
        "      emails_dict['sender_address'] = sender_address.group()\n",
        "    else:\n",
        "      emails_dict['sender_address'] = 'None'\n",
        "    ###取的收件者姓名與地址###\n",
        "    #Step1: 取的寄件者資訊 (hint: To:)\n",
        "    #<your code>#\n",
        "    info_recv = re.search(pattern=r'To:.+' , string = mail)\n",
        "    #Step2: 取的姓名與地址 (hint: 要注意有時會有沒取到配對的情況)\n",
        "    #<your code>#\n",
        "    if (info_recv == None):\n",
        "      recv_name = None\n",
        "      recv_address = None\n",
        "    else:\n",
        "      recv_name = re.search(pattern=r'(?<=\\\").*(?=\\\")' , string=info_recv.group())\n",
        "      recv_address = re.search(pattern=r'(?<=\\s).*' , string = info_recv.group())\n",
        "    #Step3: 將取得的姓名與地址存入字典中\n",
        "    #<your code>#\n",
        "    if (recv_name != None):\n",
        "      emails_dict['recv_name'] = recv_name.group()\n",
        "    else:\n",
        "      emails_dict['recv_name'] = 'None'\n",
        "    if (recv_address != None):\n",
        "      emails_dict['recv_address'] = recv_address.group()\n",
        "    else:\n",
        "      emails_dict['recv_address'] = 'None'\n",
        "        \n",
        "    ###取得信件日期###\n",
        "    #Step1: 取得日期資訊 (hint: Date:)\n",
        "    #<your code>#\n",
        "    recv_date = re.search(pattern=r'Date' , string= mail)\n",
        "    #Step2: 取得詳細日期(只需取得DD MMM YYYY)\n",
        "    #<your code>#\n",
        "    if (recv_date!=None):\n",
        "      date = re.search(pattern=r'\\d+\\s+\\w*\\s+\\d+' , string=recv_date.group())\n",
        "    else:\n",
        "      date = None\n",
        "    #Step3: 將取得的日期資訊存入字典中\n",
        "    #<your code>#\n",
        "    if date != None:\n",
        "      emails_dict['Date']=date.group()\n",
        "    else:\n",
        "      emails_dict['Date']='None'\n",
        "  \n",
        "    ###取得信件主旨###\n",
        "    #Step1: 取得主旨資訊 (hint: Subject:)\n",
        "    #<your code>#\n",
        "    subject_info = re.search(pattern=r'Subject:.*' , string=mail)\n",
        "    #Step2: 移除不必要文字 (hint: Subject: )\n",
        "    #<your code>#\n",
        "    if subject_info !=None:\n",
        "      Subject = re.sub(pattern='Subject: ' , repl='' , string = subject_info.group())\n",
        "    else:\n",
        "      Subject = 'None'\n",
        "    #Step3: 將取得的主旨存入字典中\n",
        "    #<your code>#\n",
        "    if (Subject != 'None'):\n",
        "      emails_dict['Subject'] = Subject\n",
        "    else:\n",
        "      emails_dict['Subject'] = 'None'\n",
        "    \n",
        "    ###取得信件內文###\n",
        "    #這裡我們使用email package來取出email內文 (可以不需深究，本章節重點在正規表達式)\n",
        "    try:\n",
        "        full_email = email.message_from_string(mail)\n",
        "        body = full_email.get_payload()\n",
        "        emails_dict[\"email_body\"] = body\n",
        "    except:\n",
        "        emails_dict[\"email_body\"] = None\n",
        "    \n",
        "    ###將字典加入list###\n",
        "    #<your code>#\n",
        "    emails_list.append(emails_dict)"
      ],
      "execution_count": 70,
      "outputs": []
    },
    {
      "cell_type": "code",
      "metadata": {
        "id": "CBfQRiYPBLHP",
        "colab": {
          "base_uri": "https://localhost:8080/",
          "height": 645
        },
        "outputId": "6a37e546-df76-4db6-df7f-35e29ba63fbb"
      },
      "source": [
        "#將處理結果轉化為dataframe\n",
        "emails_df = pd.DataFrame(emails_list)\n",
        "emails_df"
      ],
      "execution_count": 71,
      "outputs": [
        {
          "output_type": "execute_result",
          "data": {
            "text/html": [
              "<div>\n",
              "<style scoped>\n",
              "    .dataframe tbody tr th:only-of-type {\n",
              "        vertical-align: middle;\n",
              "    }\n",
              "\n",
              "    .dataframe tbody tr th {\n",
              "        vertical-align: top;\n",
              "    }\n",
              "\n",
              "    .dataframe thead th {\n",
              "        text-align: right;\n",
              "    }\n",
              "</style>\n",
              "<table border=\"1\" class=\"dataframe\">\n",
              "  <thead>\n",
              "    <tr style=\"text-align: right;\">\n",
              "      <th></th>\n",
              "      <th>sender_name</th>\n",
              "      <th>sender_address</th>\n",
              "      <th>recv_name</th>\n",
              "      <th>recv_address</th>\n",
              "      <th>Date</th>\n",
              "      <th>Subject</th>\n",
              "      <th>email_body</th>\n",
              "    </tr>\n",
              "  </thead>\n",
              "  <tbody>\n",
              "    <tr>\n",
              "      <th>0</th>\n",
              "      <td>\"MR. JAMES NGOLA.\"</td>\n",
              "      <td>&lt;james_ngola2002@maktoob.com&gt;</td>\n",
              "      <td>None</td>\n",
              "      <td>james_ngola2002@maktoob.com</td>\n",
              "      <td>None</td>\n",
              "      <td>URGENT BUSINESS ASSISTANCE AND PARTNERSHIP</td>\n",
              "      <td>FROM:MR. JAMES NGOLA.\\nCONFIDENTIAL TEL: 233-2...</td>\n",
              "    </tr>\n",
              "    <tr>\n",
              "      <th>1</th>\n",
              "      <td>\"Mr. Ben Suleman\"</td>\n",
              "      <td>&lt;bensul2004nng@spinfinder.com&gt;</td>\n",
              "      <td>None</td>\n",
              "      <td>R@M</td>\n",
              "      <td>None</td>\n",
              "      <td>URGENT ASSISTANCE /RELATIONSHIP (P)</td>\n",
              "      <td>Dear Friend,\\n\\nI am Mr. Ben Suleman a custom ...</td>\n",
              "    </tr>\n",
              "    <tr>\n",
              "      <th>2</th>\n",
              "      <td>\"PRINCE OBONG ELEME\"</td>\n",
              "      <td>&lt;obong_715@epatra.com&gt;</td>\n",
              "      <td>None</td>\n",
              "      <td>obong_715@epatra.com</td>\n",
              "      <td>None</td>\n",
              "      <td>GOOD DAY TO YOU</td>\n",
              "      <td>FROM HIS ROYAL MAJESTY (HRM) CROWN RULER OF EL...</td>\n",
              "    </tr>\n",
              "    <tr>\n",
              "      <th>3</th>\n",
              "      <td>\"PRINCE OBONG ELEME\"</td>\n",
              "      <td>&lt;obong_715@epatra.com&gt;</td>\n",
              "      <td>None</td>\n",
              "      <td>webmaster@aclweb.org</td>\n",
              "      <td>None</td>\n",
              "      <td>GOOD DAY TO YOU</td>\n",
              "      <td>FROM HIS ROYAL MAJESTY (HRM) CROWN RULER OF EL...</td>\n",
              "    </tr>\n",
              "    <tr>\n",
              "      <th>4</th>\n",
              "      <td>\"Maryam Abacha\"</td>\n",
              "      <td>&lt;m_abacha03@www.com&gt;</td>\n",
              "      <td>None</td>\n",
              "      <td>m_abacha03@www.com</td>\n",
              "      <td>None</td>\n",
              "      <td>I Need Your Assistance.</td>\n",
              "      <td>Dear sir, \\n \\nIt is with a heart full of hope...</td>\n",
              "    </tr>\n",
              "    <tr>\n",
              "      <th>5</th>\n",
              "      <td>None</td>\n",
              "      <td>&lt;davidkuta@postmark.net&gt;</td>\n",
              "      <td>None</td>\n",
              "      <td>davidkuta@yahoo.com</td>\n",
              "      <td>None</td>\n",
              "      <td>Partnership</td>\n",
              "      <td>ATTENTION:                                    ...</td>\n",
              "    </tr>\n",
              "    <tr>\n",
              "      <th>6</th>\n",
              "      <td>\"Barrister tunde dosumu\"</td>\n",
              "      <td>&lt;tunde_dosumu@lycos.com&gt;</td>\n",
              "      <td>None</td>\n",
              "      <td>tunde_dosumu@lycos.com</td>\n",
              "      <td>None</td>\n",
              "      <td>Urgent Attention</td>\n",
              "      <td>Dear Sir,\\n\\nI am Barrister Tunde Dosumu (SAN)...</td>\n",
              "    </tr>\n",
              "    <tr>\n",
              "      <th>7</th>\n",
              "      <td>\"William Drallo\"</td>\n",
              "      <td>&lt;william2244drallo@maktoob.com&gt;</td>\n",
              "      <td>None</td>\n",
              "      <td>william2244drallo@maktoob.com</td>\n",
              "      <td>None</td>\n",
              "      <td>URGENT BUSINESS PRPOSAL</td>\n",
              "      <td>FROM: WILLIAM DRALLO.\\nCONFIDENTIAL TEL: 233-2...</td>\n",
              "    </tr>\n",
              "    <tr>\n",
              "      <th>8</th>\n",
              "      <td>\"MR USMAN ABDUL\"</td>\n",
              "      <td>&lt;abdul_817@rediffmail.com&gt;</td>\n",
              "      <td>None</td>\n",
              "      <td>R@M</td>\n",
              "      <td>None</td>\n",
              "      <td>THANK YOU</td>\n",
              "      <td>CHALLENGE SECURITIES LTD.\\nLAGOS, NIGERIA\\n\\n\\...</td>\n",
              "    </tr>\n",
              "    <tr>\n",
              "      <th>9</th>\n",
              "      <td>\"Tunde  Dosumu\"</td>\n",
              "      <td>&lt;barrister_td@lycos.com&gt;</td>\n",
              "      <td>None</td>\n",
              "      <td>barrister_td@lycos.com</td>\n",
              "      <td>None</td>\n",
              "      <td>Urgent Assistance</td>\n",
              "      <td>Dear Sir,\\n\\nI am Barrister Tunde Dosumu (SAN)...</td>\n",
              "    </tr>\n",
              "    <tr>\n",
              "      <th>10</th>\n",
              "      <td>None</td>\n",
              "      <td>&lt;temijohnson2@rediffmail.com&gt;</td>\n",
              "      <td>None</td>\n",
              "      <td>R@E</td>\n",
              "      <td>None</td>\n",
              "      <td>IMPORTANT</td>\n",
              "      <td>FROM: MR TEMI JOHNSON\\nDEMOCRATIC REPUBLIC OF ...</td>\n",
              "    </tr>\n",
              "    <tr>\n",
              "      <th>11</th>\n",
              "      <td>\"Dr.Sam jordan\"</td>\n",
              "      <td>&lt;sjordan@diplomats.com&gt;</td>\n",
              "      <td>None</td>\n",
              "      <td>R@M</td>\n",
              "      <td>None</td>\n",
              "      <td>URGENT ASSISTANCE.</td>\n",
              "      <td>FROM THE DESK OF DR.SAM JORDAN\\nTHE MANAGER\\nH...</td>\n",
              "    </tr>\n",
              "    <tr>\n",
              "      <th>12</th>\n",
              "      <td>None</td>\n",
              "      <td>None</td>\n",
              "      <td>None</td>\n",
              "      <td>p_brown2@lawyer.com</td>\n",
              "      <td>None</td>\n",
              "      <td>From: Barrister Peter Brown</td>\n",
              "      <td>\\nSENIOR ADVOCATE OF NIGERIA\\nBARR. PETER BROW...</td>\n",
              "    </tr>\n",
              "    <tr>\n",
              "      <th>13</th>\n",
              "      <td>None</td>\n",
              "      <td>None</td>\n",
              "      <td>None</td>\n",
              "      <td>R@M</td>\n",
              "      <td>None</td>\n",
              "      <td>MICHAEL</td>\n",
              "      <td>From;Mr.Michael Kamah and Family,\\n          J...</td>\n",
              "    </tr>\n",
              "    <tr>\n",
              "      <th>14</th>\n",
              "      <td>\"COL. MICHAEL BUNDU\"</td>\n",
              "      <td>&lt;mikebunduu1@rediffmail.com&gt;</td>\n",
              "      <td>None</td>\n",
              "      <td>R@E</td>\n",
              "      <td>None</td>\n",
              "      <td>*****SPAM***** IMPORTANT</td>\n",
              "      <td>FROM: COL. MICHAEL BUNDU. \\nDEMOCRATIC REPUBLI...</td>\n",
              "    </tr>\n",
              "    <tr>\n",
              "      <th>15</th>\n",
              "      <td>\"MRS MARIAM ABACHA\"</td>\n",
              "      <td>&lt;elixwilliam@usa.com&gt;</td>\n",
              "      <td>None</td>\n",
              "      <td>presidentwifeng@indiatimes.com</td>\n",
              "      <td>None</td>\n",
              "      <td>TRUST TRANSACTION</td>\n",
              "      <td>Dear Sir,\\n\\nA Very Good day to you   \\n\\nI am...</td>\n",
              "    </tr>\n",
              "    <tr>\n",
              "      <th>16</th>\n",
              "      <td>\" DR. ANAYO AWKA \"</td>\n",
              "      <td>&lt;anayoawka@hotmail.com&gt;</td>\n",
              "      <td>None</td>\n",
              "      <td>webmaster@aclweb.org</td>\n",
              "      <td>None</td>\n",
              "      <td>REQUEST FOR YOUR UNRESERVED ASSISTANCE</td>\n",
              "      <td>FROM: DR. ANAYO AWKA BANK MANAGER \\n(UNION BAN...</td>\n",
              "    </tr>\n",
              "    <tr>\n",
              "      <th>17</th>\n",
              "      <td>\" DR. ANAYO AWKA \"</td>\n",
              "      <td>&lt;anayoawka@hotmail.com&gt;</td>\n",
              "      <td>None</td>\n",
              "      <td>webmaster@aclweb.org</td>\n",
              "      <td>None</td>\n",
              "      <td>REQUEST FOR YOUR UNRESERVED ASSISTANCE</td>\n",
              "      <td>FROM: DR. ANAYO AWKA BANK MANAGER \\n(UNION BAN...</td>\n",
              "    </tr>\n",
              "    <tr>\n",
              "      <th>18</th>\n",
              "      <td>\"Victor Aloma\"</td>\n",
              "      <td>&lt;victorloma@netscape.net&gt;</td>\n",
              "      <td>None</td>\n",
              "      <td>ntcir-listmem@newns.op.nii.ac.jp</td>\n",
              "      <td>None</td>\n",
              "      <td>Urgent Assistance</td>\n",
              "      <td>The Director,\\n\\n\\n\\n            SEEKING FOR I...</td>\n",
              "    </tr>\n",
              "    <tr>\n",
              "      <th>19</th>\n",
              "      <td>\"Victor Aloma\"</td>\n",
              "      <td>&lt;victorloma@netscape.net&gt;</td>\n",
              "      <td>None</td>\n",
              "      <td>ntcir-outgoing@mail.op.nii.ac.jp</td>\n",
              "      <td>None</td>\n",
              "      <td>Urgent Assistance</td>\n",
              "      <td>The Director,\\n\\n\\n\\n            SEEKING FOR I...</td>\n",
              "    </tr>\n",
              "  </tbody>\n",
              "</table>\n",
              "</div>"
            ],
            "text/plain": [
              "                 sender_name  ...                                         email_body\n",
              "0         \"MR. JAMES NGOLA.\"  ...  FROM:MR. JAMES NGOLA.\\nCONFIDENTIAL TEL: 233-2...\n",
              "1          \"Mr. Ben Suleman\"  ...  Dear Friend,\\n\\nI am Mr. Ben Suleman a custom ...\n",
              "2       \"PRINCE OBONG ELEME\"  ...  FROM HIS ROYAL MAJESTY (HRM) CROWN RULER OF EL...\n",
              "3       \"PRINCE OBONG ELEME\"  ...  FROM HIS ROYAL MAJESTY (HRM) CROWN RULER OF EL...\n",
              "4            \"Maryam Abacha\"  ...  Dear sir, \\n \\nIt is with a heart full of hope...\n",
              "5                       None  ...  ATTENTION:                                    ...\n",
              "6   \"Barrister tunde dosumu\"  ...  Dear Sir,\\n\\nI am Barrister Tunde Dosumu (SAN)...\n",
              "7           \"William Drallo\"  ...  FROM: WILLIAM DRALLO.\\nCONFIDENTIAL TEL: 233-2...\n",
              "8           \"MR USMAN ABDUL\"  ...  CHALLENGE SECURITIES LTD.\\nLAGOS, NIGERIA\\n\\n\\...\n",
              "9            \"Tunde  Dosumu\"  ...  Dear Sir,\\n\\nI am Barrister Tunde Dosumu (SAN)...\n",
              "10                      None  ...  FROM: MR TEMI JOHNSON\\nDEMOCRATIC REPUBLIC OF ...\n",
              "11           \"Dr.Sam jordan\"  ...  FROM THE DESK OF DR.SAM JORDAN\\nTHE MANAGER\\nH...\n",
              "12                      None  ...  \\nSENIOR ADVOCATE OF NIGERIA\\nBARR. PETER BROW...\n",
              "13                      None  ...  From;Mr.Michael Kamah and Family,\\n          J...\n",
              "14      \"COL. MICHAEL BUNDU\"  ...  FROM: COL. MICHAEL BUNDU. \\nDEMOCRATIC REPUBLI...\n",
              "15       \"MRS MARIAM ABACHA\"  ...  Dear Sir,\\n\\nA Very Good day to you   \\n\\nI am...\n",
              "16        \" DR. ANAYO AWKA \"  ...  FROM: DR. ANAYO AWKA BANK MANAGER \\n(UNION BAN...\n",
              "17        \" DR. ANAYO AWKA \"  ...  FROM: DR. ANAYO AWKA BANK MANAGER \\n(UNION BAN...\n",
              "18            \"Victor Aloma\"  ...  The Director,\\n\\n\\n\\n            SEEKING FOR I...\n",
              "19            \"Victor Aloma\"  ...  The Director,\\n\\n\\n\\n            SEEKING FOR I...\n",
              "\n",
              "[20 rows x 7 columns]"
            ]
          },
          "metadata": {
            "tags": []
          },
          "execution_count": 71
        }
      ]
    }
  ]
}