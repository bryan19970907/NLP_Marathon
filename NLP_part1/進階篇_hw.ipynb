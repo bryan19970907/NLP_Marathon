{
  "nbformat": 4,
  "nbformat_minor": 0,
  "metadata": {
    "language_info": {
      "codemirror_mode": {
        "name": "ipython",
        "version": 3
      },
      "file_extension": ".py",
      "mimetype": "text/x-python",
      "name": "python",
      "nbconvert_exporter": "python",
      "pygments_lexer": "ipython3",
      "version": "3.6.5-final"
    },
    "orig_nbformat": 2,
    "kernelspec": {
      "name": "python36564bitc3c936632e8a4243a25c20fc16c690eb",
      "display_name": "Python 3.6.5 64-bit"
    },
    "colab": {
      "name": "進階篇_hw.ipynb",
      "provenance": [],
      "collapsed_sections": []
    },
    "accelerator": "GPU",
    "widgets": {
      "application/vnd.jupyter.widget-state+json": {
        "fb8117011c2c4ebe8645686003d1db07": {
          "model_module": "@jupyter-widgets/controls",
          "model_name": "LabelModel",
          "state": {
            "_view_name": "LabelView",
            "style": "IPY_MODEL_f4888190755745c481fb944d72ebdbdb",
            "_dom_classes": [],
            "description": "",
            "_model_name": "LabelModel",
            "placeholder": "​",
            "_view_module": "@jupyter-widgets/controls",
            "_model_module_version": "1.5.0",
            "value": " 並\t將",
            "_view_count": null,
            "_view_module_version": "1.5.0",
            "description_tooltip": null,
            "_model_module": "@jupyter-widgets/controls",
            "layout": "IPY_MODEL_2f16458e3a1f432fbd10203fbab99986"
          }
        },
        "f4888190755745c481fb944d72ebdbdb": {
          "model_module": "@jupyter-widgets/controls",
          "model_name": "DescriptionStyleModel",
          "state": {
            "_view_name": "StyleView",
            "_model_name": "DescriptionStyleModel",
            "description_width": "",
            "_view_module": "@jupyter-widgets/base",
            "_model_module_version": "1.5.0",
            "_view_count": null,
            "_view_module_version": "1.2.0",
            "_model_module": "@jupyter-widgets/controls"
          }
        },
        "2f16458e3a1f432fbd10203fbab99986": {
          "model_module": "@jupyter-widgets/base",
          "model_name": "LayoutModel",
          "state": {
            "_view_name": "LayoutView",
            "grid_template_rows": null,
            "right": null,
            "justify_content": null,
            "_view_module": "@jupyter-widgets/base",
            "overflow": null,
            "_model_module_version": "1.2.0",
            "_view_count": null,
            "flex_flow": null,
            "width": null,
            "min_width": null,
            "border": null,
            "align_items": null,
            "bottom": null,
            "_model_module": "@jupyter-widgets/base",
            "top": null,
            "grid_column": null,
            "overflow_y": null,
            "overflow_x": null,
            "grid_auto_flow": null,
            "grid_area": null,
            "grid_template_columns": null,
            "flex": null,
            "_model_name": "LayoutModel",
            "justify_items": null,
            "grid_row": null,
            "max_height": null,
            "align_content": null,
            "visibility": null,
            "align_self": null,
            "height": null,
            "min_height": null,
            "padding": null,
            "grid_auto_rows": null,
            "grid_gap": null,
            "max_width": null,
            "order": null,
            "_view_module_version": "1.2.0",
            "grid_template_areas": null,
            "object_position": null,
            "object_fit": null,
            "grid_auto_columns": null,
            "margin": null,
            "display": null,
            "left": null
          }
        },
        "15b46a345a894e50b24ed6a6a46ef2a7": {
          "model_module": "@jupyter-widgets/controls",
          "model_name": "TextareaModel",
          "state": {
            "_view_name": "TextareaView",
            "style": "IPY_MODEL_2060fdb92ef34a169d1f1c961323bdc8",
            "rows": null,
            "_dom_classes": [],
            "description": "",
            "_model_name": "TextareaModel",
            "placeholder": "​",
            "_view_module": "@jupyter-widgets/controls",
            "_model_module_version": "1.5.0",
            "value": "我們",
            "_view_count": null,
            "disabled": false,
            "_view_module_version": "1.5.0",
            "continuous_update": true,
            "description_tooltip": null,
            "_model_module": "@jupyter-widgets/controls",
            "layout": "IPY_MODEL_f53f70bc239d40368b5dfc4df7cd746a"
          }
        },
        "2060fdb92ef34a169d1f1c961323bdc8": {
          "model_module": "@jupyter-widgets/controls",
          "model_name": "DescriptionStyleModel",
          "state": {
            "_view_name": "StyleView",
            "_model_name": "DescriptionStyleModel",
            "description_width": "",
            "_view_module": "@jupyter-widgets/base",
            "_model_module_version": "1.5.0",
            "_view_count": null,
            "_view_module_version": "1.2.0",
            "_model_module": "@jupyter-widgets/controls"
          }
        },
        "f53f70bc239d40368b5dfc4df7cd746a": {
          "model_module": "@jupyter-widgets/base",
          "model_name": "LayoutModel",
          "state": {
            "_view_name": "LayoutView",
            "grid_template_rows": null,
            "right": null,
            "justify_content": null,
            "_view_module": "@jupyter-widgets/base",
            "overflow": null,
            "_model_module_version": "1.2.0",
            "_view_count": null,
            "flex_flow": null,
            "width": null,
            "min_width": null,
            "border": null,
            "align_items": null,
            "bottom": null,
            "_model_module": "@jupyter-widgets/base",
            "top": null,
            "grid_column": null,
            "overflow_y": null,
            "overflow_x": null,
            "grid_auto_flow": null,
            "grid_area": null,
            "grid_template_columns": null,
            "flex": null,
            "_model_name": "LayoutModel",
            "justify_items": null,
            "grid_row": null,
            "max_height": null,
            "align_content": null,
            "visibility": null,
            "align_self": null,
            "height": null,
            "min_height": null,
            "padding": null,
            "grid_auto_rows": null,
            "grid_gap": null,
            "max_width": null,
            "order": null,
            "_view_module_version": "1.2.0",
            "grid_template_areas": null,
            "object_position": null,
            "object_fit": null,
            "grid_auto_columns": null,
            "margin": null,
            "display": null,
            "left": null
          }
        }
      }
    }
  },
  "cells": [
    {
      "cell_type": "markdown",
      "metadata": {
        "id": "vZ0ygHzqr7Gw"
      },
      "source": [
        "# 自製智能中文選字系統  (2)"
      ]
    },
    {
      "cell_type": "code",
      "metadata": {
        "id": "8ZyPAvgGsDE6",
        "colab": {
          "base_uri": "https://localhost:8080/"
        },
        "outputId": "45e465ef-36fe-4e31-9c75-269a8e936ab1"
      },
      "source": [
        "from google.colab import drive\r\n",
        "drive.mount('/content/drive')"
      ],
      "execution_count": 1,
      "outputs": [
        {
          "output_type": "stream",
          "text": [
            "Drive already mounted at /content/drive; to attempt to forcibly remount, call drive.mount(\"/content/drive\", force_remount=True).\n"
          ],
          "name": "stdout"
        }
      ]
    },
    {
      "cell_type": "code",
      "metadata": {
        "id": "ZhmTKjqdsHxs",
        "colab": {
          "base_uri": "https://localhost:8080/"
        },
        "outputId": "cc074462-f3d2-49f3-e41e-43e41f1ab075"
      },
      "source": [
        "%cd './drive/My Drive/NLP/day29_30'"
      ],
      "execution_count": 2,
      "outputs": [
        {
          "output_type": "stream",
          "text": [
            "/content/drive/My Drive/NLP/day29_30\n"
          ],
          "name": "stdout"
        }
      ]
    },
    {
      "cell_type": "code",
      "metadata": {
        "id": "itzdNzQGr7G3",
        "colab": {
          "base_uri": "https://localhost:8080/",
          "height": 35
        },
        "outputId": "36d80eef-0612-4e02-9cf8-d8510e16b2b9"
      },
      "source": [
        "import sys\n",
        "sys.version"
      ],
      "execution_count": 3,
      "outputs": [
        {
          "output_type": "execute_result",
          "data": {
            "application/vnd.google.colaboratory.intrinsic+json": {
              "type": "string"
            },
            "text/plain": [
              "'3.6.9 (default, Oct  8 2020, 12:12:24) \\n[GCC 8.4.0]'"
            ]
          },
          "metadata": {
            "tags": []
          },
          "execution_count": 3
        }
      ]
    },
    {
      "cell_type": "markdown",
      "metadata": {
        "id": "geR-ftP8r7G4"
      },
      "source": [
        "確認版本為 python3"
      ]
    },
    {
      "cell_type": "markdown",
      "metadata": {
        "id": "Jke-XvnOr7G5"
      },
      "source": [
        "## 資料前處理"
      ]
    },
    {
      "cell_type": "code",
      "metadata": {
        "id": "DxxTQqv_r7G5"
      },
      "source": [
        "import re"
      ],
      "execution_count": 4,
      "outputs": []
    },
    {
      "cell_type": "code",
      "metadata": {
        "id": "MkyH6q7zr7G6"
      },
      "source": [
        "def prepocess_line(line):\n",
        "    chinese_pattern = r'[\\u4E00-\\u9FFF]+'\n",
        "    segments = re.findall(chinese_pattern, line, flags=re.UNICODE)\n",
        "    return segments"
      ],
      "execution_count": 5,
      "outputs": []
    },
    {
      "cell_type": "code",
      "metadata": {
        "tags": [],
        "id": "-FBgLBLcr7G6"
      },
      "source": [
        "segments = []\n",
        "with open('./wiki_zh_small.txt') as fr:\n",
        "    for line in fr.readlines():\n",
        "        segments += prepocess_line(line)"
      ],
      "execution_count": 6,
      "outputs": []
    },
    {
      "cell_type": "markdown",
      "metadata": {
        "id": "IcDVVOyEr7G6"
      },
      "source": [
        "## 斷詞"
      ]
    },
    {
      "cell_type": "code",
      "metadata": {
        "tags": [],
        "id": "8R1qpCQPr7G6",
        "colab": {
          "base_uri": "https://localhost:8080/"
        },
        "outputId": "41960744-cccc-499e-fe4f-be5cf9327897"
      },
      "source": [
        "!pip install jieba"
      ],
      "execution_count": 7,
      "outputs": [
        {
          "output_type": "stream",
          "text": [
            "Requirement already satisfied: jieba in /usr/local/lib/python3.6/dist-packages (0.42.1)\n"
          ],
          "name": "stdout"
        }
      ]
    },
    {
      "cell_type": "code",
      "metadata": {
        "id": "zqg8Dq6ir7G7"
      },
      "source": [
        "import jieba"
      ],
      "execution_count": 8,
      "outputs": []
    },
    {
      "cell_type": "code",
      "metadata": {
        "tags": [],
        "id": "IvyMZ2FPr7G7",
        "colab": {
          "base_uri": "https://localhost:8080/"
        },
        "outputId": "92bab4aa-4931-4b4f-ab83-43ff0e66f54e"
      },
      "source": [
        "# cut for search 返回generator\r\n",
        "list(jieba.cut_for_search(segments[6001]))"
      ],
      "execution_count": 9,
      "outputs": [
        {
          "output_type": "stream",
          "text": [
            "Building prefix dict from the default dictionary ...\n",
            "Loading model from cache /tmp/jieba.cache\n",
            "Loading model cost 0.652 seconds.\n",
            "Prefix dict has been built successfully.\n"
          ],
          "name": "stderr"
        },
        {
          "output_type": "execute_result",
          "data": {
            "text/plain": [
              "['所以', '僅用', '於', '還原', '一些', '貴重', '的', '化合', '化合物']"
            ]
          },
          "metadata": {
            "tags": []
          },
          "execution_count": 9
        }
      ]
    },
    {
      "cell_type": "code",
      "metadata": {
        "tags": [],
        "id": "5fejkJvzr7G7"
      },
      "source": [
        "cut_segments = []\n",
        "for seg in segments:\n",
        "    # 使用結巴斷詞的 cut_for_search\n",
        "    gen = jieba.cut_for_search(seg)\n",
        "    cut_segments.extend(list(gen))\n",
        "  "
      ],
      "execution_count": 10,
      "outputs": []
    },
    {
      "cell_type": "markdown",
      "metadata": {
        "id": "0FUe1fBkr7G8"
      },
      "source": [
        "## 使用斷詞的結果來作Ngram"
      ]
    },
    {
      "cell_type": "code",
      "metadata": {
        "id": "_4HLh1TBr7G8"
      },
      "source": [
        "from collections import Counter\n",
        "\n",
        "class Counters:\n",
        "    def __init__(self, n):\n",
        "        self.n = n\n",
        "        self.counters = [Counter() for _ in range(n + 1)]\n",
        "\n",
        "    def fit(self, segments):\n",
        "        for i in range(1, 1 + self.n):\n",
        "            print(i)\n",
        "            for segment in segments:\n",
        "                self.counters[i] += Counter(self._skip(segment, i))\n",
        "\n",
        "        base_count = sum(dict(self.counters[1]).values())\n",
        "        self.counters[0] = Counter({'': base_count})\n",
        "\n",
        "    def __getitem__(self, k):\n",
        "        return self.counters[k]\n",
        "\n",
        "    def _skip(self, segment, n):\n",
        "        assert n > 0\n",
        "        if len(segment) < n:\n",
        "            return []\n",
        "        shift = n - 1\n",
        "        for i in range(len(segment) - shift):\n",
        "            yield segment[i:i+shift+1]"
      ],
      "execution_count": 11,
      "outputs": []
    },
    {
      "cell_type": "code",
      "metadata": {
        "id": "cutBSEPLr7G8",
        "colab": {
          "base_uri": "https://localhost:8080/"
        },
        "outputId": "0288b3ab-8bea-4af1-fa4b-1bf0d410f21d"
      },
      "source": [
        "counters = Counters(n=5)\n",
        "counters.fit(cut_segments)"
      ],
      "execution_count": 12,
      "outputs": [
        {
          "output_type": "stream",
          "text": [
            "1\n",
            "2\n",
            "3\n",
            "4\n",
            "5\n"
          ],
          "name": "stdout"
        }
      ]
    },
    {
      "cell_type": "code",
      "metadata": {
        "id": "uIdiMoMmr7G8"
      },
      "source": [
        "class Ngram:\n",
        "    def __init__(self, n, counters):\n",
        "        assert n <= counters.n\n",
        "        self.n = n\n",
        "        self.major_counter = counters[n]\n",
        "        self.minor_counter = counters[n-1]\n",
        "\n",
        "    def predict_proba(self, prefix='', top_k=5):\n",
        "        assert len(prefix) >= self.n - 1\n",
        "\n",
        "        reference = prefix[-(self.n - 1):] if self.n > 1 else ''\n",
        "        count_referecne = self.minor_counter[reference]\n",
        "        probs = []\n",
        "        for key, count in dict(self.major_counter).items():\n",
        "            if key.startswith(reference):\n",
        "                prob = count / count_referecne\n",
        "                probs.append((prob, key[-1]))\n",
        "        sorted_probs = sorted(probs, reverse=True)\n",
        "        return sorted_probs[:top_k] if top_k > 0 else sorted_probs\n",
        "\n",
        "    def get_proba_dict(self, prefix=''):\n",
        "        return {word: prob for prob, word in self.predict_proba(prefix, top_k=-1)}"
      ],
      "execution_count": 13,
      "outputs": []
    },
    {
      "cell_type": "code",
      "metadata": {
        "id": "8mzjkFEKr7G9"
      },
      "source": [
        "ngrams = [Ngram(i, counters) for i in range(1, 6)]"
      ],
      "execution_count": 14,
      "outputs": []
    },
    {
      "cell_type": "markdown",
      "metadata": {
        "id": "CRowsleTr7G9"
      },
      "source": [
        "## 使用Smoothing of Language Models來建立第二版選字系統"
      ]
    },
    {
      "cell_type": "code",
      "metadata": {
        "id": "MZKPJV3Nr7G9"
      },
      "source": [
        "class ChineseWordRecommenderV2:\n",
        "    def __init__(self, ngrams):\n",
        "        self.ngrams = ngrams\n",
        "    \n",
        "    def predict_proba(self, prefix='', top_k=5):\n",
        "        interpolation_lambda = 0.99\n",
        "        proba_dicts = [ngram.get_proba_dict(prefix) for ngram in ngrams[:len(prefix)+1]]\n",
        "\n",
        "        probas = []\n",
        "        # 在此你可以選擇兩種 Smoothing of Language Models 的方法：\n",
        "        # Back-off Smoothing 或 Interpolation Smoothing\n",
        "        # 如果你選擇 Interpolation Smoothing，你可以運用已經準備好的輔助函式\n",
        "        # _get_interpolation_proba 來達到此目的\n",
        "        for word in proba_dicts[len(proba_dicts) - 1].keys():\n",
        "          prob = self._get_interpolation_proba(word , proba_dicts , interpolation_lambda , idx = None)\n",
        "          #print(prob)\n",
        "          probas.append((prob , word))\n",
        "\n",
        "        sorted_probas = sorted(list(probas) , key = lambda x : x[0] , reverse = True)\n",
        "\n",
        "        return sorted_probas[:top_k] if top_k > 0 else sorted_probas\n",
        "    \n",
        "    def _get_interpolation_proba(self, word, proba_dicts, interp_lambda, idx=None):\n",
        "        if idx is None:\n",
        "            idx = len(proba_dicts) - 1\n",
        "        # idx==0代表使用unigram\n",
        "        if idx == 0:\n",
        "            return proba_dicts[idx].get(word, 0.)\n",
        "        # https://stackoverflow.com/questions/14417571/breaking-a-line-of-python-to-multiple-lines\n",
        "        # \\ symbol to escape end-of-line\n",
        "        return interp_lambda * proba_dicts[idx].get(word, 0.) + \\\n",
        "               (1 - interp_lambda) * self._get_interpolation_proba(word, proba_dicts, interp_lambda, idx=idx-1)"
      ],
      "execution_count": 15,
      "outputs": []
    },
    {
      "cell_type": "code",
      "metadata": {
        "id": "SO6rP2aTr7G-"
      },
      "source": [
        "model = ChineseWordRecommenderV2(ngrams)"
      ],
      "execution_count": 16,
      "outputs": []
    },
    {
      "cell_type": "code",
      "metadata": {
        "tags": [],
        "id": "OozUTBGYr7G-",
        "colab": {
          "base_uri": "https://localhost:8080/"
        },
        "outputId": "3d168ef1-1227-4fde-8cf5-d62e0f13ca0b"
      },
      "source": [
        "probs = model.predict_proba('法', top_k=10)\n",
        "probs"
      ],
      "execution_count": 17,
      "outputs": [
        {
          "output_type": "execute_result",
          "data": {
            "text/plain": [
              "[(0.051904146168121834, '國'),\n",
              " (0.04388616116650217, '律'),\n",
              " (0.029848241612163377, '院'),\n",
              " (0.020222220928179165, '語'),\n",
              " (0.011414997351123958, '蘭'),\n",
              " (0.010549762034510142, '系'),\n",
              " (0.00792383560501087, '定'),\n",
              " (0.007908712635409567, '制'),\n",
              " (0.007072068387587443, '學'),\n",
              " (0.007060356996987107, '西')]"
            ]
          },
          "metadata": {
            "tags": []
          },
          "execution_count": 17
        }
      ]
    },
    {
      "cell_type": "markdown",
      "metadata": {
        "id": "tp2ymDiGr7G_"
      },
      "source": [
        "## Demo"
      ]
    },
    {
      "cell_type": "code",
      "metadata": {
        "tags": [],
        "id": "ZbelqHQGr7G_",
        "colab": {
          "base_uri": "https://localhost:8080/"
        },
        "outputId": "8adbce46-7ba0-4036-a625-d3869231ba61"
      },
      "source": [
        "!pip install -U pip\n",
        "!pip install -q ipywidgets"
      ],
      "execution_count": 18,
      "outputs": [
        {
          "output_type": "stream",
          "text": [
            "Collecting pip\n",
            "\u001b[?25l  Downloading https://files.pythonhosted.org/packages/54/eb/4a3642e971f404d69d4f6fa3885559d67562801b99d7592487f1ecc4e017/pip-20.3.3-py2.py3-none-any.whl (1.5MB)\n",
            "\u001b[K     |████████████████████████████████| 1.5MB 8.0MB/s \n",
            "\u001b[?25hInstalling collected packages: pip\n",
            "  Found existing installation: pip 19.3.1\n",
            "    Uninstalling pip-19.3.1:\n",
            "      Successfully uninstalled pip-19.3.1\n",
            "Successfully installed pip-20.3.3\n"
          ],
          "name": "stdout"
        }
      ]
    },
    {
      "cell_type": "code",
      "metadata": {
        "colab": {
          "base_uri": "https://localhost:8080/",
          "height": 90,
          "referenced_widgets": [
            "fb8117011c2c4ebe8645686003d1db07",
            "f4888190755745c481fb944d72ebdbdb",
            "2f16458e3a1f432fbd10203fbab99986",
            "15b46a345a894e50b24ed6a6a46ef2a7",
            "2060fdb92ef34a169d1f1c961323bdc8",
            "f53f70bc239d40368b5dfc4df7cd746a"
          ]
        },
        "id": "uE1O4FUDr7G_",
        "outputId": "6bfdb6f3-a7c6-4c94-dece-bc350037fa37"
      },
      "source": [
        "import ipywidgets as widgets\n",
        "\n",
        "text = widgets.Textarea()\n",
        "label = widgets.Label()\n",
        "display(label, text)\n",
        "\n",
        "def func(change):\n",
        "    probs = model.predict_proba(change.new, top_k=10)\n",
        "    label.value = ' ' + '\\t'.join([word for prob, word in probs])\n",
        "\n",
        "text.observe(func, names='value')"
      ],
      "execution_count": 19,
      "outputs": [
        {
          "output_type": "display_data",
          "data": {
            "application/vnd.jupyter.widget-view+json": {
              "model_id": "fb8117011c2c4ebe8645686003d1db07",
              "version_minor": 0,
              "version_major": 2
            },
            "text/plain": [
              "Label(value='')"
            ]
          },
          "metadata": {
            "tags": []
          }
        },
        {
          "output_type": "display_data",
          "data": {
            "application/vnd.jupyter.widget-view+json": {
              "model_id": "15b46a345a894e50b24ed6a6a46ef2a7",
              "version_minor": 0,
              "version_major": 2
            },
            "text/plain": [
              "Textarea(value='')"
            ]
          },
          "metadata": {
            "tags": []
          }
        }
      ]
    },
    {
      "cell_type": "code",
      "metadata": {
        "id": "SMMmbSNQr7HA"
      },
      "source": [
        ""
      ],
      "execution_count": null,
      "outputs": []
    }
  ]
}