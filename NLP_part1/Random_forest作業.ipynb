{
  "nbformat": 4,
  "nbformat_minor": 0,
  "metadata": {
    "kernelspec": {
      "display_name": "pytorch_env",
      "language": "python",
      "name": "pytorch_env"
    },
    "language_info": {
      "codemirror_mode": {
        "name": "ipython",
        "version": 3
      },
      "file_extension": ".py",
      "mimetype": "text/x-python",
      "name": "python",
      "nbconvert_exporter": "python",
      "pygments_lexer": "ipython3",
      "version": "3.7.3"
    },
    "colab": {
      "name": "Random_forest作業.ipynb",
      "provenance": [],
      "collapsed_sections": []
    }
  },
  "cells": [
    {
      "cell_type": "markdown",
      "metadata": {
        "id": "zt599B5Ok6Lt"
      },
      "source": [
        "### 作業目的: 了解何謂Bias-Variance Tradeoff"
      ]
    },
    {
      "cell_type": "markdown",
      "metadata": {
        "id": "tbTGsblrk6L6"
      },
      "source": [
        "### Q1: 一般模型誤差可拆為三部分，這三部分的誤差分別是？\n",
        "\n",
        "Answer:bia , variance , irreducible error "
      ]
    },
    {
      "cell_type": "markdown",
      "metadata": {
        "id": "JcVckb8Ok6L7"
      },
      "source": [
        "### Q2: 請解釋何謂Bias-Variance Tradeoff\n",
        "\n",
        "Answer:Bias指的是模型在training data上預測出來的值/類別與真實答案的差距；variance則是代表model裡面每次做prediction的函數之間的差異有多大。如果選擇一個很複雜的模型，則模型的capacity很高，代表variance很大，而因為模型複雜，training data的pattern對其相對簡單，所以bias會小，反之亦然。"
      ]
    },
    {
      "cell_type": "code",
      "metadata": {
        "id": "x6x9VEFuk6L7"
      },
      "source": [
        ""
      ],
      "execution_count": null,
      "outputs": []
    }
  ]
}