{
  "nbformat": 4,
  "nbformat_minor": 0,
  "metadata": {
    "colab": {
      "name": "article_modifier_自動文件修改器(作業)",
      "provenance": []
    },
    "kernelspec": {
      "name": "python3",
      "display_name": "Python 3"
    }
  },
  "cells": [
    {
      "cell_type": "code",
      "metadata": {
        "colab": {
          "base_uri": "https://localhost:8080/"
        },
        "id": "uuR2QrbzVvkz",
        "outputId": "2c56d3ef-ad5c-4417-ea65-be1fde93d867"
      },
      "source": [
        "from google.colab import drive\r\n",
        "drive.mount('/content/drive')"
      ],
      "execution_count": 1,
      "outputs": [
        {
          "output_type": "stream",
          "text": [
            "Mounted at /content/drive\n"
          ],
          "name": "stdout"
        }
      ]
    },
    {
      "cell_type": "code",
      "metadata": {
        "colab": {
          "base_uri": "https://localhost:8080/"
        },
        "id": "2OdaP8vyVxv_",
        "outputId": "489751b2-46ea-4084-9cc9-4c3f1d427101"
      },
      "source": [
        "%cd './drive/My Drive/NLP/day38'"
      ],
      "execution_count": 2,
      "outputs": [
        {
          "output_type": "stream",
          "text": [
            "/content/drive/My Drive/NLP/day38\n"
          ],
          "name": "stdout"
        }
      ]
    },
    {
      "cell_type": "code",
      "metadata": {
        "id": "MudkVzgwWDWX"
      },
      "source": [
        "#題目: 將某篇文章以上下文相同，比方三連詞(trigram)方式修改內容\r\n",
        "#說明：某篇文章中我們可以找出所有的三連詞(trigram)，以及在前字與後字出現時，\r\n",
        "#按照出現度隨機選出一個字去換掉中間字，這是利用三連詞修改文章內容的最基本作法。\r\n",
        "#一旦字典的資料結構建立，我們就以某種機率(比方20%)去置換原文，並將置換文與原文印出來\r\n",
        "\r\n",
        "#延伸: 可用五連詞或七連詞去取代中間字，可利用三連詞之前兩字去更換第三字，\r\n",
        "#可增加加詞性的相同性(Parts Of Sentence)提高可讀性，甚至使用 Word2Vec, Glove，或者RNN的\r\n",
        "\r\n",
        "#範例程式檔名: article_modifier_自動文件修改器.py。\r\n",
        "#模組: sklearn, random, numpy, nltk, bs4\r\n",
        "#輸入檔：./electronics/positive.review\r\n",
        "#成績：被置換文的合理性與可讀性\r\n",
        "\r\n",
        "\r\n",
        "# 使用三連詞 trigrams 練習簡易文件產生器\r\n",
        "from __future__ import print_function, division\r\n",
        "from future.utils import iteritems\r\n",
        "from builtins import range"
      ],
      "execution_count": 3,
      "outputs": []
    },
    {
      "cell_type": "code",
      "metadata": {
        "id": "F6go9-zXWJD6"
      },
      "source": [
        "import nltk\r\n",
        "import random\r\n",
        "import numpy as np\r\n",
        "\r\n",
        "from bs4 import BeautifulSoup"
      ],
      "execution_count": 4,
      "outputs": []
    },
    {
      "cell_type": "code",
      "metadata": {
        "id": "VMRPR65BWOGF"
      },
      "source": [
        "# load the reviews\r\n",
        "positive_reviews = BeautifulSoup(open('positive(作業數據).review', encoding='ISO-8859-1').read(), \"lxml\")\r\n",
        "positive_reviews = positive_reviews.findAll('review_text')"
      ],
      "execution_count": 5,
      "outputs": []
    },
    {
      "cell_type": "code",
      "metadata": {
        "colab": {
          "base_uri": "https://localhost:8080/"
        },
        "id": "yzzEbgsfWc4W",
        "outputId": "45a71a80-d2dd-40b5-b67f-ef696091eb6d"
      },
      "source": [
        "nltk.download('punkt')"
      ],
      "execution_count": 6,
      "outputs": [
        {
          "output_type": "stream",
          "text": [
            "[nltk_data] Downloading package punkt to /root/nltk_data...\n",
            "[nltk_data]   Unzipping tokenizers/punkt.zip.\n"
          ],
          "name": "stdout"
        },
        {
          "output_type": "execute_result",
          "data": {
            "text/plain": [
              "True"
            ]
          },
          "metadata": {
            "tags": []
          },
          "execution_count": 6
        }
      ]
    },
    {
      "cell_type": "code",
      "metadata": {
        "id": "nyVxhq0dWX8u"
      },
      "source": [
        "# 提出 三連詞 並置入字典\r\n",
        "# (w1, w3) 當作 key, [ w2 ] 當作值\r\n",
        "trigrams = {}\r\n",
        "for review in positive_reviews:\r\n",
        "    s = review.text.lower()\r\n",
        "    tokens = nltk.word_tokenize(s)\r\n",
        "    for i in range(len(tokens) - 2):\r\n",
        "        k = (tokens[i], tokens[i+2])\r\n",
        "        if k not in trigrams:\r\n",
        "            trigrams[k] = []\r\n",
        "        trigrams[k].append(tokens[i+1])"
      ],
      "execution_count": 7,
      "outputs": []
    },
    {
      "cell_type": "code",
      "metadata": {
        "id": "QWEAkWqGWlfI"
      },
      "source": [
        "# 將中間字矩陣變成或然率向量\r\n",
        "trigram_probabilities = {}\r\n",
        "for k, words in iteritems(trigrams):\r\n",
        "    # 產生一個  word -> count 字典\r\n",
        "    if len(set(words)) > 1:\r\n",
        "        # 如果中間字middle word不只有一個機率 \r\n",
        "        d = {}\r\n",
        "        n = 0\r\n",
        "        for w in words:\r\n",
        "            if w not in d:\r\n",
        "                d[w] = 0\r\n",
        "            d[w] += 1\r\n",
        "            n += 1\r\n",
        "        for w, c in iteritems(d):\r\n",
        "            d[w] = float(c) / n\r\n",
        "        ############################\r\n",
        "        d = sorted(d.items() , key = lambda x:x[1])\r\n",
        "        ############################\r\n",
        "        trigram_probabilities[k] = d"
      ],
      "execution_count": 8,
      "outputs": []
    },
    {
      "cell_type": "code",
      "metadata": {
        "id": "_7PCJkyvWrbl"
      },
      "source": [
        "def random_sample(d):\r\n",
        "    # 從字典隨機選出一個帶機率值的樣本，回傳累積機率值最大的字\r\n",
        "    r = random.random()\r\n",
        "    cumulative = 0\r\n",
        "    for w, p in (d):\r\n",
        "        cumulative += p\r\n",
        "        if r < cumulative:\r\n",
        "            return w"
      ],
      "execution_count": 12,
      "outputs": []
    },
    {
      "cell_type": "code",
      "metadata": {
        "id": "pSrfociVWt8w"
      },
      "source": [
        "def test_spinner():\r\n",
        "    review = random.choice(positive_reviews)\r\n",
        "    s = review.text.lower()\r\n",
        "    print(\"Original:\", s)\r\n",
        "    tokens = nltk.tokenize.word_tokenize(s)\r\n",
        "    for i in range(len(tokens) - 2):\r\n",
        "        if random.random() < 0.2: # 20% chance of replacement\r\n",
        "            k = (tokens[i], tokens[i+2])\r\n",
        "            if k in trigram_probabilities:\r\n",
        "                w = random_sample(trigram_probabilities[k])\r\n",
        "                tokens[i+1] = w\r\n",
        "    print(\"Spun:\")\r\n",
        "    print(\" \".join(tokens).replace(\" .\", \".\").replace(\" '\", \"'\").replace(\" ,\", \",\").replace(\"$ \", \"$\").replace(\" !\", \"!\"))"
      ],
      "execution_count": 13,
      "outputs": []
    },
    {
      "cell_type": "code",
      "metadata": {
        "colab": {
          "base_uri": "https://localhost:8080/"
        },
        "id": "1Q8h-a5dLqHH",
        "outputId": "c162b259-8cf5-430c-a54a-67c63d58b18c"
      },
      "source": [
        "if __name__ == '__main__':\r\n",
        "    test_spinner()"
      ],
      "execution_count": 16,
      "outputs": [
        {
          "output_type": "stream",
          "text": [
            "Original: \n",
            "i just recieved my hdmi cable and am very impressed. the price is just what it should be about $5 and makes me wonder how somebody would spend over $100 for this cable at a store. the service was excellent and the cable arrived in 4 days! i highly recommend this cable. i just plugged it into my cable box and the other end into the tv and wow what a great picture all around. the color is just so much more vivid using hdmi compared to component 3 wire connectors. get this cable for your system and stay away from those high priced others\n",
            "\n",
            "Spun:\n",
            "i just removed my hdmi cable and am very impressed. the price is just what it should know about $5 and makes you wonder how those would spend over $100 for this cable at a store. the problem was leveling and regular cable arrived in 4 days! i highly recommend this cable. i just plug it into my cable box and the other end into the tv and wow what a great picture all around. the color is nice so much more vivid using hdmi compared to have 3 wire connectors. get this cable for your system and stay away from those high priced others\n"
          ],
          "name": "stdout"
        }
      ]
    }
  ]
}