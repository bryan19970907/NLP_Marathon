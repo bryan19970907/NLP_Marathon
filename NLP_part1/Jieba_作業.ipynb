{
  "nbformat": 4,
  "nbformat_minor": 0,
  "metadata": {
    "kernelspec": {
      "display_name": "cupoy_env",
      "language": "python",
      "name": "cupoy_env"
    },
    "language_info": {
      "codemirror_mode": {
        "name": "ipython",
        "version": 3
      },
      "file_extension": ".py",
      "mimetype": "text/x-python",
      "name": "python",
      "nbconvert_exporter": "python",
      "pygments_lexer": "ipython3",
      "version": "3.7.3"
    },
    "colab": {
      "name": "Jieba_作業.ipynb",
      "provenance": [],
      "collapsed_sections": []
    }
  },
  "cells": [
    {
      "cell_type": "markdown",
      "metadata": {
        "id": "6oygJImzrG-6"
      },
      "source": [
        "## 作業目標: 使用Jieba進行各項的斷詞操作\n",
        "\n",
        "這份作業我們會使用中文飯店評論資料集來作為斷詞練習。 [資料集:ChnSentiCorp_htl_all](https://github.com/SophonPlus/ChineseNlpCorpus)"
      ]
    },
    {
      "cell_type": "markdown",
      "metadata": {
        "id": "GY1mvzh5rG_B"
      },
      "source": [
        "### 讀入文本資料"
      ]
    },
    {
      "cell_type": "code",
      "metadata": {
        "colab": {
          "base_uri": "https://localhost:8080/"
        },
        "id": "gQ2D0-l0vGKA",
        "outputId": "ec8a5de4-1c73-4217-b7f4-c62367928e32"
      },
      "source": [
        "from google.colab import drive\r\n",
        "drive.mount('/content/drive')"
      ],
      "execution_count": 1,
      "outputs": [
        {
          "output_type": "stream",
          "text": [
            "Drive already mounted at /content/drive; to attempt to forcibly remount, call drive.mount(\"/content/drive\", force_remount=True).\n"
          ],
          "name": "stdout"
        }
      ]
    },
    {
      "cell_type": "code",
      "metadata": {
        "colab": {
          "base_uri": "https://localhost:8080/"
        },
        "id": "ak8GahH1vQp_",
        "outputId": "a33be720-aecb-40c9-eec4-7e3507a404be"
      },
      "source": [
        "!pip install jieba"
      ],
      "execution_count": 2,
      "outputs": [
        {
          "output_type": "stream",
          "text": [
            "Requirement already satisfied: jieba in /usr/local/lib/python3.6/dist-packages (0.42.1)\n"
          ],
          "name": "stdout"
        }
      ]
    },
    {
      "cell_type": "code",
      "metadata": {
        "colab": {
          "base_uri": "https://localhost:8080/"
        },
        "id": "zt2YuFchvSqd",
        "outputId": "701773a6-ce6e-488f-ea28-283af24f6a24"
      },
      "source": [
        "import jieba\r\n",
        "jieba.enable_paddle()"
      ],
      "execution_count": 3,
      "outputs": [
        {
          "output_type": "stream",
          "text": [
            "Paddle enabled successfully......\n"
          ],
          "name": "stderr"
        }
      ]
    },
    {
      "cell_type": "code",
      "metadata": {
        "id": "dX97k_eqvXkY"
      },
      "source": [
        "file_path = './drive/My Drive/NLP/day06/'"
      ],
      "execution_count": 4,
      "outputs": []
    },
    {
      "cell_type": "code",
      "metadata": {
        "colab": {
          "base_uri": "https://localhost:8080/",
          "height": 197
        },
        "id": "uFmFts0RrG_C",
        "outputId": "cadbf231-5b5f-4ee6-9c32-17cf1cd6df5c"
      },
      "source": [
        "import pandas as pd\n",
        "\n",
        "# hint: 可利用pandas讀取CSV\n",
        "###<your code>###\n",
        "pd_corpus = pd.read_csv(filepath_or_buffer = file_path + 'ChnSentiCorp_htl_all.csv' , header = 0)\n",
        "\n",
        "pd_corpus.head(5)"
      ],
      "execution_count": 5,
      "outputs": [
        {
          "output_type": "execute_result",
          "data": {
            "text/html": [
              "<div>\n",
              "<style scoped>\n",
              "    .dataframe tbody tr th:only-of-type {\n",
              "        vertical-align: middle;\n",
              "    }\n",
              "\n",
              "    .dataframe tbody tr th {\n",
              "        vertical-align: top;\n",
              "    }\n",
              "\n",
              "    .dataframe thead th {\n",
              "        text-align: right;\n",
              "    }\n",
              "</style>\n",
              "<table border=\"1\" class=\"dataframe\">\n",
              "  <thead>\n",
              "    <tr style=\"text-align: right;\">\n",
              "      <th></th>\n",
              "      <th>label</th>\n",
              "      <th>review</th>\n",
              "    </tr>\n",
              "  </thead>\n",
              "  <tbody>\n",
              "    <tr>\n",
              "      <th>0</th>\n",
              "      <td>1</td>\n",
              "      <td>距离川沙公路较近,但是公交指示不对,如果是\"蔡陆线\"的话,会非常麻烦.建议用别的路线.房间较...</td>\n",
              "    </tr>\n",
              "    <tr>\n",
              "      <th>1</th>\n",
              "      <td>1</td>\n",
              "      <td>商务大床房，房间很大，床有2M宽，整体感觉经济实惠不错!</td>\n",
              "    </tr>\n",
              "    <tr>\n",
              "      <th>2</th>\n",
              "      <td>1</td>\n",
              "      <td>早餐太差，无论去多少人，那边也不加食品的。酒店应该重视一下这个问题了。房间本身很好。</td>\n",
              "    </tr>\n",
              "    <tr>\n",
              "      <th>3</th>\n",
              "      <td>1</td>\n",
              "      <td>宾馆在小街道上，不大好找，但还好北京热心同胞很多~宾馆设施跟介绍的差不多，房间很小，确实挺小...</td>\n",
              "    </tr>\n",
              "    <tr>\n",
              "      <th>4</th>\n",
              "      <td>1</td>\n",
              "      <td>CBD中心,周围没什么店铺,说5星有点勉强.不知道为什么卫生间没有电吹风</td>\n",
              "    </tr>\n",
              "  </tbody>\n",
              "</table>\n",
              "</div>"
            ],
            "text/plain": [
              "   label                                             review\n",
              "0      1  距离川沙公路较近,但是公交指示不对,如果是\"蔡陆线\"的话,会非常麻烦.建议用别的路线.房间较...\n",
              "1      1                       商务大床房，房间很大，床有2M宽，整体感觉经济实惠不错!\n",
              "2      1         早餐太差，无论去多少人，那边也不加食品的。酒店应该重视一下这个问题了。房间本身很好。\n",
              "3      1  宾馆在小街道上，不大好找，但还好北京热心同胞很多~宾馆设施跟介绍的差不多，房间很小，确实挺小...\n",
              "4      1               CBD中心,周围没什么店铺,说5星有点勉强.不知道为什么卫生间没有电吹风"
            ]
          },
          "metadata": {
            "tags": []
          },
          "execution_count": 5
        }
      ]
    },
    {
      "cell_type": "code",
      "metadata": {
        "colab": {
          "base_uri": "https://localhost:8080/"
        },
        "id": "xJ9HqaRDydBr",
        "outputId": "e750e7d1-f6d0-4211-e114-be33c11e6c99"
      },
      "source": [
        "pd_corpus.columns"
      ],
      "execution_count": 6,
      "outputs": [
        {
          "output_type": "execute_result",
          "data": {
            "text/plain": [
              "Index(['label', 'review'], dtype='object')"
            ]
          },
          "metadata": {
            "tags": []
          },
          "execution_count": 6
        }
      ]
    },
    {
      "cell_type": "code",
      "metadata": {
        "colab": {
          "base_uri": "https://localhost:8080/"
        },
        "id": "YF1RIdajrG_D",
        "outputId": "892b2db9-6388-473d-cd1c-3165d02954e4"
      },
      "source": [
        "#確認所有留言,正評價(label=1)與負評價數量(label=0)\n",
        "###<your code>###\n",
        "pd_positive = pd_corpus[pd_corpus['label']==1]\n",
        "pd_negative = pd_corpus[pd_corpus['label']==0]\n",
        "\n",
        "print(f'Total: {len(pd_corpus)}, Positive: {len(pd_positive)}, Negative: {len(pd_negative)}')"
      ],
      "execution_count": 7,
      "outputs": [
        {
          "output_type": "stream",
          "text": [
            "Total: 7766, Positive: 5322, Negative: 2444\n"
          ],
          "name": "stdout"
        }
      ]
    },
    {
      "cell_type": "code",
      "metadata": {
        "id": "MP5H9w7ZrG_E"
      },
      "source": [
        "#移除缺失值\n",
        "###<your code>###\n",
        "pd_corpus.dropna(inplace=True)"
      ],
      "execution_count": 8,
      "outputs": []
    },
    {
      "cell_type": "markdown",
      "metadata": {
        "id": "vvi1UFLPrG_E"
      },
      "source": [
        "### 建構結巴斷詞Function\n",
        "\n",
        "建構可將讀入的Pandas DataFrame的文本資料，外加一欄名為`cut`的review欄位斷詞結果"
      ]
    },
    {
      "cell_type": "code",
      "metadata": {
        "id": "M7bTn4QarG_F"
      },
      "source": [
        "import jieba"
      ],
      "execution_count": 9,
      "outputs": []
    },
    {
      "cell_type": "code",
      "metadata": {
        "id": "oYRPDW6TrG_F"
      },
      "source": [
        "class JiebaCutingClass(object):\n",
        "    '''Class to use jeiba to parse corpus from dataframe and cut the corpus\n",
        "    \n",
        "    Parameters\n",
        "    -----------\n",
        "    key_to_cut: str\n",
        "        the dataframe key to parse the sentence for jieba cutting\n",
        "    dic: str\n",
        "        the dictionary to use for jieba, default is None (use default dictionary)\n",
        "    userdict: str\n",
        "        the user defined dictionary to use for jieba, default is None\n",
        "    '''\n",
        "    \n",
        "    def __init__(self, key_to_cut:str, dic:str=None, userdict:str=None):\n",
        "        \n",
        "        if dic is not None:\n",
        "            jieba.set_dictionary(dic)\n",
        "        \n",
        "        if userdict is not None:\n",
        "            jieba.load_userdict(userdict)\n",
        "        \n",
        "        self.key_to_cut = key_to_cut\n",
        "        \n",
        "        #將paddle 功能開啟\n",
        "        ###<your code>###\n",
        "        jieba.enable_paddle()\n",
        "        \n",
        "    @staticmethod\n",
        "    def cut_single_sentence(sentence, use_paddle=False, use_full=False, use_search=False):\n",
        "        \n",
        "        if use_search:\n",
        "            # hint:使用收尋引擎模式進行斷詞\n",
        "            ###<your code>###\n",
        "            out = jieba.cut_for_search(sentence=sentence)\n",
        "        else:\n",
        "            # hint:非收尋引擎模式斷詞，請注意有精確模式、全模式與paddle模式\n",
        "            ###<your code>###\n",
        "            if use_paddle:\n",
        "              out = jieba.cut(sentence=sentence , use_paddle=True)\n",
        "            if use_full:\n",
        "              out = jieba.cut(sentence=sentence , cut_all=True)\n",
        "            else:\n",
        "              out = jieba.cut(sentence=sentence)\n",
        "        return out\n",
        "            \n",
        "    \n",
        "    def cut_corpus(self, corpus: pd.DataFrame, mode: str) -> pd.DataFrame:\n",
        "        '''Method to read and cut sentence from dataframe and append another column named cut\n",
        "        \n",
        "        Paremeters\n",
        "        --------------\n",
        "        corpus: pd.DataFrame\n",
        "            Input corpus in dataframe\n",
        "        mode: str\n",
        "            Jieba mode to be used\n",
        "        \n",
        "        Return\n",
        "        ----------------\n",
        "        out: pd.Dataframe\n",
        "            Output corpus in dataframe\n",
        "        '''\n",
        "        \n",
        "        # checking valid mode\n",
        "        if mode not in ['paddle', 'full', 'precise', 'search']:\n",
        "            raise TypeError(f'only support `paddle`, `full`, `precise`, and `search` mode, but get {mode}')\n",
        "            \n",
        "        # cut the corpus based on mode\n",
        "        # hint: 根據mode來呼叫相對應的斷詞method\n",
        "        if mode == 'paddle':\n",
        "            ###<your code>###\n",
        "            out = self._paddle_cut(corpus)\n",
        "        elif mode == 'full':\n",
        "            ###<your code>###\n",
        "            out = self._full_cut(corpus)\n",
        "        elif mode == 'precise':\n",
        "            ###<your code>###\n",
        "            out = self._precise_cut(corpus)\n",
        "        elif mode == 'search':\n",
        "            ###<your code>###\n",
        "            out = self._search_cut(corpus)\n",
        "\n",
        "        return out\n",
        "    \n",
        "    def _paddle_cut(self, corpus):\n",
        "        '''paddle mode\n",
        "        '''\n",
        "        #enable paddle\n",
        "        #hint:先啟用paddle mode\n",
        "        ### <your code> ###\n",
        "        jieba.enable_paddle()\n",
        "        out = []\n",
        "        # hint:將讀進的文本進行斷詞，並將結果append回out的陣列中\n",
        "        for single_review in corpus[self.key_to_cut]:\n",
        "            per_row_list= []\n",
        "            ###<your code>###\n",
        "            words = self.cut_single_sentence(sentence = single_review , use_paddle = True , use_full = False , use_search = False)\n",
        "            for word in words:\n",
        "              per_row_list.append(word)\n",
        "            out.append(per_row_list) \n",
        "        corpus['cut'] = out\n",
        "        return corpus\n",
        "    \n",
        "    def _full_cut(self, corpus):\n",
        "        '''full mode\n",
        "        '''\n",
        "        out = []\n",
        "        # hint:將讀進的文本進行斷詞，並將結果append回out的陣列中   \n",
        "        for single_review in corpus[self.key_to_cut]:\n",
        "            ###<your code>###\n",
        "            per_row_list= []           \n",
        "            words = self.cut_single_sentence(sentence = single_review , use_paddle = False , use_full = True , use_search = False)\n",
        "            for word in words:\n",
        "              per_row_list.append(word)\n",
        "            out.append(per_row_list)\n",
        "        corpus['cut'] = out\n",
        "        \n",
        "        return corpus\n",
        "    \n",
        "    def _precise_cut(self, corpus):\n",
        "        '''precise mode\n",
        "        '''\n",
        "        out = []\n",
        "        # hint:將讀進的文本進行斷詞，並將結果append回out的陣列中\n",
        "        for single_review in corpus[self.key_to_cut]:\n",
        "            ###<your code>###\n",
        "            per_row_list= []            \n",
        "            words = self.cut_single_sentence(sentence = single_review , use_paddle = False , use_full = False , use_search = False)\n",
        "            for word in words:\n",
        "              per_row_list.append(word)\n",
        "            out.append(per_row_list)\n",
        "        corpus['cut'] = out\n",
        "        \n",
        "        return corpus\n",
        "\n",
        "  \n",
        "    \n",
        "    def _search_cut(self, corpus):\n",
        "        '''search mode\n",
        "        '''\n",
        "        \n",
        "        out = []\n",
        "        # hint:將讀進的文本進行斷詞，並將結果append回out的陣列中\n",
        "        for single_review in corpus[self.key_to_cut]:\n",
        "            ###<your code>###\n",
        "            per_row_list= []            \n",
        "            words = self.cut_single_sentence(sentence = single_review , use_paddle = False , use_full = False , use_search = True)\n",
        "            for word in words:\n",
        "              per_row_list.append(word)\n",
        "            out.append(per_row_list)       \n",
        "        corpus['cut'] = out\n",
        "        \n",
        "        return corpus"
      ],
      "execution_count": 30,
      "outputs": []
    },
    {
      "cell_type": "markdown",
      "metadata": {
        "id": "9KOjMICJrG_G"
      },
      "source": [
        "### 使用建構好的斷詞物件對文本進行斷詞"
      ]
    },
    {
      "cell_type": "code",
      "metadata": {
        "colab": {
          "base_uri": "https://localhost:8080/"
        },
        "id": "46CKbKho-Jo9",
        "outputId": "7663c664-502d-4bfd-e997-0d621bc30673"
      },
      "source": [
        "%cd ./drive/My Drive/NLP/day06/"
      ],
      "execution_count": 11,
      "outputs": [
        {
          "output_type": "stream",
          "text": [
            "/content/drive/My Drive/NLP/day06\n"
          ],
          "name": "stdout"
        }
      ]
    },
    {
      "cell_type": "code",
      "metadata": {
        "colab": {
          "base_uri": "https://localhost:8080/"
        },
        "id": "-vdCMYPD-VIY",
        "outputId": "b039e316-3e4f-466e-c4d5-a7ee68a594e1"
      },
      "source": [
        "!ls"
      ],
      "execution_count": 12,
      "outputs": [
        {
          "output_type": "stream",
          "text": [
            "ChnSentiCorp_htl_all.csv  Jieba_作業.ipynb  使用結巴進行斷詞.ipynb\n",
            "dict.txt.big\t\t  userdict.txt\n"
          ],
          "name": "stdout"
        }
      ]
    },
    {
      "cell_type": "code",
      "metadata": {
        "colab": {
          "base_uri": "https://localhost:8080/",
          "height": 299
        },
        "id": "9r7N7bCGrG_G",
        "outputId": "5b56459f-fd97-44cb-e02e-b2fa2c889b76"
      },
      "source": [
        "### 請使用精確模式與預設字典對文本進行斷詞\n",
        "\n",
        "# hint:請先實例化JiebaCutingClass，再進行斷詞\n",
        "###<your code>###\n",
        "jieba_cut = JiebaCutingClass(key_to_cut = 'review' , dic=None , userdict=None)\n",
        "###<your code>### #為了避免處理時間過久, 這裡我們只使用前50個進行斷詞\n",
        "pd_cut = jieba_cut.cut_corpus(pd_corpus.loc[:50, :], mode='precise')\n",
        "pd_cut.head()"
      ],
      "execution_count": 31,
      "outputs": [
        {
          "output_type": "stream",
          "text": [
            "Paddle enabled successfully......\n",
            "/usr/local/lib/python3.6/dist-packages/ipykernel_launcher.py:131: SettingWithCopyWarning: \n",
            "A value is trying to be set on a copy of a slice from a DataFrame.\n",
            "Try using .loc[row_indexer,col_indexer] = value instead\n",
            "\n",
            "See the caveats in the documentation: https://pandas.pydata.org/pandas-docs/stable/user_guide/indexing.html#returning-a-view-versus-a-copy\n"
          ],
          "name": "stderr"
        },
        {
          "output_type": "execute_result",
          "data": {
            "text/html": [
              "<div>\n",
              "<style scoped>\n",
              "    .dataframe tbody tr th:only-of-type {\n",
              "        vertical-align: middle;\n",
              "    }\n",
              "\n",
              "    .dataframe tbody tr th {\n",
              "        vertical-align: top;\n",
              "    }\n",
              "\n",
              "    .dataframe thead th {\n",
              "        text-align: right;\n",
              "    }\n",
              "</style>\n",
              "<table border=\"1\" class=\"dataframe\">\n",
              "  <thead>\n",
              "    <tr style=\"text-align: right;\">\n",
              "      <th></th>\n",
              "      <th>label</th>\n",
              "      <th>review</th>\n",
              "      <th>cut</th>\n",
              "    </tr>\n",
              "  </thead>\n",
              "  <tbody>\n",
              "    <tr>\n",
              "      <th>0</th>\n",
              "      <td>1</td>\n",
              "      <td>距离川沙公路较近,但是公交指示不对,如果是\"蔡陆线\"的话,会非常麻烦.建议用别的路线.房间较...</td>\n",
              "      <td>[距离, 川沙, 公路, 较近, ,, 但是, 公交, 指示, 不, 对, ,, 如果, 是...</td>\n",
              "    </tr>\n",
              "    <tr>\n",
              "      <th>1</th>\n",
              "      <td>1</td>\n",
              "      <td>商务大床房，房间很大，床有2M宽，整体感觉经济实惠不错!</td>\n",
              "      <td>[商务, 大床, 房, ，, 房间, 很大, ，, 床有, 2M, 宽, ，, 整体, 感觉...</td>\n",
              "    </tr>\n",
              "    <tr>\n",
              "      <th>2</th>\n",
              "      <td>1</td>\n",
              "      <td>早餐太差，无论去多少人，那边也不加食品的。酒店应该重视一下这个问题了。房间本身很好。</td>\n",
              "      <td>[早餐, 太, 差, ，, 无论, 去, 多少, 人, ，, 那边, 也, 不加, 食品, ...</td>\n",
              "    </tr>\n",
              "    <tr>\n",
              "      <th>3</th>\n",
              "      <td>1</td>\n",
              "      <td>宾馆在小街道上，不大好找，但还好北京热心同胞很多~宾馆设施跟介绍的差不多，房间很小，确实挺小...</td>\n",
              "      <td>[宾馆, 在, 小, 街道, 上, ，, 不大好, 找, ，, 但, 还好, 北京, 热心,...</td>\n",
              "    </tr>\n",
              "    <tr>\n",
              "      <th>4</th>\n",
              "      <td>1</td>\n",
              "      <td>CBD中心,周围没什么店铺,说5星有点勉强.不知道为什么卫生间没有电吹风</td>\n",
              "      <td>[CBD, 中心, ,, 周围, 没什么, 店铺, ,, 说, 5, 星, 有点, 勉强, ...</td>\n",
              "    </tr>\n",
              "  </tbody>\n",
              "</table>\n",
              "</div>"
            ],
            "text/plain": [
              "   label  ...                                                cut\n",
              "0      1  ...  [距离, 川沙, 公路, 较近, ,, 但是, 公交, 指示, 不, 对, ,, 如果, 是...\n",
              "1      1  ...  [商务, 大床, 房, ，, 房间, 很大, ，, 床有, 2M, 宽, ，, 整体, 感觉...\n",
              "2      1  ...  [早餐, 太, 差, ，, 无论, 去, 多少, 人, ，, 那边, 也, 不加, 食品, ...\n",
              "3      1  ...  [宾馆, 在, 小, 街道, 上, ，, 不大好, 找, ，, 但, 还好, 北京, 热心,...\n",
              "4      1  ...  [CBD, 中心, ,, 周围, 没什么, 店铺, ,, 说, 5, 星, 有点, 勉强, ...\n",
              "\n",
              "[5 rows x 3 columns]"
            ]
          },
          "metadata": {
            "tags": []
          },
          "execution_count": 31
        }
      ]
    },
    {
      "cell_type": "markdown",
      "metadata": {
        "id": "X45c4iqDrG_H"
      },
      "source": [
        "### 載入繁中字典為指定的字詞進行斷詞"
      ]
    },
    {
      "cell_type": "code",
      "metadata": {
        "colab": {
          "base_uri": "https://localhost:8080/"
        },
        "id": "MEhLMC1JrG_I",
        "outputId": "a31eda64-f48c-42c6-d83e-ee6f54d4567a"
      },
      "source": [
        "test_string = '我愛cupoy自然語言處理馬拉松課程'\n",
        "jieba_cut = JiebaCutingClass(key_to_cut='', dic='./dict.txt.big')\n",
        "\n",
        "\n",
        "out_string = jieba_cut.cut_single_sentence(sentence=test_string , use_paddle=True , use_full=False , use_search=False)\n",
        "print(f'Paddle模式: {[string for string in out_string]}')\n",
        "\n",
        "out_string = jieba_cut.cut_single_sentence(sentence=test_string , use_paddle=False , use_full=True , use_search=False)\n",
        "print(f'全模式: {[string for string in out_string]}')\n",
        "\n",
        "out_string = jieba_cut.cut_single_sentence(sentence=test_string , use_paddle=False , use_full=False , use_search=True)\n",
        "print(f'搜尋模式: {[string for string in out_string]}')\n",
        "\n",
        "out_string = jieba_cut.cut_single_sentence(sentence=test_string , use_paddle=False , use_full=False , use_search=False)\n",
        "print(f'精確模式: {[string for string in out_string]}')"
      ],
      "execution_count": 33,
      "outputs": [
        {
          "output_type": "stream",
          "text": [
            "Paddle enabled successfully......\n",
            "Building prefix dict from /content/drive/My Drive/NLP/day06/dict.txt.big ...\n",
            "Dumping model to file cache /tmp/jieba.u921c6bdde4d28799fbff8fbc6d2b99c9.cache\n",
            "Loading model cost 1.933 seconds.\n",
            "Prefix dict has been built successfully.\n"
          ],
          "name": "stderr"
        },
        {
          "output_type": "stream",
          "text": [
            "Paddle模式: ['我', '愛', 'cupoy', '自然語言', '處理', '馬拉松', '課程']\n",
            "全模式: ['我', '愛', 'cupoy', '自然', '自然語言', '語言', '處理', '馬拉', '馬拉松', '課程']\n",
            "搜尋模式: ['我', '愛', 'cupoy', '自然', '語言', '自然語言', '處理', '馬拉', '馬拉松', '課程']\n",
            "精確模式: ['我', '愛', 'cupoy', '自然語言', '處理', '馬拉松', '課程']\n"
          ],
          "name": "stdout"
        }
      ]
    }
  ]
}