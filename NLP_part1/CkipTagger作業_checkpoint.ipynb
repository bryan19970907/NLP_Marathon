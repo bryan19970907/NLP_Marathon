{
  "nbformat": 4,
  "nbformat_minor": 0,
  "metadata": {
    "kernelspec": {
      "display_name": "cupoy_env",
      "language": "python",
      "name": "cupoy_env"
    },
    "language_info": {
      "codemirror_mode": {
        "name": "ipython",
        "version": 3
      },
      "file_extension": ".py",
      "mimetype": "text/x-python",
      "name": "python",
      "nbconvert_exporter": "python",
      "pygments_lexer": "ipython3",
      "version": "3.7.3"
    },
    "colab": {
      "name": "CkipTagger作業-checkpoint.ipynb",
      "provenance": [],
      "collapsed_sections": [
        "ulViBQqymseL"
      ]
    },
    "accelerator": "GPU"
  },
  "cells": [
    {
      "cell_type": "markdown",
      "metadata": {
        "id": "ulViBQqymseL"
      },
      "source": [
        "### 作業目標: 使用Jieba進行各項的斷詞操作"
      ]
    },
    {
      "cell_type": "markdown",
      "metadata": {
        "id": "EPbVDekemseZ"
      },
      "source": [
        "### Import 所需 libraries"
      ]
    },
    {
      "cell_type": "code",
      "metadata": {
        "id": "bYE9xCq7xlkl",
        "colab": {
          "base_uri": "https://localhost:8080/"
        },
        "outputId": "0b54a6f9-f784-4dad-9407-b64b198935f0"
      },
      "source": [
        "from google.colab import drive\r\n",
        "drive.mount('/content/drive')"
      ],
      "execution_count": 1,
      "outputs": [
        {
          "output_type": "stream",
          "text": [
            "Mounted at /content/drive\n"
          ],
          "name": "stdout"
        }
      ]
    },
    {
      "cell_type": "code",
      "metadata": {
        "id": "qBLcsk5SxsCs",
        "colab": {
          "base_uri": "https://localhost:8080/"
        },
        "outputId": "e82652cd-0099-4e35-f3b2-950dfd064bec"
      },
      "source": [
        "!pip install -U ckiptagger[gdown]"
      ],
      "execution_count": 2,
      "outputs": [
        {
          "output_type": "stream",
          "text": [
            "Collecting ckiptagger[gdown]\n",
            "  Downloading https://files.pythonhosted.org/packages/6b/bc/5cbf8d019167d5e5e1775069fb8b71a08691ab847e2926bbe7dee9a19010/ckiptagger-0.2.1-py3-none-any.whl\n",
            "Requirement already satisfied, skipping upgrade: gdown; extra == \"gdown\" in /usr/local/lib/python3.6/dist-packages (from ckiptagger[gdown]) (3.6.4)\n",
            "Requirement already satisfied, skipping upgrade: requests in /usr/local/lib/python3.6/dist-packages (from gdown; extra == \"gdown\"->ckiptagger[gdown]) (2.23.0)\n",
            "Requirement already satisfied, skipping upgrade: tqdm in /usr/local/lib/python3.6/dist-packages (from gdown; extra == \"gdown\"->ckiptagger[gdown]) (4.41.1)\n",
            "Requirement already satisfied, skipping upgrade: six in /usr/local/lib/python3.6/dist-packages (from gdown; extra == \"gdown\"->ckiptagger[gdown]) (1.15.0)\n",
            "Requirement already satisfied, skipping upgrade: urllib3!=1.25.0,!=1.25.1,<1.26,>=1.21.1 in /usr/local/lib/python3.6/dist-packages (from requests->gdown; extra == \"gdown\"->ckiptagger[gdown]) (1.24.3)\n",
            "Requirement already satisfied, skipping upgrade: idna<3,>=2.5 in /usr/local/lib/python3.6/dist-packages (from requests->gdown; extra == \"gdown\"->ckiptagger[gdown]) (2.10)\n",
            "Requirement already satisfied, skipping upgrade: certifi>=2017.4.17 in /usr/local/lib/python3.6/dist-packages (from requests->gdown; extra == \"gdown\"->ckiptagger[gdown]) (2020.12.5)\n",
            "Requirement already satisfied, skipping upgrade: chardet<4,>=3.0.2 in /usr/local/lib/python3.6/dist-packages (from requests->gdown; extra == \"gdown\"->ckiptagger[gdown]) (3.0.4)\n",
            "Installing collected packages: ckiptagger\n",
            "Successfully installed ckiptagger-0.2.1\n"
          ],
          "name": "stdout"
        }
      ]
    },
    {
      "cell_type": "code",
      "metadata": {
        "id": "NP9EAXurx9Ui",
        "colab": {
          "base_uri": "https://localhost:8080/"
        },
        "outputId": "ded7bfab-eef7-4c34-8633-2e67cbf1d1fe"
      },
      "source": [
        "%cd './drive/My Drive/NLP/day07'"
      ],
      "execution_count": 3,
      "outputs": [
        {
          "output_type": "stream",
          "text": [
            "/content/drive/My Drive/NLP/day07\n"
          ],
          "name": "stdout"
        }
      ]
    },
    {
      "cell_type": "code",
      "metadata": {
        "id": "C9g83xcYmsea"
      },
      "source": [
        "#導入所需libraries\n",
        "#請import 1.可用於下載權重的library 2.建構自定義字典的library 3.斷詞, 詞性標注,與命名實體辨識libries\n",
        "###<your code>###\n",
        "from ckiptagger import WS , POS , NER\n",
        "from ckiptagger import construct_dictionary\n",
        "\n",
        "#請對下列文本字串進行斷詞, 詞性標注, 命名實體識別\n",
        "\n",
        "sentence_list = [\n",
        "    \"傅達仁今將執行安樂死，卻突然爆出自己20年前遭緯來體育台封殺，他不懂自己哪裡得罪到電視台。\",\n",
        "    \"美國參議院針對今天總統布什所提名的勞工部長趙小蘭展開認可聽證會，預料她將會很順利通過參議院支持，成為該國有史以來第一位的華裔女性內閣成員。\",\n",
        "    \"\",\n",
        "    \"土地公有政策?？還是土地婆有政策。.\",\n",
        "    \"… 你確定嗎… 不要再騙了……\",\n",
        "    \"最多容納59,000個人,或5.9萬人,再多就不行了.這是環評的結論.\",\n",
        "    \"科長說:1,坪數對人數為1:3。2,可以再增加。\",\n",
        "]"
      ],
      "execution_count": 4,
      "outputs": []
    },
    {
      "cell_type": "markdown",
      "metadata": {
        "id": "p-7x2F9amseb"
      },
      "source": [
        "### 進行斷詞, 詞性標注, 與命名實體識別"
      ]
    },
    {
      "cell_type": "code",
      "metadata": {
        "scrolled": true,
        "id": "ZHoGq0Q6msec",
        "colab": {
          "base_uri": "https://localhost:8080/"
        },
        "outputId": "628ba397-db9a-41b1-a6b3-78aa8439aaa6"
      },
      "source": [
        "#創建實例\n",
        "###<your code>###\n",
        "ws = WS('./data')\n",
        "pos = POS('./data')\n",
        "ner = NER('./data')\n",
        "#斷詞\n",
        "###<your code>###\n",
        "word_s = ws(sentence_list , sentence_segmentation=True)\n",
        "print(f'斷詞輸出: {word_s}')\n",
        "print('\\n')\n",
        "\n",
        "#詞性標注\n",
        "###<your code>###\n",
        "word_p = pos(word_s)\n",
        "print(f'詞性標注輸出: {word_p}')\n",
        "print('\\n')\n",
        "\n",
        "#命名實體識別\n",
        "###<your code>###\n",
        "word_n = ner(word_s , word_p)\n",
        "print(f'命名實體識別輸出: {word_n}')"
      ],
      "execution_count": 5,
      "outputs": [
        {
          "output_type": "stream",
          "text": [
            "斷詞輸出: [['傅達仁', '今', '將', '執行', '安樂死', '，', '卻', '突然', '爆出', '自己', '20', '年', '前', '遭', '緯來', '體育台', '封殺', '，', '他', '不', '懂', '自己', '哪裡', '得罪到', '電視台', '。'], ['美國', '參議院', '針對', '今天', '總統', '布什', '所', '提名', '的', '勞工部長', '趙小蘭', '展開', '認可', '聽證會', '，', '預料', '她', '將', '會', '很', '順利', '通過', '參議院', '支持', '，', '成為', '該', '國', '有史以來', '第一', '位', '的', '華裔', '女性', '內閣', '成員', '。'], [], ['土地公', '有', '政策', '?', '？', '還是', '土地', '婆', '有', '政策', '。', '.'], ['…', ' ', '你', '確定', '嗎', '…', ' ', '不要', '再', '騙', '了', '…', '…'], ['最多', '容納', '59', ',', '000', '個', '人', ',', '或', '5.9萬', '人', ',', '再', '多', '就', '不行', '了', '.', '這', '是', '環評', '的', '結論', '.'], ['科長', '說', ':', '1', ',', '坪數', '對', '人數', '為', '1', ':', '3', '。', '2', ',', '可以', '再', '增加', '。']]\n",
            "\n",
            "\n",
            "詞性標注輸出: [['Nb', 'Nd', 'D', 'VC', 'Na', 'COMMACATEGORY', 'D', 'D', 'VJ', 'Nh', 'Neu', 'Nf', 'Ng', 'P', 'Nb', 'Na', 'VC', 'COMMACATEGORY', 'Nh', 'D', 'VK', 'Nh', 'Ncd', 'VJ', 'Nc', 'PERIODCATEGORY'], ['Nc', 'Nc', 'P', 'Nd', 'Na', 'Nb', 'D', 'VC', 'DE', 'Na', 'Nb', 'VC', 'VC', 'Na', 'COMMACATEGORY', 'VE', 'Nh', 'D', 'D', 'Dfa', 'VH', 'VC', 'Nc', 'VC', 'COMMACATEGORY', 'VG', 'Nes', 'Nc', 'D', 'Neu', 'Nf', 'DE', 'Na', 'Na', 'Na', 'Na', 'PERIODCATEGORY'], [], ['Nb', 'V_2', 'Na', 'QUESTIONCATEGORY', 'QUESTIONCATEGORY', 'Caa', 'Na', 'Na', 'V_2', 'Na', 'PERIODCATEGORY', 'PERIODCATEGORY'], ['ETCCATEGORY', 'WHITESPACE', 'Nh', 'VK', 'T', 'ETCCATEGORY', 'WHITESPACE', 'D', 'D', 'VC', 'Di', 'ETCCATEGORY', 'ETCCATEGORY'], ['VH', 'VJ', 'Neu', 'COMMACATEGORY', 'Neu', 'Nf', 'Na', 'COMMACATEGORY', 'Caa', 'Neu', 'Na', 'COMMACATEGORY', 'D', 'D', 'D', 'VH', 'T', 'PERIODCATEGORY', 'Nep', 'SHI', 'Na', 'DE', 'Na', 'PERIODCATEGORY'], ['Na', 'VE', 'COLONCATEGORY', 'Neu', 'COMMACATEGORY', 'Na', 'P', 'Na', 'VG', 'Neu', 'COLONCATEGORY', 'Neu', 'PERIODCATEGORY', 'Neu', 'COMMACATEGORY', 'D', 'D', 'VHC', 'PERIODCATEGORY']]\n",
            "\n",
            "\n",
            "命名實體識別輸出: [{(18, 22, 'DATE', '20年前'), (0, 3, 'PERSON', '傅達仁'), (23, 28, 'ORG', '緯來體育台')}, {(2, 5, 'ORG', '參議院'), (0, 2, 'GPE', '美國'), (56, 58, 'ORDINAL', '第一'), (17, 21, 'ORG', '勞工部長'), (60, 62, 'NORP', '華裔'), (7, 9, 'DATE', '今天'), (42, 45, 'ORG', '參議院'), (11, 13, 'PERSON', '布什'), (21, 24, 'PERSON', '趙小蘭')}, set(), {(0, 3, 'PERSON', '土地公')}, set(), {(14, 18, 'CARDINAL', '5.9萬'), (4, 6, 'CARDINAL', '59'), (7, 10, 'CARDINAL', '000')}, {(14, 15, 'CARDINAL', '3'), (4, 5, 'CARDINAL', '1'), (12, 13, 'CARDINAL', '1'), (16, 17, 'CARDINAL', '2')}]\n"
          ],
          "name": "stdout"
        }
      ]
    },
    {
      "cell_type": "code",
      "metadata": {
        "id": "G5m7mA9vmsee",
        "colab": {
          "base_uri": "https://localhost:8080/"
        },
        "outputId": "96ca524b-ab26-4d5b-df7c-4f7c5df1166a"
      },
      "source": [
        "#合併顯示輸出結果\n",
        "def combine_wandp(word_s, word_p):\n",
        "    assert len(word_s) == len(word_p)\n",
        "    \n",
        "    ###<your code>###\n",
        "    for word_s_item , word_p_item in zip(word_s , word_p):\n",
        "      print(f'{word_s_item}({word_p_item}) ')\n",
        "\n",
        "for i, sentence in enumerate(sentence_list):\n",
        "    print(f'Input sentence: \\n {sentence}')\n",
        "    print('\\n')\n",
        "    \n",
        "    print(f'Segmentation with PoS: \\n')\n",
        "    ###<your code>###\n",
        "    # 使用ws或pos時，返回的是list of list，所以如果函數傳入的是ws(sentence)的結果，會造成函數印出\"[]\"\"\n",
        "    # ws裡面的sentence list參數必須要是一個list，若是單純的string，則會切割成單詞\n",
        "    combine_wandp( word_s[i] , word_p[i] )\n",
        "\n",
        "    print ('\\n')\n",
        "    print('Named Entity Recognition:')\n",
        "    for n in sorted(word_n[i]):\n",
        "        print(n)\n",
        "    print('\\n')\n"
      ],
      "execution_count": 6,
      "outputs": [
        {
          "output_type": "stream",
          "text": [
            "Input sentence: \n",
            " 傅達仁今將執行安樂死，卻突然爆出自己20年前遭緯來體育台封殺，他不懂自己哪裡得罪到電視台。\n",
            "\n",
            "\n",
            "Segmentation with PoS: \n",
            "\n",
            "傅達仁(Nb) \n",
            "今(Nd) \n",
            "將(D) \n",
            "執行(VC) \n",
            "安樂死(Na) \n",
            "，(COMMACATEGORY) \n",
            "卻(D) \n",
            "突然(D) \n",
            "爆出(VJ) \n",
            "自己(Nh) \n",
            "20(Neu) \n",
            "年(Nf) \n",
            "前(Ng) \n",
            "遭(P) \n",
            "緯來(Nb) \n",
            "體育台(Na) \n",
            "封殺(VC) \n",
            "，(COMMACATEGORY) \n",
            "他(Nh) \n",
            "不(D) \n",
            "懂(VK) \n",
            "自己(Nh) \n",
            "哪裡(Ncd) \n",
            "得罪到(VJ) \n",
            "電視台(Nc) \n",
            "。(PERIODCATEGORY) \n",
            "\n",
            "\n",
            "Named Entity Recognition:\n",
            "(0, 3, 'PERSON', '傅達仁')\n",
            "(18, 22, 'DATE', '20年前')\n",
            "(23, 28, 'ORG', '緯來體育台')\n",
            "\n",
            "\n",
            "Input sentence: \n",
            " 美國參議院針對今天總統布什所提名的勞工部長趙小蘭展開認可聽證會，預料她將會很順利通過參議院支持，成為該國有史以來第一位的華裔女性內閣成員。\n",
            "\n",
            "\n",
            "Segmentation with PoS: \n",
            "\n",
            "美國(Nc) \n",
            "參議院(Nc) \n",
            "針對(P) \n",
            "今天(Nd) \n",
            "總統(Na) \n",
            "布什(Nb) \n",
            "所(D) \n",
            "提名(VC) \n",
            "的(DE) \n",
            "勞工部長(Na) \n",
            "趙小蘭(Nb) \n",
            "展開(VC) \n",
            "認可(VC) \n",
            "聽證會(Na) \n",
            "，(COMMACATEGORY) \n",
            "預料(VE) \n",
            "她(Nh) \n",
            "將(D) \n",
            "會(D) \n",
            "很(Dfa) \n",
            "順利(VH) \n",
            "通過(VC) \n",
            "參議院(Nc) \n",
            "支持(VC) \n",
            "，(COMMACATEGORY) \n",
            "成為(VG) \n",
            "該(Nes) \n",
            "國(Nc) \n",
            "有史以來(D) \n",
            "第一(Neu) \n",
            "位(Nf) \n",
            "的(DE) \n",
            "華裔(Na) \n",
            "女性(Na) \n",
            "內閣(Na) \n",
            "成員(Na) \n",
            "。(PERIODCATEGORY) \n",
            "\n",
            "\n",
            "Named Entity Recognition:\n",
            "(0, 2, 'GPE', '美國')\n",
            "(2, 5, 'ORG', '參議院')\n",
            "(7, 9, 'DATE', '今天')\n",
            "(11, 13, 'PERSON', '布什')\n",
            "(17, 21, 'ORG', '勞工部長')\n",
            "(21, 24, 'PERSON', '趙小蘭')\n",
            "(42, 45, 'ORG', '參議院')\n",
            "(56, 58, 'ORDINAL', '第一')\n",
            "(60, 62, 'NORP', '華裔')\n",
            "\n",
            "\n",
            "Input sentence: \n",
            " \n",
            "\n",
            "\n",
            "Segmentation with PoS: \n",
            "\n",
            "\n",
            "\n",
            "Named Entity Recognition:\n",
            "\n",
            "\n",
            "Input sentence: \n",
            " 土地公有政策?？還是土地婆有政策。.\n",
            "\n",
            "\n",
            "Segmentation with PoS: \n",
            "\n",
            "土地公(Nb) \n",
            "有(V_2) \n",
            "政策(Na) \n",
            "?(QUESTIONCATEGORY) \n",
            "？(QUESTIONCATEGORY) \n",
            "還是(Caa) \n",
            "土地(Na) \n",
            "婆(Na) \n",
            "有(V_2) \n",
            "政策(Na) \n",
            "。(PERIODCATEGORY) \n",
            ".(PERIODCATEGORY) \n",
            "\n",
            "\n",
            "Named Entity Recognition:\n",
            "(0, 3, 'PERSON', '土地公')\n",
            "\n",
            "\n",
            "Input sentence: \n",
            " … 你確定嗎… 不要再騙了……\n",
            "\n",
            "\n",
            "Segmentation with PoS: \n",
            "\n",
            "…(ETCCATEGORY) \n",
            " (WHITESPACE) \n",
            "你(Nh) \n",
            "確定(VK) \n",
            "嗎(T) \n",
            "…(ETCCATEGORY) \n",
            " (WHITESPACE) \n",
            "不要(D) \n",
            "再(D) \n",
            "騙(VC) \n",
            "了(Di) \n",
            "…(ETCCATEGORY) \n",
            "…(ETCCATEGORY) \n",
            "\n",
            "\n",
            "Named Entity Recognition:\n",
            "\n",
            "\n",
            "Input sentence: \n",
            " 最多容納59,000個人,或5.9萬人,再多就不行了.這是環評的結論.\n",
            "\n",
            "\n",
            "Segmentation with PoS: \n",
            "\n",
            "最多(VH) \n",
            "容納(VJ) \n",
            "59(Neu) \n",
            ",(COMMACATEGORY) \n",
            "000(Neu) \n",
            "個(Nf) \n",
            "人(Na) \n",
            ",(COMMACATEGORY) \n",
            "或(Caa) \n",
            "5.9萬(Neu) \n",
            "人(Na) \n",
            ",(COMMACATEGORY) \n",
            "再(D) \n",
            "多(D) \n",
            "就(D) \n",
            "不行(VH) \n",
            "了(T) \n",
            ".(PERIODCATEGORY) \n",
            "這(Nep) \n",
            "是(SHI) \n",
            "環評(Na) \n",
            "的(DE) \n",
            "結論(Na) \n",
            ".(PERIODCATEGORY) \n",
            "\n",
            "\n",
            "Named Entity Recognition:\n",
            "(4, 6, 'CARDINAL', '59')\n",
            "(7, 10, 'CARDINAL', '000')\n",
            "(14, 18, 'CARDINAL', '5.9萬')\n",
            "\n",
            "\n",
            "Input sentence: \n",
            " 科長說:1,坪數對人數為1:3。2,可以再增加。\n",
            "\n",
            "\n",
            "Segmentation with PoS: \n",
            "\n",
            "科長(Na) \n",
            "說(VE) \n",
            ":(COLONCATEGORY) \n",
            "1(Neu) \n",
            ",(COMMACATEGORY) \n",
            "坪數(Na) \n",
            "對(P) \n",
            "人數(Na) \n",
            "為(VG) \n",
            "1(Neu) \n",
            ":(COLONCATEGORY) \n",
            "3(Neu) \n",
            "。(PERIODCATEGORY) \n",
            "2(Neu) \n",
            ",(COMMACATEGORY) \n",
            "可以(D) \n",
            "再(D) \n",
            "增加(VHC) \n",
            "。(PERIODCATEGORY) \n",
            "\n",
            "\n",
            "Named Entity Recognition:\n",
            "(4, 5, 'CARDINAL', '1')\n",
            "(12, 13, 'CARDINAL', '1')\n",
            "(14, 15, 'CARDINAL', '3')\n",
            "(16, 17, 'CARDINAL', '2')\n",
            "\n",
            "\n"
          ],
          "name": "stdout"
        }
      ]
    },
    {
      "cell_type": "markdown",
      "metadata": {
        "id": "BHZNh_lGmsef"
      },
      "source": [
        "### 帶入自定義字典\n",
        "\n",
        "觀察上面的輸出發現，斷詞結果將`年前`斷為`年`、`前`, 請使用自定義字典使斷詞結果依然維持為`年前`"
      ]
    },
    {
      "cell_type": "code",
      "metadata": {
        "id": "7DrVNHgCmseg",
        "colab": {
          "base_uri": "https://localhost:8080/"
        },
        "outputId": "dd67db53-5ad9-4066-dfd4-644ed5d4f93c"
      },
      "source": [
        "#定義字典\n",
        "###<your code>###\n",
        "word_to_weight = {\n",
        "    \"年前\": 1\n",
        "}\n",
        "dictionary = construct_dictionary(word_to_weight)\n",
        "\n",
        "#帶入自定義字典進行斷詞\n",
        "ws = WS(\"./data\") #建構斷詞\n",
        "\n",
        "input_traditional_str = [\"傅達仁今將執行安樂死，卻突然爆出自己20年前遭緯來體育台封殺，他不懂自己哪裡得罪到電視台。\"]\n",
        "\n",
        "###<your code>###\n",
        "# 位置參數必須寫在關鍵字參數的前面\n",
        "word_sentence_list = ws(input_traditional_str , sentence_segmentation = True , recommend_dictionary = dictionary , coerce_dictionary = dictionary)\n",
        "\n",
        "print(word_sentence_list)\n"
      ],
      "execution_count": 7,
      "outputs": [
        {
          "output_type": "stream",
          "text": [
            "[['傅達仁', '今', '將', '執行', '安樂死', '，', '卻', '突然', '爆出', '自己', '20', '年前', '遭', '緯來', '體育台', '封殺', '，', '他', '不', '懂', '自己', '哪裡', '得罪到', '電視台', '。']]\n"
          ],
          "name": "stdout"
        }
      ]
    }
  ]
}