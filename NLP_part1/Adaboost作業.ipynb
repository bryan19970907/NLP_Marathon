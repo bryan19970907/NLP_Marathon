{
  "nbformat": 4,
  "nbformat_minor": 0,
  "metadata": {
    "kernelspec": {
      "display_name": "pytorch_env",
      "language": "python",
      "name": "pytorch_env"
    },
    "language_info": {
      "codemirror_mode": {
        "name": "ipython",
        "version": 3
      },
      "file_extension": ".py",
      "mimetype": "text/x-python",
      "name": "python",
      "nbconvert_exporter": "python",
      "pygments_lexer": "ipython3",
      "version": "3.7.3"
    },
    "colab": {
      "name": "Adaboost作業.ipynb",
      "provenance": [],
      "collapsed_sections": []
    }
  },
  "cells": [
    {
      "cell_type": "markdown",
      "metadata": {
        "id": "MUiHTtr9I-RC"
      },
      "source": [
        "### 作業目的:了解Ensemble中的Blending與Stacking"
      ]
    },
    {
      "cell_type": "markdown",
      "metadata": {
        "id": "NPcifG2iI-RR"
      },
      "source": [
        "### Question: 請描述Blending與Stacking的差異\n",
        "\n",
        "Answer:\n",
        "Blending它在訓練基礎模型base model的時候，並沒有使用kfold方法(Stacking使用了Kfold)，而是拿了一部分數據，比如說20%的數據，這部分數據不加入基礎模型的訓練，而是在基礎模型都訓練好了以後，去預測這部分沒有參與訓練的數據得到預測機率，然後以各個模型的預測機率作為最終模型的特徵。\n"
      ]
    },
    {
      "cell_type": "code",
      "metadata": {
        "id": "oHlgw2qBI-RT"
      },
      "source": [
        "#https://medium.com/@stevenyu530_73989/stacking-and-blending-intuitive-explanation-of-advanced-ensemble-methods-46b295da413c"
      ],
      "execution_count": null,
      "outputs": []
    }
  ]
}