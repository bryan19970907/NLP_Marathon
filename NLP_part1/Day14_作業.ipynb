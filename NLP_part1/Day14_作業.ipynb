{
  "nbformat": 4,
  "nbformat_minor": 0,
  "metadata": {
    "kernelspec": {
      "display_name": "Python 3",
      "language": "python",
      "name": "python3"
    },
    "language_info": {
      "codemirror_mode": {
        "name": "ipython",
        "version": 3
      },
      "file_extension": ".py",
      "mimetype": "text/x-python",
      "name": "python",
      "nbconvert_exporter": "python",
      "pygments_lexer": "ipython3",
      "version": "3.7.4"
    },
    "colab": {
      "name": "Day14_作業.ipynb",
      "provenance": [],
      "collapsed_sections": []
    }
  },
  "cells": [
    {
      "cell_type": "markdown",
      "metadata": {
        "id": "dFoweAWEuPzW"
      },
      "source": [
        "## 本日課程-文字預處理，部分內容前面章節可能提過，這裡會將前處理所需技巧串起"
      ]
    },
    {
      "cell_type": "code",
      "metadata": {
        "colab": {
          "base_uri": "https://localhost:8080/"
        },
        "id": "YBdLnEkxN2Do",
        "outputId": "d53a50a3-dea8-48c8-9a39-390428f6b53c"
      },
      "source": [
        "from google.colab import drive\r\n",
        "drive.mount('/content/drive')"
      ],
      "execution_count": 1,
      "outputs": [
        {
          "output_type": "stream",
          "text": [
            "Drive already mounted at /content/drive; to attempt to forcibly remount, call drive.mount(\"/content/drive\", force_remount=True).\n"
          ],
          "name": "stdout"
        }
      ]
    },
    {
      "cell_type": "code",
      "metadata": {
        "colab": {
          "base_uri": "https://localhost:8080/"
        },
        "id": "S8WIuwP0N7Xp",
        "outputId": "7aa8c2f1-9219-4b2d-f5e4-e28ddee894b0"
      },
      "source": [
        "%cd './drive/My Drive/NLP/day14'"
      ],
      "execution_count": 2,
      "outputs": [
        {
          "output_type": "stream",
          "text": [
            "/content/drive/My Drive/NLP/day14\n"
          ],
          "name": "stdout"
        }
      ]
    },
    {
      "cell_type": "code",
      "metadata": {
        "id": "gOr2ogEcuPzn"
      },
      "source": [
        "import numpy as np \n",
        "import pandas as pd\n",
        "import matplotlib.pyplot as plt\n",
        "from sklearn.metrics import confusion_matrix\n",
        "from nltk.corpus import stopwords\n",
        "#tsv是指用tab分開字元的檔案\n",
        "dataset=pd.read_csv('movie_feedback.csv', header=None, encoding='Big5')\n",
        "X = dataset[0].values\n",
        "Y = dataset[1].values"
      ],
      "execution_count": 3,
      "outputs": []
    },
    {
      "cell_type": "code",
      "metadata": {
        "colab": {
          "base_uri": "https://localhost:8080/",
          "height": 405
        },
        "id": "ygv9gHkXuPzp",
        "outputId": "6f8a67d8-3f76-4c7b-edec-cdf45e6b33a7"
      },
      "source": [
        "dataset"
      ],
      "execution_count": 4,
      "outputs": [
        {
          "output_type": "execute_result",
          "data": {
            "text/html": [
              "<div>\n",
              "<style scoped>\n",
              "    .dataframe tbody tr th:only-of-type {\n",
              "        vertical-align: middle;\n",
              "    }\n",
              "\n",
              "    .dataframe tbody tr th {\n",
              "        vertical-align: top;\n",
              "    }\n",
              "\n",
              "    .dataframe thead th {\n",
              "        text-align: right;\n",
              "    }\n",
              "</style>\n",
              "<table border=\"1\" class=\"dataframe\">\n",
              "  <thead>\n",
              "    <tr style=\"text-align: right;\">\n",
              "      <th></th>\n",
              "      <th>0</th>\n",
              "      <th>1</th>\n",
              "    </tr>\n",
              "  </thead>\n",
              "  <tbody>\n",
              "    <tr>\n",
              "      <th>0</th>\n",
              "      <td>the rock is destined to be the 21st century's ...</td>\n",
              "      <td>1</td>\n",
              "    </tr>\n",
              "    <tr>\n",
              "      <th>1</th>\n",
              "      <td>the gorgeously elaborate continuation of \" the...</td>\n",
              "      <td>1</td>\n",
              "    </tr>\n",
              "    <tr>\n",
              "      <th>2</th>\n",
              "      <td>effective but too-tepid biopic</td>\n",
              "      <td>1</td>\n",
              "    </tr>\n",
              "    <tr>\n",
              "      <th>3</th>\n",
              "      <td>if you sometimes like to go to the movies to h...</td>\n",
              "      <td>1</td>\n",
              "    </tr>\n",
              "    <tr>\n",
              "      <th>4</th>\n",
              "      <td>emerges as something rare , an issue movie tha...</td>\n",
              "      <td>1</td>\n",
              "    </tr>\n",
              "    <tr>\n",
              "      <th>...</th>\n",
              "      <td>...</td>\n",
              "      <td>...</td>\n",
              "    </tr>\n",
              "    <tr>\n",
              "      <th>10657</th>\n",
              "      <td>a terrible movie that some people will neverth...</td>\n",
              "      <td>0</td>\n",
              "    </tr>\n",
              "    <tr>\n",
              "      <th>10658</th>\n",
              "      <td>there are many definitions of 'time waster' bu...</td>\n",
              "      <td>0</td>\n",
              "    </tr>\n",
              "    <tr>\n",
              "      <th>10659</th>\n",
              "      <td>as it stands , crocodile hunter has the hurrie...</td>\n",
              "      <td>0</td>\n",
              "    </tr>\n",
              "    <tr>\n",
              "      <th>10660</th>\n",
              "      <td>the thing looks like a made-for-home-video qui...</td>\n",
              "      <td>0</td>\n",
              "    </tr>\n",
              "    <tr>\n",
              "      <th>10661</th>\n",
              "      <td>enigma is well-made , but it's just too dry an...</td>\n",
              "      <td>0</td>\n",
              "    </tr>\n",
              "  </tbody>\n",
              "</table>\n",
              "<p>10662 rows × 2 columns</p>\n",
              "</div>"
            ],
            "text/plain": [
              "                                                       0  1\n",
              "0      the rock is destined to be the 21st century's ...  1\n",
              "1      the gorgeously elaborate continuation of \" the...  1\n",
              "2                         effective but too-tepid biopic  1\n",
              "3      if you sometimes like to go to the movies to h...  1\n",
              "4      emerges as something rare , an issue movie tha...  1\n",
              "...                                                  ... ..\n",
              "10657  a terrible movie that some people will neverth...  0\n",
              "10658  there are many definitions of 'time waster' bu...  0\n",
              "10659  as it stands , crocodile hunter has the hurrie...  0\n",
              "10660  the thing looks like a made-for-home-video qui...  0\n",
              "10661  enigma is well-made , but it's just too dry an...  0\n",
              "\n",
              "[10662 rows x 2 columns]"
            ]
          },
          "metadata": {
            "tags": []
          },
          "execution_count": 4
        }
      ]
    },
    {
      "cell_type": "markdown",
      "metadata": {
        "id": "LoCAoWisuPzr"
      },
      "source": [
        "---"
      ]
    },
    {
      "cell_type": "code",
      "metadata": {
        "colab": {
          "base_uri": "https://localhost:8080/"
        },
        "id": "7Mizr3xDuPzs",
        "outputId": "d463bb4a-4201-4c61-f311-c3c0b684a7d5"
      },
      "source": [
        "print('review before preprocessing : {}'.format(X[0]))"
      ],
      "execution_count": 5,
      "outputs": [
        {
          "output_type": "stream",
          "text": [
            "review before preprocessing : the rock is destined to be the 21st century's new \" conan \" and that he's going to make a splash even greater than arnold schwarzenegger , jean-claud van damme or steven segal . \n"
          ],
          "name": "stdout"
        }
      ]
    },
    {
      "cell_type": "markdown",
      "metadata": {
        "id": "IG2WMsp2uPzu"
      },
      "source": [
        "## 運用re.sub去除部分字元"
      ]
    },
    {
      "cell_type": "code",
      "metadata": {
        "id": "k-G9lobduPzv"
      },
      "source": [
        "import re \n",
        "# 去除a-zA-Z以外的字元，並將他們取代為空格' '\n",
        "review=re.sub('[^a-zA-Z]+',' ',X[0])"
      ],
      "execution_count": 6,
      "outputs": []
    },
    {
      "cell_type": "code",
      "metadata": {
        "colab": {
          "base_uri": "https://localhost:8080/"
        },
        "id": "HCZr6U4muPzw",
        "outputId": "8c711a2f-ada8-4136-9675-5daf8932b1c7"
      },
      "source": [
        "print('review after re.sub : {}'.format(review))"
      ],
      "execution_count": 7,
      "outputs": [
        {
          "output_type": "stream",
          "text": [
            "review after re.sub : the rock is destined to be the st century s new conan and that he s going to make a splash even greater than arnold schwarzenegger jean claud van damme or steven segal \n"
          ],
          "name": "stdout"
        }
      ]
    },
    {
      "cell_type": "markdown",
      "metadata": {
        "id": "SPbt3RYcuPzw"
      },
      "source": [
        "## 將所有字母轉為小寫:因為大部分情境區分大小寫並不能提供而外訊息，如CV內顏色無法提供額外訊息時我們會將圖像轉為灰階，藉此降低複雜度"
      ]
    },
    {
      "cell_type": "code",
      "metadata": {
        "colab": {
          "base_uri": "https://localhost:8080/"
        },
        "id": "o-sG65jwuPzx",
        "outputId": "30d21a6d-b5e5-4785-9273-1c94e244baaa"
      },
      "source": [
        "#把全部變成小寫\n",
        "review=review.lower()\n",
        "print('review after lower : {}'.format(review))"
      ],
      "execution_count": 8,
      "outputs": [
        {
          "output_type": "stream",
          "text": [
            "review after lower : the rock is destined to be the st century s new conan and that he s going to make a splash even greater than arnold schwarzenegger jean claud van damme or steven segal \n"
          ],
          "name": "stdout"
        }
      ]
    },
    {
      "cell_type": "markdown",
      "metadata": {
        "id": "ZLR6s0YwuPzx"
      },
      "source": [
        "## 斷詞"
      ]
    },
    {
      "cell_type": "code",
      "metadata": {
        "colab": {
          "base_uri": "https://localhost:8080/"
        },
        "id": "us68gNy_uPzy",
        "outputId": "fcd613c7-64af-4402-a5d0-9bd963d7b7f4"
      },
      "source": [
        "import nltk\n",
        "#把review裡面的單字切開\n",
        "print('review after split : {}'.format(review.split()))"
      ],
      "execution_count": 9,
      "outputs": [
        {
          "output_type": "stream",
          "text": [
            "review after split : ['the', 'rock', 'is', 'destined', 'to', 'be', 'the', 'st', 'century', 's', 'new', 'conan', 'and', 'that', 'he', 's', 'going', 'to', 'make', 'a', 'splash', 'even', 'greater', 'than', 'arnold', 'schwarzenegger', 'jean', 'claud', 'van', 'damme', 'or', 'steven', 'segal']\n"
          ],
          "name": "stdout"
        }
      ]
    },
    {
      "cell_type": "code",
      "metadata": {
        "colab": {
          "base_uri": "https://localhost:8080/"
        },
        "id": "y_A40ArIPgEe",
        "outputId": "9cf99df7-6432-446e-8848-0d0a81647032"
      },
      "source": [
        "#punkt\r\n",
        "nltk.download('punkt')"
      ],
      "execution_count": 10,
      "outputs": [
        {
          "output_type": "stream",
          "text": [
            "[nltk_data] Downloading package punkt to /root/nltk_data...\n",
            "[nltk_data]   Package punkt is already up-to-date!\n"
          ],
          "name": "stdout"
        },
        {
          "output_type": "execute_result",
          "data": {
            "text/plain": [
              "True"
            ]
          },
          "metadata": {
            "tags": []
          },
          "execution_count": 10
        }
      ]
    },
    {
      "cell_type": "markdown",
      "metadata": {
        "id": "qsDvRuj6uPzy"
      },
      "source": [
        "* tokenize 相較於split會是更好的選擇，如 split 無法分開 word. 這種case"
      ]
    },
    {
      "cell_type": "code",
      "metadata": {
        "colab": {
          "base_uri": "https://localhost:8080/"
        },
        "id": "GyWpkdiluPzz",
        "outputId": "f157a168-13e1-4e5f-b27f-654232b7f3eb"
      },
      "source": [
        "review = nltk.word_tokenize(review)\n",
        "print('review after tokenize : {}'.format(review))"
      ],
      "execution_count": 11,
      "outputs": [
        {
          "output_type": "stream",
          "text": [
            "review after tokenize : ['the', 'rock', 'is', 'destined', 'to', 'be', 'the', 'st', 'century', 's', 'new', 'conan', 'and', 'that', 'he', 's', 'going', 'to', 'make', 'a', 'splash', 'even', 'greater', 'than', 'arnold', 'schwarzenegger', 'jean', 'claud', 'van', 'damme', 'or', 'steven', 'segal']\n"
          ],
          "name": "stdout"
        }
      ]
    },
    {
      "cell_type": "markdown",
      "metadata": {
        "id": "xbUYQQm6uPzz"
      },
      "source": [
        "## stopwords: 移除贅字，此步驟為前處理的重要步驟之一，過多的贅字不僅無法提供更多訊息，還會干擾到模型的訓練"
      ]
    },
    {
      "cell_type": "code",
      "metadata": {
        "colab": {
          "base_uri": "https://localhost:8080/"
        },
        "id": "XnzHYYvYuPz0",
        "outputId": "86c81af7-9d27-4e77-d7cf-ebf990d90ed7"
      },
      "source": [
        "#處理文字，有建立好的文字褲會幫我們移除不想要的文字\n",
        "#import nltk\n",
        "nltk.download('stopwords')"
      ],
      "execution_count": 12,
      "outputs": [
        {
          "output_type": "stream",
          "text": [
            "[nltk_data] Downloading package stopwords to /root/nltk_data...\n",
            "[nltk_data]   Package stopwords is already up-to-date!\n"
          ],
          "name": "stdout"
        },
        {
          "output_type": "execute_result",
          "data": {
            "text/plain": [
              "True"
            ]
          },
          "metadata": {
            "tags": []
          },
          "execution_count": 12
        }
      ]
    },
    {
      "cell_type": "code",
      "metadata": {
        "colab": {
          "base_uri": "https://localhost:8080/"
        },
        "id": "hmHHw09GuPz1",
        "outputId": "180cd29d-24fa-4af5-ceed-90413605ebff"
      },
      "source": [
        "review=[word for word in review if not word in set(stopwords.words('english'))]\n",
        "print('review after removeing stopwords : {}'.format(review))"
      ],
      "execution_count": 13,
      "outputs": [
        {
          "output_type": "stream",
          "text": [
            "review after removeing stopwords : ['rock', 'destined', 'st', 'century', 'new', 'conan', 'going', 'make', 'splash', 'even', 'greater', 'arnold', 'schwarzenegger', 'jean', 'claud', 'van', 'damme', 'steven', 'segal']\n"
          ],
          "name": "stdout"
        }
      ]
    },
    {
      "cell_type": "markdown",
      "metadata": {
        "id": "c3aNyz7ZuPz3"
      },
      "source": [
        "## Stemming: 詞幹提取\n",
        " * ex. loves,loved都變成love\n",
        " * 中文沒有詞幹提取的需求"
      ]
    },
    {
      "cell_type": "code",
      "metadata": {
        "id": "dWFMaQ3xuPz5"
      },
      "source": [
        "from nltk.stem.porter import PorterStemmer\n",
        "ps=PorterStemmer()\n",
        "review=[ps.stem(word) for word in review]"
      ],
      "execution_count": 14,
      "outputs": []
    },
    {
      "cell_type": "code",
      "metadata": {
        "colab": {
          "base_uri": "https://localhost:8080/"
        },
        "id": "EX36BFAmuPz6",
        "outputId": "1afadd19-c7ab-4664-d233-65e5a057dc4b"
      },
      "source": [
        "print('review after stemming : {}'.format(review))"
      ],
      "execution_count": 15,
      "outputs": [
        {
          "output_type": "stream",
          "text": [
            "review after stemming : ['rock', 'destin', 'st', 'centuri', 'new', 'conan', 'go', 'make', 'splash', 'even', 'greater', 'arnold', 'schwarzenegg', 'jean', 'claud', 'van', 'damm', 'steven', 'segal']\n"
          ],
          "name": "stdout"
        }
      ]
    },
    {
      "cell_type": "markdown",
      "metadata": {
        "id": "iiElN7ysuPz7"
      },
      "source": [
        "## 練習清理所有的句子"
      ]
    },
    {
      "cell_type": "code",
      "metadata": {
        "id": "Svd3FiCQuPz8"
      },
      "source": [
        "#dataset=pd.read_csv('movie_feedback.csv',encoding = 'Big5',names=['feedback', 'label'] )\n",
        "X = dataset[0].values"
      ],
      "execution_count": 16,
      "outputs": []
    },
    {
      "cell_type": "code",
      "metadata": {
        "id": "keWjLObxuPz8"
      },
      "source": [
        "corpus=[]\n",
        "row=len(X)\n",
        "for i in range(0,row):\n",
        "    review=re.sub('[^a-zA-Z]',' ',X[i])\n",
        "    review=review.lower()\n",
        "    review=review.split()\n",
        "    ps=PorterStemmer()\n",
        "    ## 這裡先不用stopwords 因為 review中很多反定詞會被移掉 如isn't good, 會變成 good\n",
        "    review=[ps.stem(word) for word in review ]\n",
        "    review=' '.join(review)\n",
        "    corpus.append(review)"
      ],
      "execution_count": 17,
      "outputs": []
    },
    {
      "cell_type": "markdown",
      "metadata": {
        "id": "G8qgkGv7uPz9"
      },
      "source": [
        "## 轉bag-of-words vector"
      ]
    },
    {
      "cell_type": "code",
      "metadata": {
        "id": "E46rwSjyuPz-"
      },
      "source": [
        "from sklearn.feature_extraction.text import CountVectorizer\n",
        "#Creating bag of word model\n",
        "#tokenization(符號化)\n",
        "#max_features是要建造幾個column，會按造字出現的高低去篩選 \n",
        "cv = CountVectorizer(max_features=1500)\n",
        "#toarray是建造matrixs\n",
        "#X現在為sparsity就是很多零的matrix\n",
        "X_ = cv.fit_transform(corpus).toarray()\n",
        "Y_ = dataset[1].values"
      ],
      "execution_count": 18,
      "outputs": []
    },
    {
      "cell_type": "markdown",
      "metadata": {
        "id": "bKtAa6VWuPz-"
      },
      "source": [
        "## 選擇練習: 將處理好數據放入 naive_bayes模型，並預測評論為正向或負面，詳細原理之後章節會解釋。"
      ]
    },
    {
      "cell_type": "markdown",
      "metadata": {
        "id": "T9Dc2mfquPz_"
      },
      "source": [
        "## Training"
      ]
    },
    {
      "cell_type": "code",
      "metadata": {
        "colab": {
          "base_uri": "https://localhost:8080/"
        },
        "id": "LiPYuCzLuPz_",
        "outputId": "f932e257-f7b7-4bf7-ccd5-47024e7a1576"
      },
      "source": [
        "\n",
        "from sklearn.model_selection import train_test_split\n",
        "X_train, X_test, y_train, y_test = train_test_split(X_, Y_, test_size = 0.3)\n",
        "\n",
        "# Feature Scaling\n",
        "\n",
        "#Naive Bayes\n",
        "from sklearn.naive_bayes import GaussianNB\n",
        "classifier = GaussianNB()\n",
        "classifier.fit(X_train, y_train)\n"
      ],
      "execution_count": 19,
      "outputs": [
        {
          "output_type": "execute_result",
          "data": {
            "text/plain": [
              "GaussianNB(priors=None, var_smoothing=1e-09)"
            ]
          },
          "metadata": {
            "tags": []
          },
          "execution_count": 19
        }
      ]
    },
    {
      "cell_type": "markdown",
      "metadata": {
        "id": "2gmwCtlzuP0A"
      },
      "source": [
        "## Inference"
      ]
    },
    {
      "cell_type": "code",
      "metadata": {
        "id": "WLrf2k6KuP0A"
      },
      "source": [
        "\n",
        "message='I really like this movie!!'\n",
        "## 要使用一樣的前處理\n",
        "review=re.sub('[^a-zA-Z]',' ',message)\n",
        "review=review.lower()\n",
        "review=review.split()\n",
        "ps=PorterStemmer()\n",
        "review=[ps.stem(word) for word in review]\n",
        "review = ' '.join(review)\n",
        "input_ = cv.transform([review]).toarray()\n",
        "prediction = classifier.predict(input_)\n"
      ],
      "execution_count": 20,
      "outputs": []
    },
    {
      "cell_type": "code",
      "metadata": {
        "colab": {
          "base_uri": "https://localhost:8080/"
        },
        "id": "nki6NdP5uP0B",
        "outputId": "b43433fa-0370-4e3c-a3c3-22abc60f6d8d"
      },
      "source": [
        "prediction ## 1代表正向評價"
      ],
      "execution_count": 21,
      "outputs": [
        {
          "output_type": "execute_result",
          "data": {
            "text/plain": [
              "array([1])"
            ]
          },
          "metadata": {
            "tags": []
          },
          "execution_count": 21
        }
      ]
    },
    {
      "cell_type": "code",
      "metadata": {
        "id": "cqd2NCrruP0B"
      },
      "source": [
        "message='A terrible movie  !!'\n",
        "review=re.sub('[^a-zA-Z]',' ',message)\n",
        "review=review.lower()\n",
        "review=review.split()\n",
        "ps=PorterStemmer()\n",
        "review=[ps.stem(word) for word in review]\n",
        "review = ' '.join(review)\n",
        "input_ = cv.transform([review]).toarray()\n",
        "prediction = classifier.predict(input_)\n",
        "\n"
      ],
      "execution_count": 22,
      "outputs": []
    },
    {
      "cell_type": "code",
      "metadata": {
        "colab": {
          "base_uri": "https://localhost:8080/"
        },
        "id": "O-o5sDwSuP0B",
        "outputId": "a39e167c-80d6-4f59-efaf-a98ba586d028"
      },
      "source": [
        "prediction ## 0代表負面評價"
      ],
      "execution_count": 23,
      "outputs": [
        {
          "output_type": "execute_result",
          "data": {
            "text/plain": [
              "array([0])"
            ]
          },
          "metadata": {
            "tags": []
          },
          "execution_count": 23
        }
      ]
    },
    {
      "cell_type": "code",
      "metadata": {
        "id": "QBNI8YSxuP0C"
      },
      "source": [
        ""
      ],
      "execution_count": 23,
      "outputs": []
    }
  ]
}