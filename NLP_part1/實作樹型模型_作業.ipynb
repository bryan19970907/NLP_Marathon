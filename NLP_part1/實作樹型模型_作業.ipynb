{
  "nbformat": 4,
  "nbformat_minor": 0,
  "metadata": {
    "kernelspec": {
      "display_name": "cupoy_env",
      "language": "python",
      "name": "cupoy_env"
    },
    "language_info": {
      "codemirror_mode": {
        "name": "ipython",
        "version": 3
      },
      "file_extension": ".py",
      "mimetype": "text/x-python",
      "name": "python",
      "nbconvert_exporter": "python",
      "pygments_lexer": "ipython3",
      "version": "3.7.3"
    },
    "colab": {
      "name": "實作樹型模型_作業.ipynb",
      "provenance": [],
      "collapsed_sections": []
    }
  },
  "cells": [
    {
      "cell_type": "markdown",
      "metadata": {
        "id": "r4kO1zm6trGJ"
      },
      "source": [
        "### 作業目的: 實作樹型模型\n",
        "\n",
        "在本次課程中實作了以Entropy計算訊息增益的決策樹模型，而計算訊息增益的方法除了Entropy只外還有Gini。因此本次作業希望讀者實作以Gini計算\n",
        "\n",
        "訊息增益，且基於課程的決策樹模型建構隨機森林模型。\n",
        "\n",
        "在作業資料夾中的`decision_tree_functions.py`檔案有在作業中實作的所有函式，在實作作業中可以充分利用已經寫好的函式"
      ]
    },
    {
      "cell_type": "markdown",
      "metadata": {
        "id": "5M6POfeftrGP"
      },
      "source": [
        "### Q1: 使用Gini計算訊息增益\n",
        "\n",
        "$$\n",
        "Gini = \\sum_{i=1}^cp(i)(1-p(i)) = 1 - \\sum_{i=1}^cp(i)^2\n",
        "$$"
      ]
    },
    {
      "cell_type": "code",
      "metadata": {
        "colab": {
          "base_uri": "https://localhost:8080/"
        },
        "id": "owVidSKixdMf",
        "outputId": "aedd6a5a-326a-4eb9-b881-dd274e928648"
      },
      "source": [
        "from google.colab import drive\r\n",
        "drive.mount('/content/drive')"
      ],
      "execution_count": 1,
      "outputs": [
        {
          "output_type": "stream",
          "text": [
            "Drive already mounted at /content/drive; to attempt to forcibly remount, call drive.mount(\"/content/drive\", force_remount=True).\n"
          ],
          "name": "stdout"
        }
      ]
    },
    {
      "cell_type": "code",
      "metadata": {
        "colab": {
          "base_uri": "https://localhost:8080/"
        },
        "id": "gAegMjgXxiBc",
        "outputId": "8592ae34-e3ef-4f58-a958-6078e21142c8"
      },
      "source": [
        "%cd './drive/My Drive/NLP/day27'"
      ],
      "execution_count": 2,
      "outputs": [
        {
          "output_type": "stream",
          "text": [
            "/content/drive/My Drive/NLP/day27\n"
          ],
          "name": "stdout"
        }
      ]
    },
    {
      "cell_type": "code",
      "metadata": {
        "id": "Gzut0rOVtrGQ"
      },
      "source": [
        "import pandas as pd\n",
        "import numpy as np\n",
        "import random\n",
        "from decision_tree_functions import decision_tree, train_test_split"
      ],
      "execution_count": 3,
      "outputs": []
    },
    {
      "cell_type": "code",
      "metadata": {
        "colab": {
          "base_uri": "https://localhost:8080/",
          "height": 197
        },
        "id": "tcyyGKOmtrGQ",
        "outputId": "67ab2584-6aac-4f76-9309-4826711b221d"
      },
      "source": [
        "# 使用與課程中相同的假資料\n",
        "\n",
        "training_data = [\n",
        "    ['Green', 3.1, 'Apple'],\n",
        "    ['Red', 3.2, 'Apple'],\n",
        "    ['Red', 1.2, 'Grape'],\n",
        "    ['Red', 1, 'Grape'],\n",
        "    ['Yellow', 3.3, 'Lemon'],\n",
        "    ['Yellow', 3.1, 'Lemon'],\n",
        "    ['Green', 3, 'Apple'],\n",
        "    ['Red', 1.1, 'Grape'],\n",
        "    ['Yellow', 3, 'Lemon'],\n",
        "    ['Red', 1.2, 'Grape'],\n",
        "]\n",
        "\n",
        "header = [\"color\", \"diameter\", \"label\"]\n",
        "\n",
        "df = pd.DataFrame(data=training_data, columns=header)\n",
        "df.head()"
      ],
      "execution_count": 4,
      "outputs": [
        {
          "output_type": "execute_result",
          "data": {
            "text/html": [
              "<div>\n",
              "<style scoped>\n",
              "    .dataframe tbody tr th:only-of-type {\n",
              "        vertical-align: middle;\n",
              "    }\n",
              "\n",
              "    .dataframe tbody tr th {\n",
              "        vertical-align: top;\n",
              "    }\n",
              "\n",
              "    .dataframe thead th {\n",
              "        text-align: right;\n",
              "    }\n",
              "</style>\n",
              "<table border=\"1\" class=\"dataframe\">\n",
              "  <thead>\n",
              "    <tr style=\"text-align: right;\">\n",
              "      <th></th>\n",
              "      <th>color</th>\n",
              "      <th>diameter</th>\n",
              "      <th>label</th>\n",
              "    </tr>\n",
              "  </thead>\n",
              "  <tbody>\n",
              "    <tr>\n",
              "      <th>0</th>\n",
              "      <td>Green</td>\n",
              "      <td>3.1</td>\n",
              "      <td>Apple</td>\n",
              "    </tr>\n",
              "    <tr>\n",
              "      <th>1</th>\n",
              "      <td>Red</td>\n",
              "      <td>3.2</td>\n",
              "      <td>Apple</td>\n",
              "    </tr>\n",
              "    <tr>\n",
              "      <th>2</th>\n",
              "      <td>Red</td>\n",
              "      <td>1.2</td>\n",
              "      <td>Grape</td>\n",
              "    </tr>\n",
              "    <tr>\n",
              "      <th>3</th>\n",
              "      <td>Red</td>\n",
              "      <td>1.0</td>\n",
              "      <td>Grape</td>\n",
              "    </tr>\n",
              "    <tr>\n",
              "      <th>4</th>\n",
              "      <td>Yellow</td>\n",
              "      <td>3.3</td>\n",
              "      <td>Lemon</td>\n",
              "    </tr>\n",
              "  </tbody>\n",
              "</table>\n",
              "</div>"
            ],
            "text/plain": [
              "    color  diameter  label\n",
              "0   Green       3.1  Apple\n",
              "1     Red       3.2  Apple\n",
              "2     Red       1.2  Grape\n",
              "3     Red       1.0  Grape\n",
              "4  Yellow       3.3  Lemon"
            ]
          },
          "metadata": {
            "tags": []
          },
          "execution_count": 4
        }
      ]
    },
    {
      "cell_type": "code",
      "metadata": {
        "id": "4mWSSeF5trGS"
      },
      "source": [
        "#Gini impurity\n",
        "def calculate_gini(data):\n",
        "    \n",
        "    #取的資料的label訊息\n",
        "    ###<your code>###\n",
        "    data_label = data[:,-1]\n",
        "    \n",
        "    #取得所有輸入資料的獨立類別與其個數\n",
        "    ###<your code>###\n",
        "    unique_class , counts = np.unique(data_label , return_counts = True)\n",
        "    \n",
        "    #計算機率\n",
        "    ###<your code>###\n",
        "    probability = counts / counts.sum()\n",
        "    \n",
        "    #計算gini impurity\n",
        "    ###<your code>###\n",
        "    gini = 1 - sum(probability**2)\n",
        "    \n",
        "    return gini"
      ],
      "execution_count": 5,
      "outputs": []
    },
    {
      "cell_type": "code",
      "metadata": {
        "colab": {
          "base_uri": "https://localhost:8080/"
        },
        "id": "LiN_AKl_trGS",
        "outputId": "31f96be0-2dcb-478f-ac09-f8f7e0a9cd38"
      },
      "source": [
        "#分割資料集\n",
        "###<your code>###\n",
        "train_df, test_df = train_test_split(df, 0.2)\n",
        "\n",
        "#以Gini inpurity作為metric_function訓練決策樹\n",
        "tree = decision_tree(metric_function=calculate_gini , task_type = 'classification', counter = 0 , min_samples=2, max_depth=5)\n",
        "tree.fit(train_df)"
      ],
      "execution_count": 6,
      "outputs": [
        {
          "output_type": "execute_result",
          "data": {
            "text/plain": [
              "{'diameter <= 1.2': ['Grape', {'color = Yellow': ['Lemon', 'Apple']}]}"
            ]
          },
          "metadata": {
            "tags": []
          },
          "execution_count": 6
        }
      ]
    },
    {
      "cell_type": "code",
      "metadata": {
        "colab": {
          "base_uri": "https://localhost:8080/",
          "height": 35
        },
        "id": "k3my79qQtrGS",
        "outputId": "0334fc4b-85bc-40ff-9729-00bbf74e169c"
      },
      "source": [
        "# 以建構好的樹進行預測\n",
        "sample = test_df.iloc[0]\n",
        "###<your code>###\n",
        "tree.pred(sample,tree.sub_tree)"
      ],
      "execution_count": 7,
      "outputs": [
        {
          "output_type": "execute_result",
          "data": {
            "application/vnd.google.colaboratory.intrinsic+json": {
              "type": "string"
            },
            "text/plain": [
              "'Lemon'"
            ]
          },
          "metadata": {
            "tags": []
          },
          "execution_count": 7
        }
      ]
    },
    {
      "cell_type": "code",
      "metadata": {
        "colab": {
          "base_uri": "https://localhost:8080/"
        },
        "id": "bk3dMWAttrGT",
        "outputId": "8cae3198-b6ce-4cb8-fc95-703ffa9508c2"
      },
      "source": [
        "sample"
      ],
      "execution_count": 8,
      "outputs": [
        {
          "output_type": "execute_result",
          "data": {
            "text/plain": [
              "color       Yellow\n",
              "diameter         3\n",
              "label        Lemon\n",
              "Name: 8, dtype: object"
            ]
          },
          "metadata": {
            "tags": []
          },
          "execution_count": 8
        }
      ]
    },
    {
      "cell_type": "markdown",
      "metadata": {
        "id": "mS-7aByBtrGT"
      },
      "source": [
        "### Q2: 實作隨機森林\n",
        "利用決策樹來實作隨機森林模型，讀者可參考隨機森林課程講義。\n",
        "\n",
        "此份作業只要求讀者實作隨機sample訓練資料，而隨機sample特徵進行訓練的部分，讀者可以參考`decision_tree_functions.py`中的`get_potential_splits`與`decision_tree`部分(新增參數`random_features`)"
      ]
    },
    {
      "cell_type": "code",
      "metadata": {
        "id": "D0eExA8FtrGT"
      },
      "source": [
        "class random_forest():\n",
        "    '''Random forest model\n",
        "    Parameters\n",
        "    ----------\n",
        "    n_boostrap: int\n",
        "        number of samples to sample to train indivisual decision tree\n",
        "    n_tree: int\n",
        "        number of trees to form a forest\n",
        "    '''\n",
        "    \n",
        "    def __init__(self, n_bootstrap, n_trees, task_type, min_samples, max_depth, metric_function, n_features=None):\n",
        "        self.n_bootstrap = n_bootstrap\n",
        "        self.n_trees = n_trees\n",
        "        self.task_type = task_type\n",
        "        self.min_samples = min_samples\n",
        "        self.max_depth = max_depth\n",
        "        self.metric_function = metric_function\n",
        "        self.n_features = n_features\n",
        "    \n",
        "    def bootstrapping(self, train_df, n_bootstrap):\n",
        "        #sample data to be used to train individual tree\n",
        "        indices = list(train_df.index)\n",
        "        bootstrap_indices = random.sample(population=indices, k=n_bootstrap)\n",
        "        \n",
        "        df_bootstrapped = df.iloc[bootstrap_indices,:]\n",
        "        \n",
        "        #avoid pick the samples with all the same label\n",
        "        labels = df_bootstrapped[:,-1].vlaues\n",
        "        if len(np.unique(labels))==1:\n",
        "          df_bootstrapped = self.bootstrapping(train_df , n_bootstrap)\n",
        "\n",
        "        return df_bootstrapped\n",
        "    \n",
        "    def fit(self, train_df):\n",
        "        \n",
        "        self.forest = []\n",
        "        \n",
        "        \n",
        "        for i in range(self.n_trees):\n",
        "          tree = decision_tree(metric_function=self.metric_function , task_type =self.task_type  , counter = 0 , min_samples=self.min_samples , max_depth=self.max_depth)\n",
        "          tree.fit(train_df)\n",
        "          self.forest.append(tree)\n",
        "        \"\"\"\"\n",
        "        for i in range(self.n_trees):\n",
        "            tree = decision_tree(self.metric_function, self.task_type, 0, self.min_samples, self.max_depth, self.n_features)\n",
        "            tree.fit(train_df)\n",
        "            self.forest.append(tree)\n",
        "        \"\"\"\n",
        "\n",
        "        return self.forest\n",
        "    \n",
        "    def pred(self, test_df):\n",
        "        df_predictions = {}\n",
        "        \n",
        "        # 不能先用iloc，因為index是亂的\n",
        "        test_df = test_df.reset_index(drop=True)\n",
        "        test_df = test_df.iloc[: , :-1]\n",
        "\n",
        "        #########\n",
        "        #注意:實作的決策樹每次只能預測\"一筆資料\"\n",
        "        #########\n",
        "        \n",
        "        for j in range(len(test_df)):\n",
        "          pred_list = []\n",
        "          for i in range(self.n_trees):\n",
        "            predictions = self.forest[i].pred(test_df.iloc[j,:] , self.forest[i].sub_tree)\n",
        "            # https://stackoverflow.com/questions/17839973/constructing-pandas-dataframe-from-values-in-variables-gives-valueerror-if-usi\n",
        "            pred_list.append(predictions)\n",
        "          df_predictions[f'{j}th data'] = pred_list\n",
        "\n",
        "\n",
        "        df_predictions = pd.DataFrame(df_predictions)\n",
        "        print(df_predictions)\n",
        "        #majority voting\n",
        "        random_forest_predictions = []\n",
        "        \n",
        "        if self.task_type == 'classification':\n",
        "          for i in range(len(test_df)):\n",
        "            all_classifier_per_data = df_predictions.iloc[i,:].values\n",
        "            labels , counts = np.unique(all_classifier_per_data , return_counts = True)\n",
        "            index = np.argsort(counts)\n",
        "            random_forest_predictions.append(labels[index])\n",
        "\n",
        "        else:\n",
        "          for i in range(len(test_df)):\n",
        "            all_classifier_per_data = df_predictions.iloc[i,:].values\n",
        "            mean = np.mean(all_classifier_per_data)\n",
        "            random_forest_predictions.append(mean)\n",
        "        \n",
        "        return random_forest_predictions"
      ],
      "execution_count": 9,
      "outputs": []
    },
    {
      "cell_type": "code",
      "metadata": {
        "colab": {
          "base_uri": "https://localhost:8080/"
        },
        "id": "kxYZOVMMtrGU",
        "outputId": "125c07df-1d8c-42b3-da95-c6dca5549c0a"
      },
      "source": [
        "train_df, test_df = train_test_split(df, 0.2)\n",
        "\n",
        "#建立隨機森林模型\n",
        "###<your code>###\n",
        "forest = random_forest(n_bootstrap =5 , n_trees = 4 , task_type = 'classification', min_samples=2 , max_depth=5 , metric_function = calculate_gini)\n",
        "forest.fit(train_df)"
      ],
      "execution_count": 10,
      "outputs": [
        {
          "output_type": "execute_result",
          "data": {
            "text/plain": [
              "[<decision_tree_functions.decision_tree at 0x7f26385767b8>,\n",
              " <decision_tree_functions.decision_tree at 0x7f2638576940>,\n",
              " <decision_tree_functions.decision_tree at 0x7f2638576978>,\n",
              " <decision_tree_functions.decision_tree at 0x7f2638576c50>]"
            ]
          },
          "metadata": {
            "tags": []
          },
          "execution_count": 10
        }
      ]
    },
    {
      "cell_type": "code",
      "metadata": {
        "colab": {
          "base_uri": "https://localhost:8080/",
          "height": 107
        },
        "id": "05YiFWuFDbgV",
        "outputId": "30703c5f-ae94-4ffc-dbd8-3a47748810bf"
      },
      "source": [
        "test_df"
      ],
      "execution_count": 11,
      "outputs": [
        {
          "output_type": "execute_result",
          "data": {
            "text/html": [
              "<div>\n",
              "<style scoped>\n",
              "    .dataframe tbody tr th:only-of-type {\n",
              "        vertical-align: middle;\n",
              "    }\n",
              "\n",
              "    .dataframe tbody tr th {\n",
              "        vertical-align: top;\n",
              "    }\n",
              "\n",
              "    .dataframe thead th {\n",
              "        text-align: right;\n",
              "    }\n",
              "</style>\n",
              "<table border=\"1\" class=\"dataframe\">\n",
              "  <thead>\n",
              "    <tr style=\"text-align: right;\">\n",
              "      <th></th>\n",
              "      <th>color</th>\n",
              "      <th>diameter</th>\n",
              "      <th>label</th>\n",
              "    </tr>\n",
              "  </thead>\n",
              "  <tbody>\n",
              "    <tr>\n",
              "      <th>1</th>\n",
              "      <td>Red</td>\n",
              "      <td>3.2</td>\n",
              "      <td>Apple</td>\n",
              "    </tr>\n",
              "    <tr>\n",
              "      <th>5</th>\n",
              "      <td>Yellow</td>\n",
              "      <td>3.1</td>\n",
              "      <td>Lemon</td>\n",
              "    </tr>\n",
              "  </tbody>\n",
              "</table>\n",
              "</div>"
            ],
            "text/plain": [
              "    color  diameter  label\n",
              "1     Red       3.2  Apple\n",
              "5  Yellow       3.1  Lemon"
            ]
          },
          "metadata": {
            "tags": []
          },
          "execution_count": 11
        }
      ]
    },
    {
      "cell_type": "code",
      "metadata": {
        "colab": {
          "base_uri": "https://localhost:8080/"
        },
        "id": "8i28G2fQtrGU",
        "outputId": "28b6a462-31ee-41c4-92c1-44a972b22880"
      },
      "source": [
        "forest.pred(test_df)"
      ],
      "execution_count": 12,
      "outputs": [
        {
          "output_type": "stream",
          "text": [
            "  0th data 1th data\n",
            "0    Apple    Lemon\n",
            "1    Apple    Lemon\n",
            "2    Apple    Lemon\n",
            "3    Apple    Lemon\n"
          ],
          "name": "stdout"
        },
        {
          "output_type": "execute_result",
          "data": {
            "text/plain": [
              "[array(['Apple', 'Lemon'], dtype=object),\n",
              " array(['Apple', 'Lemon'], dtype=object)]"
            ]
          },
          "metadata": {
            "tags": []
          },
          "execution_count": 12
        }
      ]
    }
  ]
}