{
  "nbformat": 4,
  "nbformat_minor": 0,
  "metadata": {
    "colab": {
      "name": "spam_nb_垃圾郵件偵測器(作業)",
      "provenance": [],
      "collapsed_sections": []
    },
    "kernelspec": {
      "name": "python3",
      "display_name": "Python 3"
    }
  },
  "cells": [
    {
      "cell_type": "code",
      "metadata": {
        "colab": {
          "base_uri": "https://localhost:8080/"
        },
        "id": "LaUTnfXa_haj",
        "outputId": "2d6b749f-4899-4ac4-b8e8-9d2f5d705936"
      },
      "source": [
        "from google.colab import drive\r\n",
        "drive.mount('/content/drive')"
      ],
      "execution_count": 1,
      "outputs": [
        {
          "output_type": "stream",
          "text": [
            "Mounted at /content/drive\n"
          ],
          "name": "stdout"
        }
      ]
    },
    {
      "cell_type": "code",
      "metadata": {
        "colab": {
          "base_uri": "https://localhost:8080/"
        },
        "id": "hbu_SEou_mkz",
        "outputId": "36a4f767-0c69-4aaa-f134-a6fe65ad736d"
      },
      "source": [
        "%cd './drive/My Drive/NLP/day34'"
      ],
      "execution_count": 2,
      "outputs": [
        {
          "output_type": "stream",
          "text": [
            "/content/drive/My Drive/NLP/day34\n"
          ],
          "name": "stdout"
        }
      ]
    },
    {
      "cell_type": "code",
      "metadata": {
        "colab": {
          "base_uri": "https://localhost:8080/"
        },
        "id": "VhdeznAB_2XP",
        "outputId": "f14aeca0-974b-411a-ba2a-1981baf456d0"
      },
      "source": [
        "!ls"
      ],
      "execution_count": 3,
      "outputs": [
        {
          "output_type": "stream",
          "text": [
            "'spambase(作業數據).data'\t      'spam_nb_垃圾郵件偵測器(作業).py'\n",
            "'spam_nb_垃圾郵件偵測器(作業).ipynb'  'spam_nb_垃圾郵件偵測器(範例).py'\n"
          ],
          "name": "stdout"
        }
      ]
    },
    {
      "cell_type": "code",
      "metadata": {
        "id": "en6J630WAi3q",
        "colab": {
          "base_uri": "https://localhost:8080/"
        },
        "outputId": "bf7610de-b5eb-4138-e2c3-de309507a1e1"
      },
      "source": [
        "#題目: 將已整理好的文件以機器學習方式分辨是否為垃圾郵件\r\n",
        "#說明：輸入文件已處理過，為一D乘V(V=48)+1矩陣，D代表電郵數，V代表選出來(判斷是否垃圾)的字(特徵)，\r\n",
        "#所以我們是用48個特徵來判斷。列中每行表達的特徵值(feature)=出現次數 / 該電郵總字數 * 100，\r\n",
        "#最後一行是標註(Label)是否為垃圾郵件。請用ML方法開發出垃圾郵件偵測器並算出預測準確度\r\n",
        "#延伸:可用不同ML分類法，可準備自己的垃圾郵件做預處理。\r\n",
        "#範例程式檔名: spam_nb_垃圾郵件偵測器.py，以Naïve Bayes方式完成\r\n",
        "#模組: sklearn, pandas, numpy\r\n",
        "#輸入檔：spambase.data\r\n",
        "#成績：辨識百分率\r\n",
        "\r\n",
        "\r\n",
        "from __future__ import print_function, division\r\n",
        "from builtins import range\r\n",
        "\r\n",
        "\r\n",
        "import pandas as pd\r\n",
        "import numpy as np\r\n",
        "\r\n",
        "# 註: 理論上 multinomial NB 是針對出現次數 \"counts\", 但文件上說對出現比率 \"word proportions\"也適合\r\n",
        "\r\n",
        "data = pd.read_csv('spambase(作業數據).data').values # use pandas for convenience\r\n",
        "np.random.shuffle(data) # shuffle each row in-place, but preserve the row\r\n",
        "\r\n",
        "X = data[:,:48]\r\n",
        "Y = data[:,-1]\r\n",
        "\r\n",
        "# 不一定用100列 作測試 100->80 試試\r\n",
        "Xtrain = X[:-80,]\r\n",
        "Ytrain = Y[:-80,]\r\n",
        "Xtest = X[-80:,]\r\n",
        "Ytest = Y[-80:,]\r\n",
        "\r\n",
        "# 我們在習題中，不用Naive Bayes\r\n",
        "#from sklearn.naive_bayes import MultinomialNB\r\n",
        "#model = MultinomialNB()\r\n",
        "#model.fit(Xtrain, Ytrain)\r\n",
        "#print(\"Classification rate for NB:\", model.score(Xtest, Ytest))\r\n",
        "\r\n",
        "# Decision Tree 的準確度如何？\r\n",
        "from sklearn.tree import DecisionTreeClassifier\r\n",
        "model = DecisionTreeClassifier()\r\n",
        "model.fit(Xtrain, Ytrain)\r\n",
        "print(\"Classification rate for Decision Tree:\", model.score(Xtest, Ytest))\r\n",
        "\r\n",
        "##### 任何 model都行，以下試試 AdaBoost! #####\r\n",
        "from sklearn.ensemble import AdaBoostClassifier\r\n",
        "model = AdaBoostClassifier()\r\n",
        "model.fit(Xtrain, Ytrain)\r\n",
        "print(\"Classification rate for AdaBoost:\", model.score(Xtest, Ytest))\r\n",
        "\r\n",
        "#####也可試試其他的\r\n",
        "## https://scikit-learn.org/stable/auto_examples/classification/plot_classifier_comparison.html"
      ],
      "execution_count": 5,
      "outputs": [
        {
          "output_type": "stream",
          "text": [
            "Classification rate for Decision Tree: 0.9375\n",
            "Classification rate for AdaBoost: 0.9625\n"
          ],
          "name": "stdout"
        }
      ]
    }
  ]
}